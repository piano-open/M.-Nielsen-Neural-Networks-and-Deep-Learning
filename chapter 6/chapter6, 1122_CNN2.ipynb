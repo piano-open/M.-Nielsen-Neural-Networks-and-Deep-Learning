{
 "cells": [
  {
   "cell_type": "markdown",
   "id": "9cdefe56",
   "metadata": {},
   "source": [
    "<h1>M. Nielsen, Chapter 6, second cnn model</h1>"
   ]
  },
  {
   "cell_type": "code",
   "execution_count": 3,
   "id": "80f03fd8",
   "metadata": {},
   "outputs": [
    {
     "data": {
      "text/html": [
       "<style>.container { width:100% !important; }</style>"
      ],
      "text/plain": [
       "<IPython.core.display.HTML object>"
      ]
     },
     "metadata": {},
     "output_type": "display_data"
    }
   ],
   "source": [
    "from IPython.core.display import display, HTML\n",
    "display(HTML(\"<style>.container { width:100% !important; }</style>\"))"
   ]
  },
  {
   "cell_type": "code",
   "execution_count": 5,
   "id": "f41fb54e",
   "metadata": {},
   "outputs": [],
   "source": [
    "import os\n",
    "import numpy as np\n",
    "import time\n",
    "import random\n",
    "import tensorflow as tf"
   ]
  },
  {
   "cell_type": "code",
   "execution_count": 7,
   "id": "a66d1ec7",
   "metadata": {},
   "outputs": [],
   "source": [
    "from matplotlib import pyplot as plt"
   ]
  },
  {
   "cell_type": "code",
   "execution_count": 9,
   "id": "288c3614",
   "metadata": {},
   "outputs": [],
   "source": [
    "os.chdir(r\"C:\\Users\\mchen\\OneDrive\\桌面\\ml\\code\\tutorial\\chapter3\\20211119\\multi_layer\")"
   ]
  },
  {
   "cell_type": "code",
   "execution_count": 11,
   "id": "23658ba4",
   "metadata": {},
   "outputs": [],
   "source": [
    "import mnist_loader\n",
    "training_data, validation_data, test_data = mnist_loader.load_data_wrapper()"
   ]
  },
  {
   "cell_type": "code",
   "execution_count": 13,
   "id": "83beedea",
   "metadata": {},
   "outputs": [
    {
     "name": "stdout",
     "output_type": "stream",
     "text": [
      "(50000, 28, 28)\n",
      "(10000, 28, 28)\n",
      "(10000, 28, 28)\n"
     ]
    }
   ],
   "source": [
    "###############################################\n",
    "#    load data from local directory\n",
    "###############################################\n",
    "\n",
    "train_x, train_y, val_x, val_y, test_x, test_y = [], [], [], [], [], []\n",
    "\n",
    "training_data, validation_data, test_data = mnist_loader.load_data_wrapper()\n",
    "\n",
    "for tra in training_data:\n",
    "    img_tra_x = tra[0].reshape(28,28).tolist()\n",
    "    img_tra_y = np.array(np.argmax(tra[1]), dtype=np.uint8)\n",
    "    train_x.append(img_tra_x)\n",
    "    train_y.append(img_tra_y)\n",
    "print(np.shape(train_x))\n",
    "\n",
    "for val in validation_data:\n",
    "    img_val_x = val[0].reshape(28,28)\n",
    "#     img_val_y = np.array(np.argmax(val[1]), dtype=np.uint8)\n",
    "    img_val_y = np.array(val[1], dtype=np.uint8)\n",
    "    val_x.append(img_val_x)\n",
    "    val_y.append(img_val_y)\n",
    "print(np.shape(val_x))\n",
    "\n",
    "for tes in test_data:\n",
    "    img_tes_x = tes[0].reshape(28,28)\n",
    "    img_tes_y = np.array(tes[1], dtype=np.uint8)\n",
    "    test_x.append(img_tes_x)\n",
    "    test_y.append(img_tes_y)\n",
    "print(np.shape(test_x))\n",
    "\n",
    "\n",
    "train_x = np.array(train_x)\n",
    "val_x = np.array(val_x)\n",
    "test_x = np.array(test_x)\n",
    "\n",
    "train_y = np.array(train_y)\n",
    "val_y = np.array(val_y)\n",
    "test_y = np.array(test_y)"
   ]
  },
  {
   "cell_type": "code",
   "execution_count": 16,
   "id": "a6195c4c",
   "metadata": {},
   "outputs": [],
   "source": [
    "# ###############################################\n",
    "# #    checking data format:\n",
    "# ###############################################\n",
    "# plt.imshow(train_x[0], interpolation='none')\n",
    "# plt.show()\n",
    "# print('img label:', train_y[0])\n",
    "\n",
    "# plt.imshow(val_x[0], interpolation='none')\n",
    "# plt.show()\n",
    "# print('img label:', val_y[0])\n",
    "\n",
    "# plt.imshow(test_x[0], interpolation='none')\n",
    "# plt.show()\n",
    "# print('img label:', test_y[0])\n"
   ]
  },
  {
   "cell_type": "markdown",
   "id": "52d46730",
   "metadata": {},
   "source": [
    "<h1>Trying Implementing the second CNN model as described in M. Nielsen, Chapter 6</h1>\t"
   ]
  },
  {
   "cell_type": "code",
   "execution_count": 17,
   "id": "cc3ad697",
   "metadata": {},
   "outputs": [],
   "source": [
    "# >>> net = Network([\n",
    "#         ConvPoolLayer(image_shape=(mini_batch_size, 1, 28, 28), \n",
    "#                       filter_shape=(20, 1, 5, 5), \n",
    "#                       poolsize=(2, 2)),\n",
    "#         ConvPoolLayer(image_shape=(mini_batch_size, 20, 12, 12), \n",
    "#                       filter_shape=(40, 20, 5, 5), \n",
    "#                       poolsize=(2, 2)),\n",
    "#         FullyConnectedLayer(n_in=40*4*4, n_out=100),\n",
    "#         SoftmaxLayer(n_in=100, n_out=10)], mini_batch_size)\n",
    "# >>> net.SGD(training_data, 60, mini_batch_size, 0.1, \n",
    "#             validation_data, test_data)      "
   ]
  },
  {
   "cell_type": "markdown",
   "id": "e20125be",
   "metadata": {},
   "source": [
    "<h1>Reshape data</h1>"
   ]
  },
  {
   "cell_type": "code",
   "execution_count": 18,
   "id": "380e303a",
   "metadata": {},
   "outputs": [],
   "source": [
    "# reshape data\n",
    "train_x = train_x.reshape(np.shape(train_x)[0], np.shape(train_x)[1], np.shape(train_x)[2], 1)\n",
    "val_x = val_x.reshape(np.shape(val_x)[0], np.shape(val_x)[1], np.shape(val_x)[2], 1)\n",
    "test_x = test_x.reshape(np.shape(test_x)[0], np.shape(test_x)[1], np.shape(test_x)[2], 1)\n",
    "\n",
    "train_y = tf.one_hot(train_y.astype(np.int32), depth=10)\n",
    "val_y = tf.one_hot(val_y.astype(np.int32), depth=10)\n",
    "test_y = tf.one_hot(test_y.astype(np.int32), depth=10)"
   ]
  },
  {
   "cell_type": "markdown",
   "id": "a1a5ed99",
   "metadata": {},
   "source": [
    "<h1>Build Network model</h1>"
   ]
  },
  {
   "cell_type": "code",
   "execution_count": 19,
   "id": "7a55b4d7",
   "metadata": {},
   "outputs": [
    {
     "name": "stdout",
     "output_type": "stream",
     "text": [
      "Model: \"sequential\"\n",
      "_________________________________________________________________\n",
      "Layer (type)                 Output Shape              Param #   \n",
      "=================================================================\n",
      "conv2d (Conv2D)              (None, 24, 24, 20)        520       \n",
      "_________________________________________________________________\n",
      "max_pooling2d (MaxPooling2D) (None, 12, 12, 20)        0         \n",
      "_________________________________________________________________\n",
      "conv2d_1 (Conv2D)            (None, 8, 8, 40)          20040     \n",
      "_________________________________________________________________\n",
      "max_pooling2d_1 (MaxPooling2 (None, 4, 4, 40)          0         \n",
      "_________________________________________________________________\n",
      "flatten (Flatten)            (None, 640)               0         \n",
      "_________________________________________________________________\n",
      "dense (Dense)                (None, 100)               64100     \n",
      "_________________________________________________________________\n",
      "dense_1 (Dense)              (None, 10)                1010      \n",
      "=================================================================\n",
      "Total params: 85,670\n",
      "Trainable params: 85,670\n",
      "Non-trainable params: 0\n",
      "_________________________________________________________________\n"
     ]
    }
   ],
   "source": [
    "################################################################\n",
    "#   first CNN network as described in chapter 6\n",
    "################################################################\n",
    "tf.random.set_seed(42)\n",
    "################################################################\n",
    "\n",
    "################################################################\n",
    "# construct netwoek model\n",
    "\n",
    "input_shape = (28, 28, 1)\n",
    "\n",
    "model = tf.keras.models.Sequential()\n",
    "\n",
    "model.add(\n",
    "    tf.keras.layers.Conv2D( # no padding\n",
    "        20,\n",
    "        (5,5),\n",
    "        activation=tf.nn.sigmoid,\n",
    "        input_shape=input_shape\n",
    "    )\n",
    ")\n",
    "\n",
    "model.add(\n",
    "    tf.keras.layers.MaxPool2D(\n",
    "        strides=(2,2)\n",
    "    )\n",
    ")\n",
    "\n",
    "model.add(\n",
    "    tf.keras.layers.Conv2D( # no padding\n",
    "        40,\n",
    "        (5,5),\n",
    "        activation=tf.nn.sigmoid,\n",
    "    )\n",
    ")\n",
    "\n",
    "model.add(\n",
    "    tf.keras.layers.MaxPool2D(\n",
    "        strides=(2,2)\n",
    "    )\n",
    ")\n",
    "\n",
    "model.add(\n",
    "    tf.keras.layers.Flatten()\n",
    ")\n",
    "\n",
    "model.add(\n",
    "    tf.keras.layers.Dense(\n",
    "        100,\n",
    "        activation=tf.nn.sigmoid,\n",
    "        kernel_initializer=tf.keras.initializers.RandomNormal(\n",
    "            stddev=1.0),\n",
    "        bias_initializer=tf.keras.initializers.RandomNormal(\n",
    "            stddev=1.0)\n",
    "    )\n",
    ")\n",
    "\n",
    "model.add(\n",
    "    tf.keras.layers.Dense(\n",
    "        10,\n",
    "        activation=tf.nn.softmax,\n",
    "    )\n",
    ")\n",
    "################################################################\n",
    "\n",
    "################################################################\n",
    "# compile model\n",
    "n_eph = 60\n",
    "eta = 0.1\n",
    "model.compile(\n",
    "    optimizer=tf.keras.optimizers.SGD(\n",
    "        learning_rate=eta,\n",
    "        momentum=0.0,\n",
    "        nesterov=False,\n",
    "        name=\"SGD\"),\n",
    "    loss='categorical_crossentropy',\n",
    "    metrics=['accuracy']\n",
    ")\n",
    "\n",
    "################################################################\n",
    "model.summary()\n"
   ]
  },
  {
   "cell_type": "markdown",
   "id": "5e254e40",
   "metadata": {},
   "source": [
    "<h1>Train Network</h1>"
   ]
  },
  {
   "cell_type": "code",
   "execution_count": 22,
   "id": "832fe3dd",
   "metadata": {
    "scrolled": true
   },
   "outputs": [
    {
     "name": "stdout",
     "output_type": "stream",
     "text": [
      "Epoch 1/60\n",
      "5000/5000 [==============================] - 29s 6ms/step - loss: 0.0034 - accuracy: 0.9998 - val_loss: 0.0485 - val_accuracy: 0.9880\n",
      "Epoch 2/60\n",
      "5000/5000 [==============================] - 29s 6ms/step - loss: 0.0032 - accuracy: 0.9998 - val_loss: 0.0491 - val_accuracy: 0.9875\n",
      "Epoch 3/60\n",
      "5000/5000 [==============================] - 29s 6ms/step - loss: 0.0030 - accuracy: 0.9998 - val_loss: 0.0487 - val_accuracy: 0.9879\n",
      "Epoch 4/60\n",
      "5000/5000 [==============================] - 29s 6ms/step - loss: 0.0027 - accuracy: 0.9998 - val_loss: 0.0485 - val_accuracy: 0.9879\n",
      "Epoch 5/60\n",
      "5000/5000 [==============================] - 28s 6ms/step - loss: 0.0024 - accuracy: 0.9999 - val_loss: 0.0489 - val_accuracy: 0.9878\n",
      "Epoch 6/60\n",
      "5000/5000 [==============================] - 29s 6ms/step - loss: 0.0023 - accuracy: 0.9999 - val_loss: 0.0492 - val_accuracy: 0.9875\n",
      "Epoch 7/60\n",
      "5000/5000 [==============================] - 29s 6ms/step - loss: 0.0022 - accuracy: 0.9999 - val_loss: 0.0495 - val_accuracy: 0.9881\n",
      "Epoch 8/60\n",
      "5000/5000 [==============================] - 29s 6ms/step - loss: 0.0021 - accuracy: 0.9999 - val_loss: 0.0485 - val_accuracy: 0.9884\n",
      "Epoch 9/60\n",
      "5000/5000 [==============================] - 29s 6ms/step - loss: 0.0020 - accuracy: 0.9999 - val_loss: 0.0494 - val_accuracy: 0.9875\n",
      "Epoch 10/60\n",
      "5000/5000 [==============================] - 30s 6ms/step - loss: 0.0018 - accuracy: 0.9999 - val_loss: 0.0495 - val_accuracy: 0.9881\n",
      "Epoch 11/60\n",
      "5000/5000 [==============================] - 30s 6ms/step - loss: 0.0018 - accuracy: 0.9999 - val_loss: 0.0501 - val_accuracy: 0.9880\n",
      "Epoch 12/60\n",
      "5000/5000 [==============================] - 30s 6ms/step - loss: 0.0016 - accuracy: 1.0000 - val_loss: 0.0496 - val_accuracy: 0.9880\n",
      "Epoch 13/60\n",
      "5000/5000 [==============================] - 30s 6ms/step - loss: 0.0016 - accuracy: 1.0000 - val_loss: 0.0496 - val_accuracy: 0.9878\n",
      "Epoch 14/60\n",
      "5000/5000 [==============================] - 31s 6ms/step - loss: 0.0015 - accuracy: 1.0000 - val_loss: 0.0494 - val_accuracy: 0.9881\n",
      "Epoch 15/60\n",
      "5000/5000 [==============================] - 31s 6ms/step - loss: 0.0014 - accuracy: 1.0000 - val_loss: 0.0498 - val_accuracy: 0.9878\n",
      "Epoch 16/60\n",
      "5000/5000 [==============================] - 32s 6ms/step - loss: 0.0014 - accuracy: 1.0000 - val_loss: 0.0500 - val_accuracy: 0.9879\n",
      "Epoch 17/60\n",
      "5000/5000 [==============================] - 33s 7ms/step - loss: 0.0013 - accuracy: 1.0000 - val_loss: 0.0501 - val_accuracy: 0.9876\n",
      "Epoch 18/60\n",
      "5000/5000 [==============================] - 33s 7ms/step - loss: 0.0013 - accuracy: 1.0000 - val_loss: 0.0501 - val_accuracy: 0.9880\n",
      "Epoch 19/60\n",
      "5000/5000 [==============================] - 34s 7ms/step - loss: 0.0012 - accuracy: 1.0000 - val_loss: 0.0505 - val_accuracy: 0.9880\n",
      "Epoch 20/60\n",
      "5000/5000 [==============================] - 36s 7ms/step - loss: 0.0012 - accuracy: 1.0000 - val_loss: 0.0506 - val_accuracy: 0.9874\n",
      "Epoch 21/60\n",
      "5000/5000 [==============================] - 35s 7ms/step - loss: 0.0012 - accuracy: 1.0000 - val_loss: 0.0507 - val_accuracy: 0.9882\n",
      "Epoch 22/60\n",
      "5000/5000 [==============================] - 35s 7ms/step - loss: 0.0011 - accuracy: 1.0000 - val_loss: 0.0506 - val_accuracy: 0.9879\n",
      "Epoch 23/60\n",
      "5000/5000 [==============================] - 35s 7ms/step - loss: 0.0011 - accuracy: 1.0000 - val_loss: 0.0503 - val_accuracy: 0.9879\n",
      "Epoch 24/60\n",
      "5000/5000 [==============================] - 35s 7ms/step - loss: 0.0010 - accuracy: 1.0000 - val_loss: 0.0505 - val_accuracy: 0.9876\n",
      "Epoch 25/60\n",
      "5000/5000 [==============================] - 35s 7ms/step - loss: 0.0010 - accuracy: 1.0000 - val_loss: 0.0507 - val_accuracy: 0.9882\n",
      "Epoch 26/60\n",
      "5000/5000 [==============================] - 35s 7ms/step - loss: 9.8724e-04 - accuracy: 1.0000 - val_loss: 0.0513 - val_accuracy: 0.9881\n",
      "Epoch 27/60\n",
      "5000/5000 [==============================] - 35s 7ms/step - loss: 9.5386e-04 - accuracy: 1.0000 - val_loss: 0.0510 - val_accuracy: 0.9877\n",
      "Epoch 28/60\n",
      "5000/5000 [==============================] - 35s 7ms/step - loss: 9.3007e-04 - accuracy: 1.0000 - val_loss: 0.0511 - val_accuracy: 0.9880\n",
      "Epoch 29/60\n",
      "5000/5000 [==============================] - 35s 7ms/step - loss: 9.0167e-04 - accuracy: 1.0000 - val_loss: 0.0512 - val_accuracy: 0.9880\n",
      "Epoch 30/60\n",
      "5000/5000 [==============================] - 35s 7ms/step - loss: 8.8438e-04 - accuracy: 1.0000 - val_loss: 0.0513 - val_accuracy: 0.9883\n",
      "Epoch 31/60\n",
      "5000/5000 [==============================] - 35s 7ms/step - loss: 8.5335e-04 - accuracy: 1.0000 - val_loss: 0.0516 - val_accuracy: 0.9880\n",
      "Epoch 32/60\n",
      "5000/5000 [==============================] - 35s 7ms/step - loss: 8.2989e-04 - accuracy: 1.0000 - val_loss: 0.0518 - val_accuracy: 0.9875\n",
      "Epoch 33/60\n",
      "5000/5000 [==============================] - 35s 7ms/step - loss: 8.1701e-04 - accuracy: 1.0000 - val_loss: 0.0518 - val_accuracy: 0.9880\n",
      "Epoch 34/60\n",
      "5000/5000 [==============================] - 35s 7ms/step - loss: 7.9063e-04 - accuracy: 1.0000 - val_loss: 0.0516 - val_accuracy: 0.9880\n",
      "Epoch 35/60\n",
      "5000/5000 [==============================] - 35s 7ms/step - loss: 7.7387e-04 - accuracy: 1.0000 - val_loss: 0.0515 - val_accuracy: 0.9877\n",
      "Epoch 36/60\n",
      "5000/5000 [==============================] - 35s 7ms/step - loss: 7.5853e-04 - accuracy: 1.0000 - val_loss: 0.0516 - val_accuracy: 0.9881\n",
      "Epoch 37/60\n",
      "5000/5000 [==============================] - 35s 7ms/step - loss: 7.3581e-04 - accuracy: 1.0000 - val_loss: 0.0516 - val_accuracy: 0.9877\n",
      "Epoch 38/60\n",
      "5000/5000 [==============================] - 35s 7ms/step - loss: 7.2486e-04 - accuracy: 1.0000 - val_loss: 0.0517 - val_accuracy: 0.9884\n",
      "Epoch 39/60\n",
      "5000/5000 [==============================] - 35s 7ms/step - loss: 7.0543e-04 - accuracy: 1.0000 - val_loss: 0.0517 - val_accuracy: 0.9879\n",
      "Epoch 40/60\n",
      "5000/5000 [==============================] - 35s 7ms/step - loss: 6.8795e-04 - accuracy: 1.0000 - val_loss: 0.0520 - val_accuracy: 0.9880\n",
      "Epoch 41/60\n",
      "5000/5000 [==============================] - 35s 7ms/step - loss: 6.7592e-04 - accuracy: 1.0000 - val_loss: 0.0519 - val_accuracy: 0.9879\n",
      "Epoch 42/60\n",
      "5000/5000 [==============================] - 35s 7ms/step - loss: 6.6360e-04 - accuracy: 1.0000 - val_loss: 0.0520 - val_accuracy: 0.9880\n",
      "Epoch 43/60\n",
      "5000/5000 [==============================] - 35s 7ms/step - loss: 6.4936e-04 - accuracy: 1.0000 - val_loss: 0.0521 - val_accuracy: 0.9878\n",
      "Epoch 44/60\n",
      "5000/5000 [==============================] - 35s 7ms/step - loss: 6.3665e-04 - accuracy: 1.0000 - val_loss: 0.0523 - val_accuracy: 0.9880\n",
      "Epoch 45/60\n",
      "5000/5000 [==============================] - 35s 7ms/step - loss: 6.2685e-04 - accuracy: 1.0000 - val_loss: 0.0531 - val_accuracy: 0.9878\n",
      "Epoch 46/60\n",
      "5000/5000 [==============================] - 35s 7ms/step - loss: 6.1478e-04 - accuracy: 1.0000 - val_loss: 0.0526 - val_accuracy: 0.9878\n",
      "Epoch 47/60\n",
      "5000/5000 [==============================] - 35s 7ms/step - loss: 6.0287e-04 - accuracy: 1.0000 - val_loss: 0.0523 - val_accuracy: 0.9881\n",
      "Epoch 48/60\n",
      "5000/5000 [==============================] - 35s 7ms/step - loss: 5.8807e-04 - accuracy: 1.0000 - val_loss: 0.0523 - val_accuracy: 0.9883\n",
      "Epoch 49/60\n",
      "5000/5000 [==============================] - 35s 7ms/step - loss: 5.7917e-04 - accuracy: 1.0000 - val_loss: 0.0526 - val_accuracy: 0.9882\n",
      "Epoch 50/60\n",
      "5000/5000 [==============================] - 35s 7ms/step - loss: 5.7189e-04 - accuracy: 1.0000 - val_loss: 0.0526 - val_accuracy: 0.9878\n",
      "Epoch 51/60\n",
      "5000/5000 [==============================] - 35s 7ms/step - loss: 5.5914e-04 - accuracy: 1.0000 - val_loss: 0.0526 - val_accuracy: 0.9880\n",
      "Epoch 52/60\n",
      "5000/5000 [==============================] - 35s 7ms/step - loss: 5.4899e-04 - accuracy: 1.0000 - val_loss: 0.0524 - val_accuracy: 0.9883\n",
      "Epoch 53/60\n",
      "5000/5000 [==============================] - 35s 7ms/step - loss: 5.3848e-04 - accuracy: 1.0000 - val_loss: 0.0528 - val_accuracy: 0.9879\n",
      "Epoch 54/60\n",
      "5000/5000 [==============================] - 35s 7ms/step - loss: 5.3184e-04 - accuracy: 1.0000 - val_loss: 0.0528 - val_accuracy: 0.9877\n",
      "Epoch 55/60\n",
      "5000/5000 [==============================] - 35s 7ms/step - loss: 5.2105e-04 - accuracy: 1.0000 - val_loss: 0.0526 - val_accuracy: 0.9882\n",
      "Epoch 56/60\n"
     ]
    },
    {
     "name": "stdout",
     "output_type": "stream",
     "text": [
      "5000/5000 [==============================] - 33s 7ms/step - loss: 5.1302e-04 - accuracy: 1.0000 - val_loss: 0.0530 - val_accuracy: 0.9883\n",
      "Epoch 57/60\n",
      "5000/5000 [==============================] - 33s 7ms/step - loss: 5.0527e-04 - accuracy: 1.0000 - val_loss: 0.0530 - val_accuracy: 0.9881\n",
      "Epoch 58/60\n",
      "5000/5000 [==============================] - 33s 7ms/step - loss: 4.9753e-04 - accuracy: 1.0000 - val_loss: 0.0533 - val_accuracy: 0.9880\n",
      "Epoch 59/60\n",
      "5000/5000 [==============================] - 33s 7ms/step - loss: 4.8801e-04 - accuracy: 1.0000 - val_loss: 0.0529 - val_accuracy: 0.9882\n",
      "Epoch 60/60\n",
      "5000/5000 [==============================] - 33s 7ms/step - loss: 4.8219e-04 - accuracy: 1.0000 - val_loss: 0.0531 - val_accuracy: 0.9882\n",
      "total time: 1992.6532249450684\n",
      "1/1 [==============================] - 1s 580ms/step - loss: 0.0355 - accuracy: 0.9895\n"
     ]
    }
   ],
   "source": [
    "################################################################\n",
    "# save the model when val_acc is best\n",
    "checkpoint_filepath = r'C:\\Users\\mchen\\OneDrive\\桌面\\ml\\code\\tutorial\\chapter6\\save_model\\cnn2\\cnn2'\n",
    "\n",
    "model_checkpoint_callback = tf.keras.callbacks.ModelCheckpoint(\n",
    "    filepath=checkpoint_filepath,\n",
    "    save_weights_only=True,\n",
    "    monitor='val_accuracy',\n",
    "    mode='max',\n",
    "    save_best_only=True)\n",
    "################################################################\n",
    "\n",
    "################################################################\n",
    "#    train model  (how do i randomize mini_batches?)\n",
    "batch_size = 10\n",
    "n_eph = 60\n",
    "\n",
    "ts = time.time()\n",
    "history = model.fit(\n",
    "    train_x, train_y, \n",
    "    epochs=n_eph,\n",
    "    batch_size=batch_size,\n",
    "    validation_data=(val_x, val_y),\n",
    "    callbacks=[model_checkpoint_callback],\n",
    "    shuffle=True\n",
    ")\n",
    "te = time.time()\n",
    "\n",
    "print('total time:', te - ts)\n",
    "\n",
    "\n",
    "acc = history.history['accuracy']\n",
    "loss = history.history['loss']\n",
    "val_acc = history.history['val_accuracy']\n",
    "val_loss = history.history['val_loss']\n",
    "################################################################\n",
    "\n",
    "\n",
    "################################################################\n",
    "#    load the weights for the best epoch (best val accuracy)\n",
    "model.load_weights(checkpoint_filepath)\n",
    "\n",
    "################################################################\n",
    "\n",
    "################################################################\n",
    "#    evaluate test data at the best epoch\n",
    "[test_data_loss, test_data_accuracy] = model.evaluate(\n",
    "    test_x, test_y,\n",
    "    batch_size=len(test_x)\n",
    ")\n",
    "################################################################\n"
   ]
  },
  {
   "cell_type": "markdown",
   "id": "e825a199",
   "metadata": {},
   "source": [
    "<h2>plot the result</h2>"
   ]
  },
  {
   "cell_type": "code",
   "execution_count": 31,
   "id": "d00eb60c",
   "metadata": {},
   "outputs": [
    {
     "data": {
      "image/png": "[encoded data removed]",
      "text/plain": [
       "<Figure size 432x288 with 1 Axes>"
      ]
     },
     "metadata": {
      "needs_background": "light"
     },
     "output_type": "display_data"
    }
   ],
   "source": [
    "plt.plot(acc, label='train acc., best: {:.3f}'.format(max(acc)))\n",
    "plt.plot(val_acc, label='validation acc. best: {:.3f}'.format(max(val_acc)))\n",
    "plt.title('CNN softmax SGD, , eta={}, {} epochs'.format(eta, n_eph))\n",
    "plt.axvline(x=np.argmax(val_acc), c='r', ls=':', label='best epoch: {}'.format(np.argmax(val_acc)))\n",
    "plt.axhline(y=test_data_accuracy, c='r', label='test data accuracy at best epoch: {:.3f}'.format(test_data_accuracy))\n",
    "plt.legend()\n",
    "plt.show()\n",
    "\n",
    "from winsound import Beep\n",
    "Beep(1000, 100)"
   ]
  },
  {
   "cell_type": "markdown",
   "id": "d774862e",
   "metadata": {},
   "source": [
    "<h1>Max accuracy= 98.9%</h1>\n",
    "<h1>Total time=1993s</h1>"
   ]
  },
  {
   "cell_type": "code",
   "execution_count": 33,
   "id": "43394d7b",
   "metadata": {},
   "outputs": [
    {
     "name": "stdout",
     "output_type": "stream",
     "text": [
      "[0.999779999256134, 0.999779999256134, 0.999779999256134, 0.9998400211334229, 0.9999399781227112, 0.9999399781227112, 0.9999399781227112, 0.9999200105667114, 0.9999399781227112, 0.9999399781227112, 0.9999399781227112, 0.9999600052833557, 0.9999799728393555, 0.9999600052833557, 0.9999799728393555, 0.9999799728393555, 0.9999799728393555, 0.9999799728393555, 0.9999799728393555, 0.9999799728393555, 0.9999799728393555, 1.0, 1.0, 1.0, 1.0, 1.0, 1.0, 1.0, 1.0, 1.0, 1.0, 1.0, 1.0, 1.0, 1.0, 1.0, 1.0, 1.0, 1.0, 1.0, 1.0, 1.0, 1.0, 1.0, 1.0, 1.0, 1.0, 1.0, 1.0, 1.0, 1.0, 1.0, 1.0, 1.0, 1.0, 1.0, 1.0, 1.0, 1.0, 1.0]\n"
     ]
    }
   ],
   "source": [
    "print(acc)"
   ]
  },
  {
   "cell_type": "code",
   "execution_count": 35,
   "id": "d4220c29",
   "metadata": {},
   "outputs": [
    {
     "name": "stdout",
     "output_type": "stream",
     "text": [
      "[0.003409466240555048, 0.0032437618356198072, 0.0030016442760825157, 0.0027420432306826115, 0.002381559694185853, 0.0023260742891579866, 0.002171209314838052, 0.002053125761449337, 0.001974298618733883, 0.0018472387455403805, 0.0017639610450714827, 0.0016498059267178178, 0.001576380105689168, 0.0015174084110185504, 0.0014441997045651078, 0.0013809114461764693, 0.0013280132552608848, 0.0012711259769275784, 0.0012266798876225948, 0.0011995828244835138, 0.001152674900367856, 0.00111183593980968, 0.0010808790102601051, 0.001045495504513383, 0.0010108458809554577, 0.0009872355731204152, 0.0009538643062114716, 0.0009300733800046146, 0.0009016735129989684, 0.0008843836258165538, 0.0008533524814993143, 0.0008298911270685494, 0.0008170127985067666, 0.0007906259270384908, 0.0007738671265542507, 0.0007585320272482932, 0.0007358090952038765, 0.0007248629699461162, 0.0007054316811263561, 0.0006879523280076683, 0.000675918476190418, 0.0006636012112721801, 0.0006493640830740333, 0.0006366450688801706, 0.0006268496508710086, 0.000614783086348325, 0.0006028666975907981, 0.0005880745593458414, 0.0005791744915768504, 0.0005718888714909554, 0.0005591438966803253, 0.0005489905015565455, 0.0005384778487496078, 0.000531835132278502, 0.0005210472736507654, 0.0005130153731442988, 0.0005052660126239061, 0.0004975268966518342, 0.00048801462980918586, 0.0004821930779144168]\n"
     ]
    }
   ],
   "source": [
    "print(loss)"
   ]
  },
  {
   "cell_type": "code",
   "execution_count": 37,
   "id": "7af23f6d",
   "metadata": {},
   "outputs": [
    {
     "name": "stdout",
     "output_type": "stream",
     "text": [
      "[0.9879999756813049, 0.987500011920929, 0.9879000186920166, 0.9879000186920166, 0.9878000020980835, 0.987500011920929, 0.988099992275238, 0.9883999824523926, 0.987500011920929, 0.988099992275238, 0.9879999756813049, 0.9879999756813049, 0.9878000020980835, 0.988099992275238, 0.9878000020980835, 0.9879000186920166, 0.9876000285148621, 0.9879999756813049, 0.9879999756813049, 0.9873999953269958, 0.9882000088691711, 0.9879000186920166, 0.9879000186920166, 0.9876000285148621, 0.9882000088691711, 0.988099992275238, 0.9876999855041504, 0.9879999756813049, 0.9879999756813049, 0.9883000254631042, 0.9879999756813049, 0.987500011920929, 0.9879999756813049, 0.9879999756813049, 0.9876999855041504, 0.988099992275238, 0.9876999855041504, 0.9883999824523926, 0.9879000186920166, 0.9879999756813049, 0.9879000186920166, 0.9879999756813049, 0.9878000020980835, 0.9879999756813049, 0.9878000020980835, 0.9878000020980835, 0.988099992275238, 0.9883000254631042, 0.9882000088691711, 0.9878000020980835, 0.9879999756813049, 0.9883000254631042, 0.9879000186920166, 0.9876999855041504, 0.9882000088691711, 0.9883000254631042, 0.988099992275238, 0.9879999756813049, 0.9882000088691711, 0.9882000088691711]\n"
     ]
    }
   ],
   "source": [
    "print(val_acc)"
   ]
  },
  {
   "cell_type": "code",
   "execution_count": 39,
   "id": "2d6ca1f9",
   "metadata": {},
   "outputs": [
    {
     "name": "stdout",
     "output_type": "stream",
     "text": [
      "[0.04847926273941994, 0.049116961658000946, 0.04870311915874481, 0.04849206656217575, 0.0489424504339695, 0.04917857050895691, 0.0494854673743248, 0.04853944852948189, 0.04936644434928894, 0.049512751400470734, 0.050126802176237106, 0.04959718883037567, 0.04961061105132103, 0.0494096577167511, 0.04981419816613197, 0.050001759082078934, 0.05007631704211235, 0.05012570694088936, 0.050518833100795746, 0.05061105638742447, 0.05065843462944031, 0.0506259948015213, 0.05034085363149643, 0.050521790981292725, 0.050714585930109024, 0.051290906965732574, 0.05099683627486229, 0.05108869448304176, 0.05118216946721077, 0.05133252590894699, 0.05162888020277023, 0.051800452172756195, 0.05177401006221771, 0.05164815112948418, 0.05149190500378609, 0.051582664251327515, 0.05159160867333412, 0.05167469009757042, 0.05173332989215851, 0.051967017352581024, 0.05193665623664856, 0.0519610233604908, 0.05207418277859688, 0.05234558880329132, 0.05306943506002426, 0.05256859213113785, 0.052292704582214355, 0.052317872643470764, 0.05260724574327469, 0.05255112424492836, 0.05256286635994911, 0.052433863282203674, 0.052842430770397186, 0.05281611159443855, 0.05260873958468437, 0.0529729425907135, 0.05299529433250427, 0.05330284312367439, 0.05291232839226723, 0.053055696189403534]\n"
     ]
    }
   ],
   "source": [
    "print(val_loss)"
   ]
  },
  {
   "cell_type": "code",
   "execution_count": null,
   "id": "a6334cb4",
   "metadata": {},
   "outputs": [],
   "source": []
  },
  {
   "cell_type": "code",
   "execution_count": null,
   "id": "f1aa8914",
   "metadata": {},
   "outputs": [],
   "source": []
  }
 ],
 "metadata": {
  "kernelspec": {
   "display_name": "Python 3",
   "language": "python",
   "name": "python3"
  },
  "language_info": {
   "codemirror_mode": {
    "name": "ipython",
    "version": 3
   },
   "file_extension": ".py",
   "mimetype": "text/x-python",
   "name": "python",
   "nbconvert_exporter": "python",
   "pygments_lexer": "ipython3",
   "version": "3.6.8"
  }
 },
 "nbformat": 4,
 "nbformat_minor": 5
}
