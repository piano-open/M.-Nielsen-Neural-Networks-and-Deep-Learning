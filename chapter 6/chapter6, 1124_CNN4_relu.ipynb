{
 "cells": [
  {
   "cell_type": "markdown",
   "id": "9cdefe56",
   "metadata": {},
   "source": [
    "<h1>M. Nielsen, Chapter 6, 4th cnn model (relu)</h1>"
   ]
  },
  {
   "cell_type": "code",
   "execution_count": 2,
   "id": "80f03fd8",
   "metadata": {},
   "outputs": [
    {
     "data": {
      "text/html": [
       "<style>.container { width:100% !important; }</style>"
      ],
      "text/plain": [
       "<IPython.core.display.HTML object>"
      ]
     },
     "metadata": {},
     "output_type": "display_data"
    }
   ],
   "source": [
    "from IPython.core.display import display, HTML\n",
    "display(HTML(\"<style>.container { width:100% !important; }</style>\"))"
   ]
  },
  {
   "cell_type": "code",
   "execution_count": 4,
   "id": "f41fb54e",
   "metadata": {},
   "outputs": [],
   "source": [
    "import os\n",
    "import numpy as np\n",
    "import time\n",
    "import random\n",
    "import tensorflow as tf"
   ]
  },
  {
   "cell_type": "code",
   "execution_count": 7,
   "id": "a66d1ec7",
   "metadata": {},
   "outputs": [],
   "source": [
    "from matplotlib import pyplot as plt"
   ]
  },
  {
   "cell_type": "code",
   "execution_count": 9,
   "id": "288c3614",
   "metadata": {},
   "outputs": [],
   "source": [
    "os.chdir(r\"C:\\Users\\mchen\\OneDrive\\桌面\\ml\\code\\tutorial\\chapter3\\20211119\\multi_layer\")"
   ]
  },
  {
   "cell_type": "code",
   "execution_count": 11,
   "id": "23658ba4",
   "metadata": {},
   "outputs": [],
   "source": [
    "import mnist_loader\n",
    "training_data, validation_data, test_data = mnist_loader.load_data_wrapper()"
   ]
  },
  {
   "cell_type": "markdown",
   "id": "609084bc",
   "metadata": {},
   "source": [
    "<h1>load data</h>"
   ]
  },
  {
   "cell_type": "code",
   "execution_count": 13,
   "id": "83beedea",
   "metadata": {},
   "outputs": [
    {
     "name": "stdout",
     "output_type": "stream",
     "text": [
      "(50000, 28, 28)\n",
      "(10000, 28, 28)\n",
      "(10000, 28, 28)\n"
     ]
    }
   ],
   "source": [
    "###############################################\n",
    "#    load data from local directory\n",
    "###############################################\n",
    "\n",
    "train_x, train_y, val_x, val_y, test_x, test_y = [], [], [], [], [], []\n",
    "\n",
    "training_data, validation_data, test_data = mnist_loader.load_data_wrapper()\n",
    "\n",
    "for tra in training_data:\n",
    "    img_tra_x = tra[0].reshape(28,28).tolist()\n",
    "    img_tra_y = np.array(np.argmax(tra[1]), dtype=np.uint8)\n",
    "    train_x.append(img_tra_x)\n",
    "    train_y.append(img_tra_y)\n",
    "print(np.shape(train_x))\n",
    "\n",
    "for val in validation_data:\n",
    "    img_val_x = val[0].reshape(28,28)\n",
    "#     img_val_y = np.array(np.argmax(val[1]), dtype=np.uint8)\n",
    "    img_val_y = np.array(val[1], dtype=np.uint8)\n",
    "    val_x.append(img_val_x)\n",
    "    val_y.append(img_val_y)\n",
    "print(np.shape(val_x))\n",
    "\n",
    "for tes in test_data:\n",
    "    img_tes_x = tes[0].reshape(28,28)\n",
    "    img_tes_y = np.array(tes[1], dtype=np.uint8)\n",
    "    test_x.append(img_tes_x)\n",
    "    test_y.append(img_tes_y)\n",
    "print(np.shape(test_x))\n",
    "\n",
    "\n",
    "train_x = np.array(train_x)\n",
    "val_x = np.array(val_x)\n",
    "test_x = np.array(test_x)\n",
    "\n",
    "train_y = np.array(train_y)\n",
    "val_y = np.array(val_y)\n",
    "test_y = np.array(test_y)"
   ]
  },
  {
   "cell_type": "code",
   "execution_count": 15,
   "id": "a6195c4c",
   "metadata": {},
   "outputs": [],
   "source": [
    "# ###############################################\n",
    "# #    checking data format:\n",
    "# ###############################################\n",
    "# plt.imshow(train_x[0], interpolation='none')\n",
    "# plt.show()\n",
    "# print('img label:', train_y[0])\n",
    "\n",
    "# plt.imshow(val_x[0], interpolation='none')\n",
    "# plt.show()\n",
    "# print('img label:', val_y[0])\n",
    "\n",
    "# plt.imshow(test_x[0], interpolation='none')\n",
    "# plt.show()\n",
    "# print('img label:', test_y[0])\n"
   ]
  },
  {
   "cell_type": "markdown",
   "id": "52d46730",
   "metadata": {},
   "source": [
    "<h1>Trying Implementing the relu CNN model as described in M. Nielsen, Chapter 6</h1>\t"
   ]
  },
  {
   "cell_type": "code",
   "execution_count": 17,
   "id": "cc3ad697",
   "metadata": {},
   "outputs": [],
   "source": [
    "# >>> from network3 import ReLU\n",
    "# >>> net = Network([\n",
    "#         ConvPoolLayer(image_shape=(mini_batch_size, 1, 28, 28), \n",
    "#                       filter_shape=(20, 1, 5, 5), \n",
    "#                       poolsize=(2, 2), \n",
    "#                       activation_fn=ReLU),\n",
    "#         ConvPoolLayer(image_shape=(mini_batch_size, 20, 12, 12), \n",
    "#                       filter_shape=(40, 20, 5, 5), \n",
    "#                       poolsize=(2, 2), \n",
    "#                       activation_fn=ReLU),\n",
    "#         FullyConnectedLayer(n_in=40*4*4, n_out=100, activation_fn=ReLU),\n",
    "#         SoftmaxLayer(n_in=100, n_out=10)], mini_batch_size)\n",
    "# >>> net.SGD(training_data, 60, mini_batch_size, 0.03, \n",
    "#             validation_data, test_data, lmbda=0.1)"
   ]
  },
  {
   "cell_type": "markdown",
   "id": "e20125be",
   "metadata": {},
   "source": [
    "<h1>Reshape data</h1>"
   ]
  },
  {
   "cell_type": "code",
   "execution_count": 18,
   "id": "380e303a",
   "metadata": {},
   "outputs": [],
   "source": [
    "# reshape data\n",
    "train_x = train_x.reshape(np.shape(train_x)[0], np.shape(train_x)[1], np.shape(train_x)[2], 1)\n",
    "val_x = val_x.reshape(np.shape(val_x)[0], np.shape(val_x)[1], np.shape(val_x)[2], 1)\n",
    "test_x = test_x.reshape(np.shape(test_x)[0], np.shape(test_x)[1], np.shape(test_x)[2], 1)\n",
    "\n",
    "train_y = tf.one_hot(train_y.astype(np.int32), depth=10)\n",
    "val_y = tf.one_hot(val_y.astype(np.int32), depth=10)\n",
    "test_y = tf.one_hot(test_y.astype(np.int32), depth=10)"
   ]
  },
  {
   "cell_type": "markdown",
   "id": "a1a5ed99",
   "metadata": {},
   "source": [
    "<h1>Build Network model (tanh)</h1>"
   ]
  },
  {
   "cell_type": "code",
   "execution_count": 24,
   "id": "7a55b4d7",
   "metadata": {},
   "outputs": [
    {
     "name": "stdout",
     "output_type": "stream",
     "text": [
      "eta= 0.03\n",
      "\n",
      "Model: \"sequential_4\"\n",
      "_________________________________________________________________\n",
      "Layer (type)                 Output Shape              Param #   \n",
      "=================================================================\n",
      "conv2d_8 (Conv2D)            (None, 24, 24, 20)        520       \n",
      "_________________________________________________________________\n",
      "max_pooling2d_8 (MaxPooling2 (None, 12, 12, 20)        0         \n",
      "_________________________________________________________________\n",
      "conv2d_9 (Conv2D)            (None, 8, 8, 40)          20040     \n",
      "_________________________________________________________________\n",
      "max_pooling2d_9 (MaxPooling2 (None, 4, 4, 40)          0         \n",
      "_________________________________________________________________\n",
      "flatten_4 (Flatten)          (None, 640)               0         \n",
      "_________________________________________________________________\n",
      "dense_8 (Dense)              (None, 100)               64100     \n",
      "_________________________________________________________________\n",
      "dense_9 (Dense)              (None, 10)                1010      \n",
      "=================================================================\n",
      "Total params: 85,670\n",
      "Trainable params: 85,670\n",
      "Non-trainable params: 0\n",
      "_________________________________________________________________\n"
     ]
    }
   ],
   "source": [
    "################################################################\n",
    "#   relu CNN network as described in chapter 6\n",
    "################################################################\n",
    "tf.random.set_seed(42)\n",
    "################################################################\n",
    "\n",
    "################################################################\n",
    "# construct netwoek model\n",
    "\n",
    "lmbda = 0.1\n",
    "\n",
    "input_shape = (28, 28, 1)\n",
    "\n",
    "model = tf.keras.models.Sequential()\n",
    "\n",
    "model.add(\n",
    "    tf.keras.layers.Conv2D( # no padding\n",
    "        20,\n",
    "        (5,5),\n",
    "        activation=tf.nn.relu,\n",
    "        kernel_regularizer=tf.keras.regularizers.L2(l2=lmbda),\n",
    "        input_shape=input_shape\n",
    "    )\n",
    ")\n",
    "\n",
    "model.add(\n",
    "    tf.keras.layers.MaxPool2D(\n",
    "        strides=(2,2)\n",
    "    )\n",
    ")\n",
    "\n",
    "model.add(\n",
    "    tf.keras.layers.Conv2D( # no padding\n",
    "        40,\n",
    "        (5,5),\n",
    "        activation=tf.nn.relu,\n",
    "        kernel_regularizer=tf.keras.regularizers.L2(l2=lmbda)\n",
    "    )\n",
    ")\n",
    "\n",
    "model.add(\n",
    "    tf.keras.layers.MaxPool2D(\n",
    "        strides=(2,2)\n",
    "    )\n",
    ")\n",
    "\n",
    "model.add(\n",
    "    tf.keras.layers.Flatten()\n",
    ")\n",
    "\n",
    "model.add(\n",
    "    tf.keras.layers.Dense(\n",
    "        100,\n",
    "        activation=tf.nn.relu,\n",
    "        kernel_regularizer=tf.keras.regularizers.L2(l2=lmbda)\n",
    "    )\n",
    ")\n",
    "\n",
    "model.add(\n",
    "    tf.keras.layers.Dense(\n",
    "        10,\n",
    "        activation=tf.nn.softmax\n",
    "    )\n",
    ")\n",
    "################################################################\n",
    "\n",
    "################################################################\n",
    "# compile model\n",
    "\n",
    "eta = 0.03\n",
    "\n",
    "model.compile(\n",
    "    optimizer=tf.keras.optimizers.SGD(\n",
    "        learning_rate=eta,\n",
    "        momentum=0.0,\n",
    "        nesterov=False,\n",
    "        name=\"SGD\"),\n",
    "    loss='categorical_crossentropy',\n",
    "    metrics=['accuracy']\n",
    ")\n",
    "\n",
    "################################################################\n",
    "print('eta= {}\\n'.format(eta))\n",
    "\n",
    "model.summary()\n"
   ]
  },
  {
   "cell_type": "markdown",
   "id": "5e254e40",
   "metadata": {},
   "source": [
    "<h1>Train Network</h1>"
   ]
  },
  {
   "cell_type": "code",
   "execution_count": 25,
   "id": "832fe3dd",
   "metadata": {
    "scrolled": false
   },
   "outputs": [
    {
     "name": "stdout",
     "output_type": "stream",
     "text": [
      "Epoch 1/60\n",
      "5000/5000 [==============================] - 27s 5ms/step - loss: 1.3646 - accuracy: 0.8500 - val_loss: 0.8493 - val_accuracy: 0.8975\n",
      "Epoch 2/60\n",
      "5000/5000 [==============================] - 33s 7ms/step - loss: 0.8604 - accuracy: 0.8867 - val_loss: 0.7544 - val_accuracy: 0.9290\n",
      "Epoch 3/60\n",
      "5000/5000 [==============================] - 32s 6ms/step - loss: 0.8234 - accuracy: 0.8896 - val_loss: 0.8526 - val_accuracy: 0.8819\n",
      "Epoch 4/60\n",
      "5000/5000 [==============================] - 33s 7ms/step - loss: 0.8097 - accuracy: 0.8914 - val_loss: 0.7988 - val_accuracy: 0.8836\n",
      "Epoch 5/60\n",
      "5000/5000 [==============================] - 33s 7ms/step - loss: 0.7966 - accuracy: 0.8930 - val_loss: 0.7967 - val_accuracy: 0.8843\n",
      "Epoch 6/60\n",
      "5000/5000 [==============================] - 33s 7ms/step - loss: 0.7869 - accuracy: 0.8936 - val_loss: 0.7524 - val_accuracy: 0.9008\n",
      "Epoch 7/60\n",
      "5000/5000 [==============================] - 33s 7ms/step - loss: 0.7756 - accuracy: 0.8958 - val_loss: 0.6626 - val_accuracy: 0.9376\n",
      "Epoch 8/60\n",
      "5000/5000 [==============================] - 33s 7ms/step - loss: 0.7760 - accuracy: 0.8924 - val_loss: 1.4134 - val_accuracy: 0.6587\n",
      "Epoch 9/60\n",
      "5000/5000 [==============================] - 33s 7ms/step - loss: 0.7698 - accuracy: 0.8950 - val_loss: 0.6655 - val_accuracy: 0.9301\n",
      "Epoch 10/60\n",
      "5000/5000 [==============================] - 33s 7ms/step - loss: 0.7755 - accuracy: 0.8915 - val_loss: 0.6677 - val_accuracy: 0.9339\n",
      "Epoch 11/60\n",
      "5000/5000 [==============================] - 35s 7ms/step - loss: 0.7729 - accuracy: 0.8928 - val_loss: 0.7791 - val_accuracy: 0.8993\n",
      "Epoch 12/60\n",
      "5000/5000 [==============================] - 33s 7ms/step - loss: 0.7600 - accuracy: 0.8943 - val_loss: 0.7335 - val_accuracy: 0.9027\n",
      "Epoch 13/60\n",
      "5000/5000 [==============================] - 35s 7ms/step - loss: 0.7553 - accuracy: 0.8959 - val_loss: 0.8050 - val_accuracy: 0.9121\n",
      "Epoch 14/60\n",
      "5000/5000 [==============================] - 33s 7ms/step - loss: 0.7589 - accuracy: 0.8948 - val_loss: 1.1642 - val_accuracy: 0.7298\n",
      "Epoch 15/60\n",
      "5000/5000 [==============================] - 33s 7ms/step - loss: 0.7533 - accuracy: 0.8958 - val_loss: 0.8010 - val_accuracy: 0.8927\n",
      "Epoch 16/60\n",
      "5000/5000 [==============================] - 33s 7ms/step - loss: 0.7682 - accuracy: 0.8930 - val_loss: 0.7123 - val_accuracy: 0.9165\n",
      "Epoch 17/60\n",
      "5000/5000 [==============================] - 33s 7ms/step - loss: 0.7516 - accuracy: 0.8961 - val_loss: 0.6885 - val_accuracy: 0.9176\n",
      "Epoch 18/60\n",
      "5000/5000 [==============================] - 33s 7ms/step - loss: 0.7533 - accuracy: 0.8975 - val_loss: 0.6415 - val_accuracy: 0.9314\n",
      "Epoch 19/60\n",
      "5000/5000 [==============================] - 33s 7ms/step - loss: 0.7547 - accuracy: 0.8950 - val_loss: 0.6144 - val_accuracy: 0.9437\n",
      "Epoch 20/60\n",
      "5000/5000 [==============================] - 37s 7ms/step - loss: 0.7622 - accuracy: 0.8932 - val_loss: 0.8454 - val_accuracy: 0.8572\n",
      "Epoch 21/60\n",
      "5000/5000 [==============================] - 36s 7ms/step - loss: 0.7686 - accuracy: 0.8924 - val_loss: 0.8833 - val_accuracy: 0.8636\n",
      "Epoch 22/60\n",
      "5000/5000 [==============================] - 35s 7ms/step - loss: 0.7781 - accuracy: 0.8893 - val_loss: 1.9283 - val_accuracy: 0.5883\n",
      "Epoch 23/60\n",
      "5000/5000 [==============================] - 33s 7ms/step - loss: 0.8075 - accuracy: 0.8793 - val_loss: 0.6705 - val_accuracy: 0.9193\n",
      "Epoch 24/60\n",
      "5000/5000 [==============================] - 36s 7ms/step - loss: 0.7900 - accuracy: 0.8782 - val_loss: 0.6680 - val_accuracy: 0.9180\n",
      "Epoch 25/60\n",
      "5000/5000 [==============================] - 32s 6ms/step - loss: 0.7800 - accuracy: 0.8848 - val_loss: 0.6226 - val_accuracy: 0.9368\n",
      "Epoch 26/60\n",
      "5000/5000 [==============================] - 34s 7ms/step - loss: 0.7954 - accuracy: 0.8802 - val_loss: 0.6927 - val_accuracy: 0.9119\n",
      "Epoch 27/60\n",
      "5000/5000 [==============================] - 33s 7ms/step - loss: 0.7861 - accuracy: 0.8793 - val_loss: 0.8083 - val_accuracy: 0.8697\n",
      "Epoch 28/60\n",
      "5000/5000 [==============================] - 33s 7ms/step - loss: 0.7966 - accuracy: 0.8789 - val_loss: 0.8098 - val_accuracy: 0.8635\n",
      "Epoch 29/60\n",
      "5000/5000 [==============================] - 33s 7ms/step - loss: 0.8344 - accuracy: 0.8708 - val_loss: 0.7304 - val_accuracy: 0.9085\n",
      "Epoch 30/60\n",
      "5000/5000 [==============================] - 33s 7ms/step - loss: 0.8275 - accuracy: 0.8725 - val_loss: 0.7798 - val_accuracy: 0.8937\n",
      "Epoch 31/60\n",
      "5000/5000 [==============================] - 33s 7ms/step - loss: 0.8276 - accuracy: 0.8716 - val_loss: 0.6897 - val_accuracy: 0.9163\n",
      "Epoch 32/60\n",
      "5000/5000 [==============================] - 32s 6ms/step - loss: 0.8270 - accuracy: 0.8719 - val_loss: 1.0893 - val_accuracy: 0.7641\n",
      "Epoch 33/60\n",
      "5000/5000 [==============================] - 34s 7ms/step - loss: 0.8316 - accuracy: 0.8702 - val_loss: 0.7896 - val_accuracy: 0.8810\n",
      "Epoch 34/60\n",
      "5000/5000 [==============================] - 35s 7ms/step - loss: 0.8337 - accuracy: 0.8695 - val_loss: 0.7506 - val_accuracy: 0.9183\n",
      "Epoch 35/60\n",
      "5000/5000 [==============================] - 34s 7ms/step - loss: 0.8245 - accuracy: 0.8716 - val_loss: 0.8588 - val_accuracy: 0.8614\n",
      "Epoch 36/60\n",
      "5000/5000 [==============================] - 33s 7ms/step - loss: 0.8302 - accuracy: 0.8695 - val_loss: 0.6396 - val_accuracy: 0.9338\n",
      "Epoch 37/60\n",
      "5000/5000 [==============================] - 33s 7ms/step - loss: 0.8487 - accuracy: 0.8643 - val_loss: 0.8023 - val_accuracy: 0.8716\n",
      "Epoch 38/60\n",
      "5000/5000 [==============================] - 33s 7ms/step - loss: 0.8809 - accuracy: 0.8540 - val_loss: 0.7556 - val_accuracy: 0.8801\n",
      "Epoch 39/60\n",
      "5000/5000 [==============================] - 33s 7ms/step - loss: 0.8793 - accuracy: 0.8512 - val_loss: 0.8137 - val_accuracy: 0.8709\n",
      "Epoch 40/60\n",
      "5000/5000 [==============================] - 33s 7ms/step - loss: 1.0731 - accuracy: 0.7699 - val_loss: 1.0168 - val_accuracy: 0.7925\n",
      "Epoch 41/60\n",
      "5000/5000 [==============================] - 33s 7ms/step - loss: 1.0739 - accuracy: 0.7639 - val_loss: 0.8954 - val_accuracy: 0.8260\n",
      "Epoch 42/60\n",
      "5000/5000 [==============================] - 33s 7ms/step - loss: 1.0684 - accuracy: 0.7692 - val_loss: 0.9473 - val_accuracy: 0.8141\n",
      "Epoch 43/60\n",
      "5000/5000 [==============================] - 33s 7ms/step - loss: 1.0617 - accuracy: 0.7695 - val_loss: 1.0806 - val_accuracy: 0.7681\n",
      "Epoch 44/60\n",
      "5000/5000 [==============================] - 33s 7ms/step - loss: 1.0641 - accuracy: 0.7694 - val_loss: 1.0237 - val_accuracy: 0.7755\n",
      "Epoch 45/60\n",
      "5000/5000 [==============================] - 35s 7ms/step - loss: 1.0584 - accuracy: 0.7703 - val_loss: 0.9666 - val_accuracy: 0.8003\n",
      "Epoch 46/60\n",
      "5000/5000 [==============================] - 35s 7ms/step - loss: 1.0569 - accuracy: 0.7699 - val_loss: 1.0138 - val_accuracy: 0.7878\n",
      "Epoch 47/60\n",
      "5000/5000 [==============================] - 33s 7ms/step - loss: 1.0615 - accuracy: 0.7684 - val_loss: 0.9146 - val_accuracy: 0.8095\n",
      "Epoch 48/60\n",
      "5000/5000 [==============================] - 33s 7ms/step - loss: 1.0514 - accuracy: 0.7739 - val_loss: 0.8900 - val_accuracy: 0.8328\n",
      "Epoch 49/60\n",
      "5000/5000 [==============================] - 33s 7ms/step - loss: 1.0503 - accuracy: 0.7739 - val_loss: 0.8754 - val_accuracy: 0.8329\n",
      "Epoch 50/60\n",
      "5000/5000 [==============================] - 33s 7ms/step - loss: 1.0516 - accuracy: 0.7740 - val_loss: 1.0756 - val_accuracy: 0.7482\n",
      "Epoch 51/60\n",
      "5000/5000 [==============================] - 33s 7ms/step - loss: 1.0469 - accuracy: 0.7723 - val_loss: 0.9164 - val_accuracy: 0.8315\n",
      "Epoch 52/60\n",
      "5000/5000 [==============================] - 33s 7ms/step - loss: 1.0513 - accuracy: 0.7726 - val_loss: 0.8894 - val_accuracy: 0.8363\n",
      "Epoch 53/60\n",
      "5000/5000 [==============================] - 33s 7ms/step - loss: 1.0461 - accuracy: 0.7751 - val_loss: 0.9480 - val_accuracy: 0.8094\n",
      "Epoch 54/60\n",
      "5000/5000 [==============================] - 33s 7ms/step - loss: 1.0469 - accuracy: 0.7733 - val_loss: 0.9561 - val_accuracy: 0.8100\n",
      "Epoch 55/60\n",
      "5000/5000 [==============================] - 33s 7ms/step - loss: 1.0502 - accuracy: 0.7743 - val_loss: 1.0763 - val_accuracy: 0.7595\n",
      "Epoch 56/60\n",
      "5000/5000 [==============================] - 33s 7ms/step - loss: 1.0448 - accuracy: 0.7744 - val_loss: 1.0615 - val_accuracy: 0.7693\n",
      "Epoch 57/60\n"
     ]
    },
    {
     "name": "stdout",
     "output_type": "stream",
     "text": [
      "5000/5000 [==============================] - 32s 6ms/step - loss: 1.0454 - accuracy: 0.7754 - val_loss: 0.9264 - val_accuracy: 0.8096\n",
      "Epoch 58/60\n",
      "5000/5000 [==============================] - 33s 7ms/step - loss: 1.0434 - accuracy: 0.7752 - val_loss: 0.9645 - val_accuracy: 0.7998\n",
      "Epoch 59/60\n",
      "5000/5000 [==============================] - 32s 6ms/step - loss: 1.0404 - accuracy: 0.7757 - val_loss: 0.9348 - val_accuracy: 0.8280\n",
      "Epoch 60/60\n",
      "5000/5000 [==============================] - 32s 6ms/step - loss: 1.0422 - accuracy: 0.7754 - val_loss: 1.0252 - val_accuracy: 0.7859\n",
      "total time: 1988.172775030136\n",
      "1/1 [==============================] - 1s 696ms/step - loss: 0.6190 - accuracy: 0.9424\n"
     ]
    }
   ],
   "source": [
    "################################################################\n",
    "# save the model when val_acc is best\n",
    "checkpoint_filepath = r'C:\\Users\\mchen\\OneDrive\\桌面\\ml\\code\\tutorial\\chapter6\\save_model\\cnn_relu_l2\\cnn_relu_l2'\n",
    "\n",
    "model_checkpoint_callback = tf.keras.callbacks.ModelCheckpoint(\n",
    "    filepath=checkpoint_filepath,\n",
    "    save_weights_only=True,\n",
    "    monitor='val_accuracy',\n",
    "    mode='max',\n",
    "    save_best_only=True)\n",
    "################################################################\n",
    "\n",
    "################################################################\n",
    "#    train model  (how do i randomize mini_batches?)\n",
    "batch_size = 10\n",
    "n_eph = 60\n",
    "\n",
    "ts = time.time()\n",
    "history = model.fit(\n",
    "    train_x, train_y, \n",
    "    epochs=n_eph,\n",
    "    batch_size=batch_size,\n",
    "    validation_data=(val_x, val_y),\n",
    "    callbacks=[model_checkpoint_callback],\n",
    "    shuffle=True\n",
    ")\n",
    "te = time.time()\n",
    "\n",
    "print('total time:', te - ts)\n",
    "\n",
    "\n",
    "acc = history.history['accuracy']\n",
    "loss = history.history['loss']\n",
    "val_acc = history.history['val_accuracy']\n",
    "val_loss = history.history['val_loss']\n",
    "################################################################\n",
    "\n",
    "\n",
    "################################################################\n",
    "#    load the weights for the best epoch (best val accuracy)\n",
    "model.load_weights(checkpoint_filepath)\n",
    "\n",
    "################################################################\n",
    "\n",
    "################################################################\n",
    "#    evaluate test data at the best epoch\n",
    "[test_data_loss, test_data_accuracy] = model.evaluate(\n",
    "    test_x, test_y,\n",
    "    batch_size=len(test_x)\n",
    ")\n",
    "################################################################\n"
   ]
  },
  {
   "cell_type": "markdown",
   "id": "a7d24056",
   "metadata": {},
   "source": [
    "<h1>plot result<h1/>"
   ]
  },
  {
   "cell_type": "code",
   "execution_count": 26,
   "id": "d00eb60c",
   "metadata": {},
   "outputs": [
    {
     "data": {
      "image/png": "[encoded data removed]",
      "text/plain": [
       "<Figure size 432x288 with 1 Axes>"
      ]
     },
     "metadata": {
      "needs_background": "light"
     },
     "output_type": "display_data"
    }
   ],
   "source": [
    "plt.plot(acc, label='train acc., best: {:.3f}'.format(max(acc)))\n",
    "plt.plot(val_acc, label='validation acc. best: {:.3f}'.format(max(val_acc)))\n",
    "plt.title('CNN relu & L2, SGD, , eta={}, lmbda={}, {} epochs'.format(eta, lmbda, n_eph))\n",
    "plt.axvline(x=np.argmax(val_acc), c='r', ls=':', label='best epoch: {}'.format(np.argmax(val_acc)))\n",
    "plt.axhline(y=test_data_accuracy, c='r', label='test data accuracy at best epoch: {:.3f}'.format(test_data_accuracy))\n",
    "plt.legend()\n",
    "plt.show()\n",
    "\n",
    "from winsound import Beep\n",
    "Beep(1000, 100)"
   ]
  },
  {
   "cell_type": "code",
   "execution_count": null,
   "id": "0f4a95e3",
   "metadata": {},
   "outputs": [],
   "source": []
  },
  {
   "cell_type": "markdown",
   "id": "bb754fb6",
   "metadata": {},
   "source": [
    "<h1>Max accuracy= 94.2%<h1/><h1>Total time= 1988s<h1/>"
   ]
  },
  {
   "cell_type": "code",
   "execution_count": 28,
   "id": "43394d7b",
   "metadata": {},
   "outputs": [
    {
     "name": "stdout",
     "output_type": "stream",
     "text": [
      "[0.8500199913978577, 0.8866999745368958, 0.8896200060844421, 0.8914399743080139, 0.8930400013923645, 0.8936399817466736, 0.8957599997520447, 0.8924400210380554, 0.8949599862098694, 0.891539990901947, 0.8928200006484985, 0.8942800164222717, 0.8959199786186218, 0.894819974899292, 0.895799994468689, 0.8930400013923645, 0.8961399793624878, 0.8974800109863281, 0.895039975643158, 0.8931599855422974, 0.8923599720001221, 0.8892800211906433, 0.8792600035667419, 0.8781800270080566, 0.8848400115966797, 0.8802000284194946, 0.8792999982833862, 0.8788599967956543, 0.8708000183105469, 0.8725200295448303, 0.8716199994087219, 0.8718600273132324, 0.870199978351593, 0.8694599866867065, 0.8715599775314331, 0.8695399761199951, 0.8643400073051453, 0.8539800047874451, 0.8512200117111206, 0.7699000239372253, 0.7639399766921997, 0.7691799998283386, 0.769540011882782, 0.7694399952888489, 0.7702800035476685, 0.7698799967765808, 0.7684400081634521, 0.7738999724388123, 0.7738999724388123, 0.7740200161933899, 0.7723000049591064, 0.7725800275802612, 0.7751399874687195, 0.7732599973678589, 0.7742999792098999, 0.7744200229644775, 0.77538001537323, 0.7751799821853638, 0.77565997838974, 0.775439977645874]\n"
     ]
    }
   ],
   "source": [
    "print(acc)"
   ]
  },
  {
   "cell_type": "code",
   "execution_count": 30,
   "id": "d4220c29",
   "metadata": {},
   "outputs": [
    {
     "name": "stdout",
     "output_type": "stream",
     "text": [
      "[1.364622712135315, 0.8603661060333252, 0.8233610391616821, 0.8096588253974915, 0.7965635657310486, 0.7868760228157043, 0.7756475806236267, 0.7760076522827148, 0.7697829008102417, 0.7754771113395691, 0.7729281187057495, 0.760039746761322, 0.7552501559257507, 0.7589422464370728, 0.7532668113708496, 0.768204391002655, 0.7516108751296997, 0.7533217072486877, 0.7546881437301636, 0.7622352242469788, 0.7686032652854919, 0.7781044244766235, 0.8075177073478699, 0.7900415062904358, 0.7800112366676331, 0.795413613319397, 0.7861353754997253, 0.7965940833091736, 0.8343677520751953, 0.8274831771850586, 0.8276070356369019, 0.8270121812820435, 0.8316249847412109, 0.8337340354919434, 0.8245090842247009, 0.8302403688430786, 0.8487169742584229, 0.8809372782707214, 0.8792567849159241, 1.0731052160263062, 1.0739206075668335, 1.0683844089508057, 1.0617458820343018, 1.0640732049942017, 1.0583648681640625, 1.0568569898605347, 1.0614715814590454, 1.0513865947723389, 1.0503146648406982, 1.051596760749817, 1.0468790531158447, 1.0512639284133911, 1.046086311340332, 1.0469167232513428, 1.0501997470855713, 1.0447685718536377, 1.0453828573226929, 1.0434086322784424, 1.0404078960418701, 1.042233943939209]\n"
     ]
    }
   ],
   "source": [
    "print(loss)"
   ]
  },
  {
   "cell_type": "code",
   "execution_count": 32,
   "id": "7af23f6d",
   "metadata": {},
   "outputs": [
    {
     "name": "stdout",
     "output_type": "stream",
     "text": [
      "[0.8974999785423279, 0.9290000200271606, 0.8819000124931335, 0.8835999965667725, 0.8842999935150146, 0.9007999897003174, 0.9376000165939331, 0.6586999893188477, 0.9301000237464905, 0.933899998664856, 0.8992999792098999, 0.9027000069618225, 0.9121000170707703, 0.7297999858856201, 0.8927000164985657, 0.9164999723434448, 0.9175999760627747, 0.9314000010490417, 0.9437000155448914, 0.857200026512146, 0.8636000156402588, 0.5882999897003174, 0.9193000197410583, 0.9179999828338623, 0.9368000030517578, 0.911899983882904, 0.869700014591217, 0.8634999990463257, 0.9085000157356262, 0.8937000036239624, 0.9162999987602234, 0.7641000151634216, 0.8809999823570251, 0.9182999730110168, 0.8614000082015991, 0.9337999820709229, 0.8715999722480774, 0.8801000118255615, 0.8708999752998352, 0.7925000190734863, 0.8259999752044678, 0.8141000270843506, 0.7681000232696533, 0.7754999995231628, 0.8003000020980835, 0.7878000140190125, 0.809499979019165, 0.8327999711036682, 0.8328999876976013, 0.748199999332428, 0.8314999938011169, 0.8363000154495239, 0.8094000220298767, 0.8100000023841858, 0.7595000267028809, 0.7692999839782715, 0.8095999956130981, 0.7997999787330627, 0.828000009059906, 0.7858999967575073]\n"
     ]
    }
   ],
   "source": [
    "print(val_acc)"
   ]
  },
  {
   "cell_type": "code",
   "execution_count": 33,
   "id": "2d6ca1f9",
   "metadata": {},
   "outputs": [
    {
     "name": "stdout",
     "output_type": "stream",
     "text": [
      "[0.8493003845214844, 0.7543874382972717, 0.8525511622428894, 0.798774242401123, 0.7967297434806824, 0.7523938417434692, 0.6625600457191467, 1.4133549928665161, 0.6655104160308838, 0.6676896810531616, 0.7791136503219604, 0.7335255146026611, 0.8050400614738464, 1.1641770601272583, 0.8009809851646423, 0.7123228311538696, 0.6884735822677612, 0.6414836049079895, 0.6144055128097534, 0.8454450368881226, 0.8832899332046509, 1.9282575845718384, 0.6704576015472412, 0.667985200881958, 0.6225756406784058, 0.6926574110984802, 0.8082543611526489, 0.8098011016845703, 0.7303550839424133, 0.7798436880111694, 0.6896582245826721, 1.0892515182495117, 0.7895967960357666, 0.7505911588668823, 0.8587909936904907, 0.6396039128303528, 0.8022931218147278, 0.7556026577949524, 0.8136659860610962, 1.0168192386627197, 0.8954423666000366, 0.9472691416740417, 1.0805660486221313, 1.02370023727417, 0.9666383862495422, 1.0138477087020874, 0.9146457314491272, 0.8900362253189087, 0.875375509262085, 1.075615406036377, 0.9164305925369263, 0.8893793225288391, 0.9479752779006958, 0.956066906452179, 1.076336145401001, 1.0615437030792236, 0.9264073371887207, 0.9644619226455688, 0.9347599744796753, 1.0251935720443726]\n"
     ]
    }
   ],
   "source": [
    "print(val_loss)"
   ]
  },
  {
   "cell_type": "code",
   "execution_count": null,
   "id": "f6d4377e",
   "metadata": {},
   "outputs": [],
   "source": []
  },
  {
   "cell_type": "code",
   "execution_count": 38,
   "id": "e178221b",
   "metadata": {},
   "outputs": [],
   "source": [
    "sig_valid_acc = [0.9879999756813049, 0.987500011920929, 0.9879000186920166, 0.9879000186920166, 0.9878000020980835, 0.987500011920929, 0.988099992275238, 0.9883999824523926, 0.987500011920929, 0.988099992275238, 0.9879999756813049, 0.9879999756813049, 0.9878000020980835, 0.988099992275238, 0.9878000020980835, 0.9879000186920166, 0.9876000285148621, 0.9879999756813049, 0.9879999756813049, 0.9873999953269958, 0.9882000088691711, 0.9879000186920166, 0.9879000186920166, 0.9876000285148621, 0.9882000088691711, 0.988099992275238, 0.9876999855041504, 0.9879999756813049, 0.9879999756813049, 0.9883000254631042, 0.9879999756813049, 0.987500011920929, 0.9879999756813049, 0.9879999756813049, 0.9876999855041504, 0.988099992275238, 0.9876999855041504, 0.9883999824523926, 0.9879000186920166, 0.9879999756813049, 0.9879000186920166, 0.9879999756813049, 0.9878000020980835, 0.9879999756813049, 0.9878000020980835, 0.9878000020980835, 0.988099992275238, 0.9883000254631042, 0.9882000088691711, 0.9878000020980835, 0.9879999756813049, 0.9883000254631042, 0.9879000186920166, 0.9876999855041504, 0.9882000088691711, 0.9883000254631042, 0.988099992275238, 0.9879999756813049, 0.9882000088691711, 0.9882000088691711]\n",
    "\n",
    "tanh_val__acc = [0.9817000031471252, 0.983299970626831, 0.9850000143051147, 0.9882000088691711, 0.988099992275238, 0.9897000193595886, 0.989799976348877, 0.9904000163078308, 0.9905999898910522, 0.991100013256073, 0.9908000230789185, 0.9908999800682068, 0.9908999800682068, 0.9909999966621399, 0.9908999800682068, 0.9908000230789185, 0.9909999966621399, 0.9909999966621399, 0.9908999800682068, 0.9908999800682068, 0.991100013256073, 0.9909999966621399, 0.9909999966621399, 0.991100013256073, 0.9908999800682068, 0.9908999800682068, 0.9908999800682068, 0.9909999966621399, 0.9909999966621399, 0.991100013256073, 0.9909999966621399, 0.991100013256073, 0.9909999966621399, 0.9909999966621399, 0.991100013256073, 0.991100013256073, 0.991100013256073, 0.991100013256073, 0.991100013256073, 0.9909999966621399, 0.9909999966621399, 0.9909999966621399, 0.9909999966621399, 0.9909999966621399, 0.9909999966621399, 0.9909999966621399, 0.9909999966621399, 0.9909999966621399, 0.991100013256073, 0.991100013256073, 0.9909999966621399, 0.991100013256073, 0.991100013256073, 0.991100013256073, 0.991100013256073, 0.991100013256073, 0.991100013256073, 0.991100013256073, 0.991100013256073, 0.991100013256073]\n",
    "\n",
    "relu_val_l2_acc = [0.8974999785423279, 0.9290000200271606, 0.8819000124931335, 0.8835999965667725, 0.8842999935150146, 0.9007999897003174, 0.9376000165939331, 0.6586999893188477, 0.9301000237464905, 0.933899998664856, 0.8992999792098999, 0.9027000069618225, 0.9121000170707703, 0.7297999858856201, 0.8927000164985657, 0.9164999723434448, 0.9175999760627747, 0.9314000010490417, 0.9437000155448914, 0.857200026512146, 0.8636000156402588, 0.5882999897003174, 0.9193000197410583, 0.9179999828338623, 0.9368000030517578, 0.911899983882904, 0.869700014591217, 0.8634999990463257, 0.9085000157356262, 0.8937000036239624, 0.9162999987602234, 0.7641000151634216, 0.8809999823570251, 0.9182999730110168, 0.8614000082015991, 0.9337999820709229, 0.8715999722480774, 0.8801000118255615, 0.8708999752998352, 0.7925000190734863, 0.8259999752044678, 0.8141000270843506, 0.7681000232696533, 0.7754999995231628, 0.8003000020980835, 0.7878000140190125, 0.809499979019165, 0.8327999711036682, 0.8328999876976013, 0.748199999332428, 0.8314999938011169, 0.8363000154495239, 0.8094000220298767, 0.8100000023841858, 0.7595000267028809, 0.7692999839782715, 0.8095999956130981, 0.7997999787330627, 0.828000009059906, 0.7858999967575073]"
   ]
  },
  {
   "cell_type": "code",
   "execution_count": 40,
   "id": "d2f88839",
   "metadata": {},
   "outputs": [
    {
     "data": {
      "image/png": "[encoded data removed]",
      "text/plain": [
       "<Figure size 432x288 with 1 Axes>"
      ]
     },
     "metadata": {
      "needs_background": "light"
     },
     "output_type": "display_data"
    }
   ],
   "source": [
    "plt.title(\"CNN using sigmoid and tanh activation\")\n",
    "plt.plot(sig_valid_acc, c='r', label='sigmoid validation accuracy')\n",
    "plt.plot(tanh_val__acc, c='b', label='tanh validation accuracy')\n",
    "plt.plot(relu_val_l2_acc, c='g', label='relu validation accuracy')\n",
    "\n",
    "plt.legend()\n",
    "plt.xlabel('epochs')\n",
    "plt.ylabel('valid. acc.')\n",
    "plt.show()"
   ]
  },
  {
   "cell_type": "markdown",
   "id": "93fc8645",
   "metadata": {},
   "source": [
    "\n",
    "<h1>M. Neilsen claims that relu is more accurate than sigmoid for MNIST problem, but I find the opposite to be true<h1/>\n"
   ]
  },
  {
   "cell_type": "code",
   "execution_count": null,
   "id": "a6334cb4",
   "metadata": {},
   "outputs": [],
   "source": []
  },
  {
   "cell_type": "code",
   "execution_count": null,
   "id": "f1aa8914",
   "metadata": {},
   "outputs": [],
   "source": []
  }
 ],
 "metadata": {
  "kernelspec": {
   "display_name": "Python 3",
   "language": "python",
   "name": "python3"
  },
  "language_info": {
   "codemirror_mode": {
    "name": "ipython",
    "version": 3
   },
   "file_extension": ".py",
   "mimetype": "text/x-python",
   "name": "python",
   "nbconvert_exporter": "python",
   "pygments_lexer": "ipython3",
   "version": "3.6.8"
  }
 },
 "nbformat": 4,
 "nbformat_minor": 5
}
