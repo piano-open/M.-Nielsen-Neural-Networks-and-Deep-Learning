{
 "cells": [
  {
   "cell_type": "markdown",
   "id": "9cdefe56",
   "metadata": {},
   "source": [
    "<h1>M. Nielsen, Chapter 6, 5th cnn model (expand data set)</h1>"
   ]
  },
  {
   "cell_type": "code",
   "execution_count": 2,
   "id": "80f03fd8",
   "metadata": {},
   "outputs": [
    {
     "data": {
      "text/html": [
       "<style>.container { width:100% !important; }</style>"
      ],
      "text/plain": [
       "<IPython.core.display.HTML object>"
      ]
     },
     "metadata": {},
     "output_type": "display_data"
    }
   ],
   "source": [
    "from IPython.core.display import display, HTML\n",
    "display(HTML(\"<style>.container { width:100% !important; }</style>\"))"
   ]
  },
  {
   "cell_type": "code",
   "execution_count": 4,
   "id": "f41fb54e",
   "metadata": {},
   "outputs": [],
   "source": [
    "import os\n",
    "import numpy as np\n",
    "import time\n",
    "import random\n",
    "from winsound import Beep\n"
   ]
  },
  {
   "cell_type": "code",
   "execution_count": 6,
   "id": "b346c830",
   "metadata": {},
   "outputs": [],
   "source": [
    "import tensorflow as tf # changed to intel-optimized build\n",
    "Beep(1000, 100)"
   ]
  },
  {
   "cell_type": "code",
   "execution_count": 9,
   "id": "a66d1ec7",
   "metadata": {},
   "outputs": [],
   "source": [
    "from matplotlib import pyplot as plt"
   ]
  },
  {
   "cell_type": "code",
   "execution_count": 11,
   "id": "288c3614",
   "metadata": {},
   "outputs": [],
   "source": [
    "os.chdir(r\"C:\\Users\\mchen\\OneDrive\\桌面\\ml\\code\\tutorial\\chapter3\\20211119\\multi_layer\")"
   ]
  },
  {
   "cell_type": "markdown",
   "id": "609084bc",
   "metadata": {},
   "source": [
    "<h1>load data & expand training data</h1>"
   ]
  },
  {
   "cell_type": "code",
   "execution_count": 12,
   "id": "83beedea",
   "metadata": {},
   "outputs": [
    {
     "name": "stdout",
     "output_type": "stream",
     "text": [
      "Expanding image number 1000\n",
      "Expanding image number 2000\n",
      "Expanding image number 3000\n",
      "Expanding image number 4000\n",
      "Expanding image number 5000\n",
      "Expanding image number 6000\n",
      "Expanding image number 7000\n",
      "Expanding image number 8000\n",
      "Expanding image number 9000\n",
      "Expanding image number 10000\n",
      "Expanding image number 11000\n",
      "Expanding image number 12000\n",
      "Expanding image number 13000\n",
      "Expanding image number 14000\n",
      "Expanding image number 15000\n",
      "Expanding image number 16000\n",
      "Expanding image number 17000\n",
      "Expanding image number 18000\n",
      "Expanding image number 19000\n",
      "Expanding image number 20000\n",
      "Expanding image number 21000\n",
      "Expanding image number 22000\n",
      "Expanding image number 23000\n",
      "Expanding image number 24000\n",
      "Expanding image number 25000\n",
      "Expanding image number 26000\n",
      "Expanding image number 27000\n",
      "Expanding image number 28000\n",
      "Expanding image number 29000\n",
      "Expanding image number 30000\n",
      "Expanding image number 31000\n",
      "Expanding image number 32000\n",
      "Expanding image number 33000\n",
      "Expanding image number 34000\n",
      "Expanding image number 35000\n",
      "Expanding image number 36000\n",
      "Expanding image number 37000\n",
      "Expanding image number 38000\n",
      "Expanding image number 39000\n",
      "Expanding image number 40000\n",
      "Expanding image number 41000\n",
      "Expanding image number 42000\n",
      "Expanding image number 43000\n",
      "Expanding image number 44000\n",
      "Expanding image number 45000\n",
      "Expanding image number 46000\n",
      "Expanding image number 47000\n",
      "Expanding image number 48000\n",
      "Expanding image number 49000\n",
      "Expanding image number 50000\n"
     ]
    }
   ],
   "source": [
    "###############################################\n",
    "#    load data from local directory\n",
    "###############################################\n",
    "\n",
    "import mnist_loader\n",
    "training_data, validation_data, test_data = mnist_loader.load_data_wrapper()\n",
    "Beep(1000, 100)\n",
    "\n",
    "###############################################\n",
    "#    expand training data\n",
    "###############################################\n",
    "expanded_training_pairs = []\n",
    "j = 0 # counter\n",
    "for data in training_data:\n",
    "    x = data[0]\n",
    "    y = data[1]\n",
    "    expanded_training_pairs.append((x, y))\n",
    "    image = x.reshape((28, 28))\n",
    "    j += 1\n",
    "    if j % 1000 == 0: print(\"Expanding image number\", j)\n",
    "    # iterate over data telling us the details of how to\n",
    "    # do the displacement\n",
    "    for d, axis, index_position, index in [\n",
    "            (1,  0, \"first\", 0),\n",
    "            (-1, 0, \"first\", 27),\n",
    "            (1,  1, \"last\",  0),\n",
    "            (-1, 1, \"last\",  27)]:\n",
    "        new_img = np.roll(image, d, axis)\n",
    "        if index_position == \"first\": \n",
    "            new_img[index, :] = np.zeros(28)\n",
    "        else: \n",
    "            new_img[:, index] = np.zeros(28)\n",
    "        expanded_training_pairs.append((np.reshape(new_img, 784), y))\n",
    "# random.shuffle(expanded_training_pairs)\n",
    "expanded_training_data = [list(d) for d in expanded_training_pairs]\n",
    "\n"
   ]
  },
  {
   "cell_type": "code",
   "execution_count": null,
   "id": "7c5ea740",
   "metadata": {},
   "outputs": [],
   "source": []
  },
  {
   "cell_type": "code",
   "execution_count": 13,
   "id": "d8bc17cc",
   "metadata": {},
   "outputs": [
    {
     "name": "stdout",
     "output_type": "stream",
     "text": [
      "(250000, 28, 28)\n",
      "(10000, 28, 28)\n",
      "(10000, 28, 28)\n"
     ]
    }
   ],
   "source": [
    "###############################################\n",
    "#    convert data format\n",
    "###############################################\n",
    "\n",
    "train_x, train_y, val_x, val_y, test_x, test_y = [], [], [], [], [], []\n",
    "\n",
    "for tra in expanded_training_data:\n",
    "    img_tra_x = tra[0].reshape(28,28).tolist()\n",
    "    img_tra_y = np.array(np.argmax(tra[1]), dtype=np.uint8)\n",
    "    train_x.append(img_tra_x)\n",
    "    train_y.append(img_tra_y)\n",
    "print(np.shape(train_x))\n",
    "\n",
    "for val in validation_data:\n",
    "    img_val_x = val[0].reshape(28,28)\n",
    "#     img_val_y = np.array(np.argmax(val[1]), dtype=np.uint8)\n",
    "    img_val_y = np.array(val[1], dtype=np.uint8)\n",
    "    val_x.append(img_val_x)\n",
    "    val_y.append(img_val_y)\n",
    "print(np.shape(val_x))\n",
    "\n",
    "for tes in test_data:\n",
    "    img_tes_x = tes[0].reshape(28,28)\n",
    "    img_tes_y = np.array(tes[1], dtype=np.uint8)\n",
    "    test_x.append(img_tes_x)\n",
    "    test_y.append(img_tes_y)\n",
    "print(np.shape(test_x))\n",
    "\n",
    "\n",
    "train_x = np.array(train_x)\n",
    "val_x = np.array(val_x)\n",
    "test_x = np.array(test_x)\n",
    "\n",
    "train_y = np.array(train_y)\n",
    "val_y = np.array(val_y)\n",
    "test_y = np.array(test_y)\n",
    "\n",
    "Beep(1000, 100)"
   ]
  },
  {
   "cell_type": "code",
   "execution_count": 47,
   "id": "a6195c4c",
   "metadata": {},
   "outputs": [
    {
     "data": {
      "image/png": "[encoded data removed]",
      "text/plain": [
       "<Figure size 432x288 with 1 Axes>"
      ]
     },
     "metadata": {
      "needs_background": "light"
     },
     "output_type": "display_data"
    },
    {
     "name": "stdout",
     "output_type": "stream",
     "text": [
      "img label: 5\n"
     ]
    },
    {
     "data": {
      "image/png": "[encoded data removed]",
      "text/plain": [
       "<Figure size 432x288 with 1 Axes>"
      ]
     },
     "metadata": {
      "needs_background": "light"
     },
     "output_type": "display_data"
    },
    {
     "name": "stdout",
     "output_type": "stream",
     "text": [
      "img label: 5\n"
     ]
    },
    {
     "data": {
      "image/png": "[encoded data removed]",
      "text/plain": [
       "<Figure size 432x288 with 1 Axes>"
      ]
     },
     "metadata": {
      "needs_background": "light"
     },
     "output_type": "display_data"
    },
    {
     "name": "stdout",
     "output_type": "stream",
     "text": [
      "img label: 5\n"
     ]
    },
    {
     "data": {
      "image/png": "[encoded data removed]",
      "text/plain": [
       "<Figure size 432x288 with 1 Axes>"
      ]
     },
     "metadata": {
      "needs_background": "light"
     },
     "output_type": "display_data"
    },
    {
     "name": "stdout",
     "output_type": "stream",
     "text": [
      "img label: 5\n"
     ]
    },
    {
     "data": {
      "image/png": "[encoded data removed]",
      "text/plain": [
       "<Figure size 432x288 with 1 Axes>"
      ]
     },
     "metadata": {
      "needs_background": "light"
     },
     "output_type": "display_data"
    },
    {
     "name": "stdout",
     "output_type": "stream",
     "text": [
      "img label: 5\n"
     ]
    }
   ],
   "source": [
    "###############################################\n",
    "#    checking expanded data\n",
    "###############################################\n",
    "\n",
    "for i in range(5):\n",
    "    plt.imshow(train_x[i], interpolation='none')\n",
    "    plt.show()\n",
    "    print('img label:', train_y[i])\n"
   ]
  },
  {
   "cell_type": "markdown",
   "id": "52d46730",
   "metadata": {},
   "source": [
    "<h1>Relu CNN model as described in M. Nielsen, Chapter 6</h1>\t\n",
    "<h1>(Using my own hyper params)</h1>"
   ]
  },
  {
   "cell_type": "code",
   "execution_count": 18,
   "id": "cc3ad697",
   "metadata": {},
   "outputs": [],
   "source": [
    "# >>> from network3 import ReLU\n",
    "# >>> net = Network([\n",
    "#         ConvPoolLayer(image_shape=(mini_batch_size, 1, 28, 28), \n",
    "#                       filter_shape=(20, 1, 5, 5), \n",
    "#                       poolsize=(2, 2), \n",
    "#                       activation_fn=ReLU),\n",
    "#         ConvPoolLayer(image_shape=(mini_batch_size, 20, 12, 12), \n",
    "#                       filter_shape=(40, 20, 5, 5), \n",
    "#                       poolsize=(2, 2), \n",
    "#                       activation_fn=ReLU),\n",
    "#         FullyConnectedLayer(n_in=40*4*4, n_out=100, activation_fn=ReLU),\n",
    "#         SoftmaxLayer(n_in=100, n_out=10)], mini_batch_size)\n",
    "# >>> net.SGD(training_data, 60, mini_batch_size, 0.03, \n",
    "#             validation_data, test_data, lmbda=0.1)"
   ]
  },
  {
   "cell_type": "markdown",
   "id": "e20125be",
   "metadata": {},
   "source": [
    "<h1>Reshape data</h1>"
   ]
  },
  {
   "cell_type": "code",
   "execution_count": 14,
   "id": "380e303a",
   "metadata": {},
   "outputs": [],
   "source": [
    "# reshape data\n",
    "train_x = train_x.reshape(np.shape(train_x)[0], np.shape(train_x)[1], np.shape(train_x)[2], 1)\n",
    "val_x = val_x.reshape(np.shape(val_x)[0], np.shape(val_x)[1], np.shape(val_x)[2], 1)\n",
    "test_x = test_x.reshape(np.shape(test_x)[0], np.shape(test_x)[1], np.shape(test_x)[2], 1)\n",
    "\n",
    "train_y = tf.one_hot(train_y.astype(np.int32), depth=10)\n",
    "val_y = tf.one_hot(val_y.astype(np.int32), depth=10)\n",
    "test_y = tf.one_hot(test_y.astype(np.int32), depth=10)\n",
    "Beep(1000, 100)"
   ]
  },
  {
   "cell_type": "markdown",
   "id": "a1a5ed99",
   "metadata": {},
   "source": [
    "<h1>Build Network model (relu, better h-param)</h1>"
   ]
  },
  {
   "cell_type": "code",
   "execution_count": 15,
   "id": "7a55b4d7",
   "metadata": {},
   "outputs": [
    {
     "name": "stdout",
     "output_type": "stream",
     "text": [
      "lmbda= 0.0001\n",
      "\n",
      "eta= 0.03\n",
      "\n",
      "n_eph= 23\n",
      "\n",
      "batch_size= 10\n",
      "\n",
      "n_eph= 23\n",
      "\n",
      "Model: \"sequential\"\n",
      "_________________________________________________________________\n",
      "Layer (type)                 Output Shape              Param #   \n",
      "=================================================================\n",
      "conv2d (Conv2D)              (None, 24, 24, 20)        520       \n",
      "_________________________________________________________________\n",
      "max_pooling2d (MaxPooling2D) (None, 12, 12, 20)        0         \n",
      "_________________________________________________________________\n",
      "conv2d_1 (Conv2D)            (None, 8, 8, 40)          20040     \n",
      "_________________________________________________________________\n",
      "max_pooling2d_1 (MaxPooling2 (None, 4, 4, 40)          0         \n",
      "_________________________________________________________________\n",
      "flatten (Flatten)            (None, 640)               0         \n",
      "_________________________________________________________________\n",
      "dense (Dense)                (None, 100)               64100     \n",
      "_________________________________________________________________\n",
      "dense_1 (Dense)              (None, 10)                1010      \n",
      "=================================================================\n",
      "Total params: 85,670\n",
      "Trainable params: 85,670\n",
      "Non-trainable params: 0\n",
      "_________________________________________________________________\n",
      "Epoch 1/23\n",
      "25000/25000 [==============================] - 107s 4ms/step - loss: 0.1051 - accuracy: 0.9744 - val_loss: 0.0635 - val_accuracy: 0.9886\n",
      "Epoch 2/23\n",
      "25000/25000 [==============================] - 157s 6ms/step - loss: 0.0497 - accuracy: 0.9917 - val_loss: 0.0509 - val_accuracy: 0.9926\n",
      "Epoch 3/23\n",
      "25000/25000 [==============================] - 119s 5ms/step - loss: 0.0401 - accuracy: 0.9945 - val_loss: 0.0464 - val_accuracy: 0.9930\n",
      "Epoch 4/23\n",
      "25000/25000 [==============================] - 112s 4ms/step - loss: 0.0347 - accuracy: 0.9956 - val_loss: 0.0514 - val_accuracy: 0.9914\n",
      "Epoch 5/23\n",
      "25000/25000 [==============================] - 118s 5ms/step - loss: 0.0305 - accuracy: 0.9963 - val_loss: 0.0545 - val_accuracy: 0.9896 - ETA: 0s - loss: 0.0304 - accuracy - ETA: 0s - loss: 0.0305 - accura\n",
      "Epoch 6/23\n",
      "25000/25000 [==============================] - 115s 5ms/step - loss: 0.0275 - accuracy: 0.9970 - val_loss: 0.0472 - val_accuracy: 0.9928\n",
      "Epoch 7/23\n",
      "25000/25000 [==============================] - 120s 5ms/step - loss: 0.0260 - accuracy: 0.9972 - val_loss: 0.0461 - val_accuracy: 0.9924\n",
      "Epoch 8/23\n",
      "25000/25000 [==============================] - 124s 5ms/step - loss: 0.0239 - accuracy: 0.9976 - val_loss: 0.0416 - val_accuracy: 0.9941\n",
      "Epoch 9/23\n",
      "25000/25000 [==============================] - 120s 5ms/step - loss: 0.0230 - accuracy: 0.9976 - val_loss: 0.0412 - val_accuracy: 0.9934\n",
      "Epoch 10/23\n",
      "25000/25000 [==============================] - 122s 5ms/step - loss: 0.0221 - accuracy: 0.9978 - val_loss: 0.0392 - val_accuracy: 0.9941\n",
      "Epoch 11/23\n",
      "25000/25000 [==============================] - 140s 6ms/step - loss: 0.0210 - accuracy: 0.9980 - val_loss: 0.0452 - val_accuracy: 0.9927\n",
      "Epoch 12/23\n",
      "25000/25000 [==============================] - 121s 5ms/step - loss: 0.0207 - accuracy: 0.9980 - val_loss: 0.0442 - val_accuracy: 0.9916\n",
      "Epoch 13/23\n",
      "25000/25000 [==============================] - 147s 6ms/step - loss: 0.0202 - accuracy: 0.9981 - val_loss: 0.0399 - val_accuracy: 0.9936\n",
      "Epoch 14/23\n",
      "25000/25000 [==============================] - 138s 6ms/step - loss: 0.0200 - accuracy: 0.9979 - val_loss: 0.0420 - val_accuracy: 0.9927\n",
      "Epoch 15/23\n",
      "25000/25000 [==============================] - 133s 5ms/step - loss: 0.0192 - accuracy: 0.9981 - val_loss: 0.0347 - val_accuracy: 0.9950\n",
      "Epoch 16/23\n",
      "25000/25000 [==============================] - 129s 5ms/step - loss: 0.0189 - accuracy: 0.9982 - val_loss: 0.0416 - val_accuracy: 0.9933\n",
      "Epoch 17/23\n",
      "25000/25000 [==============================] - 146s 6ms/step - loss: 0.0189 - accuracy: 0.9982 - val_loss: 0.0430 - val_accuracy: 0.9928\n",
      "Epoch 18/23\n",
      "25000/25000 [==============================] - 139s 6ms/step - loss: 0.0182 - accuracy: 0.9984 - val_loss: 0.0409 - val_accuracy: 0.9926\n",
      "Epoch 19/23\n",
      "25000/25000 [==============================] - 143s 6ms/step - loss: 0.0184 - accuracy: 0.9982 - val_loss: 0.0370 - val_accuracy: 0.9938\n",
      "Epoch 20/23\n",
      "25000/25000 [==============================] - 143s 6ms/step - loss: 0.0183 - accuracy: 0.9982 - val_loss: 0.0404 - val_accuracy: 0.9933\n",
      "Epoch 21/23\n",
      "25000/25000 [==============================] - 139s 6ms/step - loss: 0.0179 - accuracy: 0.9984 - val_loss: 0.0497 - val_accuracy: 0.9906\n",
      "Epoch 22/23\n",
      "25000/25000 [==============================] - 140s 6ms/step - loss: 0.0174 - accuracy: 0.9985 - val_loss: 0.0433 - val_accuracy: 0.9924\n",
      "Epoch 23/23\n",
      "25000/25000 [==============================] - 147s 6ms/step - loss: 0.0175 - accuracy: 0.9984 - val_loss: 0.0449 - val_accuracy: 0.9925\n",
      "total time: 3019.384246110916\n",
      "1/1 [==============================] - 1s 814ms/step - loss: 0.0308 - accuracy: 0.9944\n"
     ]
    },
    {
     "data": {
      "image/png": "[encoded data removed]",
      "text/plain": [
       "<Figure size 432x288 with 1 Axes>"
      ]
     },
     "metadata": {
      "needs_background": "light"
     },
     "output_type": "display_data"
    },
    {
     "name": "stdout",
     "output_type": "stream",
     "text": [
      "acc [0.9743840098381042, 0.9916960000991821, 0.9944599866867065, 0.9956039786338806, 0.9963080286979675, 0.9969559907913208, 0.9971680045127869, 0.9976000189781189, 0.9976279735565186, 0.9978160262107849, 0.9979519844055176, 0.9980319738388062, 0.9980639815330505, 0.9979479908943176, 0.9981120228767395, 0.998199999332428, 0.998196005821228, 0.9983839988708496, 0.9982079863548279, 0.9982280135154724, 0.9983639717102051, 0.998520016670227, 0.9984080195426941]\n",
      "loss [0.1051047295331955, 0.049729201942682266, 0.04006342217326164, 0.03466847538948059, 0.03045583702623844, 0.027526838704943657, 0.02600017935037613, 0.023924531415104866, 0.023000558838248253, 0.022072644904255867, 0.02099716290831566, 0.020674001425504684, 0.020160622894763947, 0.020017491653561592, 0.019217869266867638, 0.018885906785726547, 0.01889987289905548, 0.018172487616539, 0.018436601385474205, 0.018333889544010162, 0.017904426902532578, 0.0174313522875309, 0.017532775178551674]\n",
      "val_acc [0.9886000156402588, 0.9926000237464905, 0.9929999709129333, 0.9914000034332275, 0.9896000027656555, 0.9927999973297119, 0.9923999905586243, 0.9940999746322632, 0.993399977684021, 0.9940999746322632, 0.9926999807357788, 0.991599977016449, 0.9936000108718872, 0.9926999807357788, 0.9950000047683716, 0.9933000206947327, 0.9927999973297119, 0.9926000237464905, 0.9937999844551086, 0.9933000206947327, 0.9905999898910522, 0.9923999905586243, 0.9925000071525574]\n",
      "val_loss [0.06347892433404922, 0.05087655782699585, 0.0463511124253273, 0.05140605568885803, 0.054536622017621994, 0.04720790684223175, 0.04605728015303612, 0.04157378524541855, 0.04119320213794708, 0.039152707904577255, 0.0452137254178524, 0.044234201312065125, 0.03989052399992943, 0.042020536959171295, 0.0347188338637352, 0.04157118499279022, 0.0430094413459301, 0.04094706103205681, 0.03699281066656113, 0.04040003940463066, 0.04968486353754997, 0.043319087475538254, 0.044874876737594604]\n"
     ]
    }
   ],
   "source": [
    "################################################################\n",
    "#   relu CNN network as described in chapter 6\n",
    "################################################################\n",
    "tf.random.set_seed(42)\n",
    "# tf.random.set_seed(24)\n",
    "################################################################\n",
    "\n",
    "\n",
    "#################################\n",
    "#    h-param base line\n",
    "#################################\n",
    "lmbda = 0.1 / 10 / 10 / 10\n",
    "eta = 0.03\n",
    "n_eph = 20\n",
    "\n",
    "batch_size = 10\n",
    "n_eph = 23\n",
    "\n",
    "\n",
    "\n",
    "\n",
    "################################################################\n",
    "print('lmbda= {}\\n'.format(lmbda))\n",
    "print('eta= {}\\n'.format(eta))\n",
    "print('n_eph= {}\\n'.format(n_eph))\n",
    "print('batch_size= {}\\n'.format(batch_size))\n",
    "print('n_eph= {}\\n'.format(n_eph))\n",
    "################################################################\n",
    "\n",
    "\n",
    "################################################################\n",
    "# construct netwoek model\n",
    "input_shape = (28, 28, 1)\n",
    "model = tf.keras.models.Sequential()\n",
    "model.add(tf.keras.layers.Conv2D( # no padding\n",
    "        20,\n",
    "        (5,5),\n",
    "        activation=tf.nn.relu,\n",
    "        kernel_regularizer=tf.keras.regularizers.L2(l2=lmbda),\n",
    "        input_shape=input_shape))\n",
    "\n",
    "model.add(tf.keras.layers.MaxPool2D(strides=(2,2)))\n",
    "\n",
    "model.add(tf.keras.layers.Conv2D( # no padding\n",
    "        40,\n",
    "        (5,5),\n",
    "        activation=tf.nn.relu,\n",
    "        kernel_regularizer=tf.keras.regularizers.L2(l2=lmbda)))\n",
    "\n",
    "model.add(tf.keras.layers.MaxPool2D(strides=(2,2)))\n",
    "\n",
    "model.add(tf.keras.layers.Flatten())\n",
    "\n",
    "model.add(tf.keras.layers.Dense(\n",
    "        100,\n",
    "        activation=tf.nn.relu,\n",
    "        kernel_regularizer=tf.keras.regularizers.L2(l2=lmbda)))\n",
    "\n",
    "model.add(tf.keras.layers.Dense(10,activation=tf.nn.softmax))\n",
    "################################################################\n",
    "\n",
    "################################################################\n",
    "# compile model\n",
    "model.compile(\n",
    "    optimizer=tf.keras.optimizers.SGD(\n",
    "        learning_rate=eta,\n",
    "        momentum=0.0,\n",
    "        nesterov=False,\n",
    "        name=\"SGD\"),\n",
    "    loss='categorical_crossentropy',\n",
    "    metrics=['accuracy']\n",
    ")\n",
    "\n",
    "################################################################\n",
    "\n",
    "model.summary()\n",
    "\n",
    "################################################################\n",
    "# save the model when val_acc is best\n",
    "checkpoint_filepath = r'C:\\Users\\mchen\\OneDrive\\桌面\\ml\\code\\tutorial\\chapter6\\save_model\\expansion\\expansion'\n",
    "\n",
    "model_checkpoint_callback = tf.keras.callbacks.ModelCheckpoint(\n",
    "    filepath=checkpoint_filepath,\n",
    "    save_weights_only=True,\n",
    "    monitor='val_accuracy',\n",
    "    mode='max',\n",
    "    save_best_only=True)\n",
    "################################################################\n",
    "\n",
    "################################################################\n",
    "#    train model  (how do i randomize mini_batches?)\n",
    "\n",
    "\n",
    "ts = time.time()\n",
    "history = model.fit(\n",
    "    train_x, train_y, \n",
    "    epochs=n_eph,\n",
    "    batch_size=batch_size,\n",
    "    validation_data=(val_x, val_y),\n",
    "    callbacks=[model_checkpoint_callback],\n",
    "    shuffle=True\n",
    ")\n",
    "te = time.time()\n",
    "\n",
    "print('total time:', te - ts)\n",
    "\n",
    "\n",
    "acc = history.history['accuracy']\n",
    "loss = history.history['loss']\n",
    "val_acc = history.history['val_accuracy']\n",
    "val_loss = history.history['val_loss']\n",
    "################################################################\n",
    "\n",
    "\n",
    "################################################################\n",
    "#    load the weights for the best epoch (best val accuracy)\n",
    "model.load_weights(checkpoint_filepath)\n",
    "\n",
    "################################################################\n",
    "\n",
    "################################################################\n",
    "#    evaluate test data at the best epoch\n",
    "[test_data_loss, test_data_accuracy] = model.evaluate(\n",
    "    test_x, test_y,\n",
    "    batch_size=len(test_x)\n",
    ")\n",
    "################################################################\n",
    "\n",
    "\n",
    "plt.plot(acc, label='train acc., best: {:.3f}'.format(max(acc)))\n",
    "plt.plot(val_acc, label='validation acc. best: {:.3f}'.format(max(val_acc)))\n",
    "plt.title('CNN relu, expanded train data, SGD, , eta={}, lmbda={}, {} epochs'.format(eta, lmbda, n_eph))\n",
    "plt.axvline(x=np.argmax(val_acc), c='r', ls=':', label='best epoch: {}'.format(np.argmax(val_acc)))\n",
    "plt.axhline(y=test_data_accuracy, c='r', label='test data accuracy at best epoch: {:.3f}'.format(test_data_accuracy))\n",
    "plt.legend()\n",
    "plt.show()\n",
    "\n",
    "Beep(1000, 100)\n",
    "\n",
    "\n",
    "print('acc', acc)\n",
    "print('loss', loss)\n",
    "print('val_acc', val_acc)\n",
    "print('val_loss', val_loss)"
   ]
  },
  {
   "cell_type": "markdown",
   "id": "1e12354f",
   "metadata": {},
   "source": [
    "<h1>Expanding training data results in 99.4% test accuracy.<h1/>"
   ]
  },
  {
   "cell_type": "code",
   "execution_count": null,
   "id": "f1aa8914",
   "metadata": {},
   "outputs": [],
   "source": []
  }
 ],
 "metadata": {
  "kernelspec": {
   "display_name": "Python 3",
   "language": "python",
   "name": "python3"
  },
  "language_info": {
   "codemirror_mode": {
    "name": "ipython",
    "version": 3
   },
   "file_extension": ".py",
   "mimetype": "text/x-python",
   "name": "python",
   "nbconvert_exporter": "python",
   "pygments_lexer": "ipython3",
   "version": "3.6.8"
  }
 },
 "nbformat": 4,
 "nbformat_minor": 5
}
