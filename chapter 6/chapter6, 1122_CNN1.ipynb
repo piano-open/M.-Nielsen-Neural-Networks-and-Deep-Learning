{
 "cells": [
  {
   "cell_type": "markdown",
   "id": "9cdefe56",
   "metadata": {},
   "source": [
    "<h1>M. Nielsen, Chapter 6, first cnn model</h1>"
   ]
  },
  {
   "cell_type": "code",
   "execution_count": 1,
   "id": "80f03fd8",
   "metadata": {},
   "outputs": [
    {
     "data": {
      "text/html": [
       "<style>.container { width:100% !important; }</style>"
      ],
      "text/plain": [
       "<IPython.core.display.HTML object>"
      ]
     },
     "metadata": {},
     "output_type": "display_data"
    }
   ],
   "source": [
    "from IPython.core.display import display, HTML\n",
    "display(HTML(\"<style>.container { width:100% !important; }</style>\"))"
   ]
  },
  {
   "cell_type": "code",
   "execution_count": 2,
   "id": "f41fb54e",
   "metadata": {},
   "outputs": [],
   "source": [
    "import os\n",
    "import numpy as np\n",
    "import time\n",
    "import random\n",
    "import tensorflow as tf"
   ]
  },
  {
   "cell_type": "code",
   "execution_count": 5,
   "id": "a66d1ec7",
   "metadata": {},
   "outputs": [],
   "source": [
    "from matplotlib import pyplot as plt"
   ]
  },
  {
   "cell_type": "code",
   "execution_count": 7,
   "id": "288c3614",
   "metadata": {},
   "outputs": [],
   "source": [
    "os.chdir(r\"C:\\Users\\mchen\\OneDrive\\桌面\\ml\\code\\tutorial\\chapter3\\20211119\\multi_layer\")"
   ]
  },
  {
   "cell_type": "code",
   "execution_count": 9,
   "id": "23658ba4",
   "metadata": {},
   "outputs": [],
   "source": [
    "import mnist_loader\n",
    "training_data, validation_data, test_data = mnist_loader.load_data_wrapper()"
   ]
  },
  {
   "cell_type": "code",
   "execution_count": 10,
   "id": "83beedea",
   "metadata": {},
   "outputs": [
    {
     "name": "stdout",
     "output_type": "stream",
     "text": [
      "(50000, 28, 28)\n",
      "(10000, 28, 28)\n",
      "(10000, 28, 28)\n"
     ]
    }
   ],
   "source": [
    "###############################################\n",
    "#    load data from local directory\n",
    "###############################################\n",
    "\n",
    "train_x, train_y, val_x, val_y, test_x, test_y = [], [], [], [], [], []\n",
    "\n",
    "training_data, validation_data, test_data = mnist_loader.load_data_wrapper()\n",
    "\n",
    "for tra in training_data:\n",
    "    img_tra_x = tra[0].reshape(28,28).tolist()\n",
    "    img_tra_y = np.array(np.argmax(tra[1]), dtype=np.uint8)\n",
    "    train_x.append(img_tra_x)\n",
    "    train_y.append(img_tra_y)\n",
    "print(np.shape(train_x))\n",
    "\n",
    "for val in validation_data:\n",
    "    img_val_x = val[0].reshape(28,28)\n",
    "#     img_val_y = np.array(np.argmax(val[1]), dtype=np.uint8)\n",
    "    img_val_y = np.array(val[1], dtype=np.uint8)\n",
    "    val_x.append(img_val_x)\n",
    "    val_y.append(img_val_y)\n",
    "print(np.shape(val_x))\n",
    "\n",
    "for tes in test_data:\n",
    "    img_tes_x = tes[0].reshape(28,28)\n",
    "    img_tes_y = np.array(tes[1], dtype=np.uint8)\n",
    "    test_x.append(img_tes_x)\n",
    "    test_y.append(img_tes_y)\n",
    "print(np.shape(test_x))\n",
    "\n",
    "\n",
    "train_x = np.array(train_x)\n",
    "val_x = np.array(val_x)\n",
    "test_x = np.array(test_x)\n",
    "\n",
    "train_y = np.array(train_y)\n",
    "val_y = np.array(val_y)\n",
    "test_y = np.array(test_y)"
   ]
  },
  {
   "cell_type": "code",
   "execution_count": 11,
   "id": "a6195c4c",
   "metadata": {},
   "outputs": [
    {
     "data": {
      "image/png": "[encoded data removed]",
      "text/plain": [
       "<Figure size 432x288 with 1 Axes>"
      ]
     },
     "metadata": {
      "needs_background": "light"
     },
     "output_type": "display_data"
    },
    {
     "name": "stdout",
     "output_type": "stream",
     "text": [
      "img label: 5\n"
     ]
    },
    {
     "data": {
      "image/png": "[encoded data removed]",
      "text/plain": [
       "<Figure size 432x288 with 1 Axes>"
      ]
     },
     "metadata": {
      "needs_background": "light"
     },
     "output_type": "display_data"
    },
    {
     "name": "stdout",
     "output_type": "stream",
     "text": [
      "img label: 3\n"
     ]
    },
    {
     "data": {
      "image/png": "[encoded data removed]",
      "text/plain": [
       "<Figure size 432x288 with 1 Axes>"
      ]
     },
     "metadata": {
      "needs_background": "light"
     },
     "output_type": "display_data"
    },
    {
     "name": "stdout",
     "output_type": "stream",
     "text": [
      "img label: 7\n"
     ]
    }
   ],
   "source": [
    "###############################################\n",
    "#    checking data format:\n",
    "###############################################\n",
    "plt.imshow(train_x[0], interpolation='none')\n",
    "plt.show()\n",
    "print('img label:', train_y[0])\n",
    "\n",
    "plt.imshow(val_x[0], interpolation='none')\n",
    "plt.show()\n",
    "print('img label:', val_y[0])\n",
    "\n",
    "plt.imshow(test_x[0], interpolation='none')\n",
    "plt.show()\n",
    "print('img label:', test_y[0])\n"
   ]
  },
  {
   "cell_type": "markdown",
   "id": "52d46730",
   "metadata": {},
   "source": [
    "<h1>Trying Implementing the first CNN model as described in M. Nielsen, Chapter 6</h1>\t"
   ]
  },
  {
   "cell_type": "code",
   "execution_count": 12,
   "id": "e8686e0f",
   "metadata": {},
   "outputs": [],
   "source": [
    "# first CNN model, M. Nielsen, Chapter 6\n",
    "\n",
    "# >> net = Network([\n",
    "#         ConvPoolLayer(image_shape=(mini_batch_size, 1, 28, 28), \n",
    "#                       filter_shape=(20, 1, 5, 5), \n",
    "#                       poolsize=(2, 2)),\n",
    "#         FullyConnectedLayer(n_in=20*12*12, n_out=100),\n",
    "#         SoftmaxLayer(n_in=100, n_out=10)], mini_batch_size)\n",
    "# >>> net.SGD(training_data, 60, mini_batch_size, 0.1, \n",
    "#             validation_data, test_data) "
   ]
  },
  {
   "attachments": {
    "image.png": {
     "image/png": "[encoded data removed]"
    }
   },
   "cell_type": "markdown",
   "id": "929c8325",
   "metadata": {},
   "source": [
    "![image.png](attachment:image.png)"
   ]
  },
  {
   "cell_type": "markdown",
   "id": "1246496e",
   "metadata": {},
   "source": [
    "<h1>Reshape data</h1>"
   ]
  },
  {
   "cell_type": "code",
   "execution_count": 13,
   "id": "2421089e",
   "metadata": {},
   "outputs": [],
   "source": [
    "# reshape data\n",
    "train_x = train_x.reshape(np.shape(train_x)[0], np.shape(train_x)[1], np.shape(train_x)[2], 1)\n",
    "val_x = val_x.reshape(np.shape(val_x)[0], np.shape(val_x)[1], np.shape(val_x)[2], 1)\n",
    "test_x = test_x.reshape(np.shape(test_x)[0], np.shape(test_x)[1], np.shape(test_x)[2], 1)\n",
    "\n",
    "train_y = tf.one_hot(train_y.astype(np.int32), depth=10)\n",
    "val_y = tf.one_hot(val_y.astype(np.int32), depth=10)\n",
    "test_y = tf.one_hot(test_y.astype(np.int32), depth=10)"
   ]
  },
  {
   "cell_type": "markdown",
   "id": "dd0edb16",
   "metadata": {},
   "source": [
    "<h1>Build Network model</h1>"
   ]
  },
  {
   "cell_type": "code",
   "execution_count": 14,
   "id": "2b0c86e6",
   "metadata": {},
   "outputs": [
    {
     "name": "stdout",
     "output_type": "stream",
     "text": [
      "Model: \"sequential\"\n",
      "_________________________________________________________________\n",
      "Layer (type)                 Output Shape              Param #   \n",
      "=================================================================\n",
      "conv2d (Conv2D)              (None, 24, 24, 20)        520       \n",
      "_________________________________________________________________\n",
      "max_pooling2d (MaxPooling2D) (None, 12, 12, 20)        0         \n",
      "_________________________________________________________________\n",
      "flatten (Flatten)            (None, 2880)              0         \n",
      "_________________________________________________________________\n",
      "dense (Dense)                (None, 100)               288100    \n",
      "_________________________________________________________________\n",
      "dense_1 (Dense)              (None, 10)                1010      \n",
      "=================================================================\n",
      "Total params: 289,630\n",
      "Trainable params: 289,630\n",
      "Non-trainable params: 0\n",
      "_________________________________________________________________\n"
     ]
    }
   ],
   "source": [
    "################################################################\n",
    "#   first CNN network as described in chapter 6\n",
    "################################################################\n",
    "tf.random.set_seed(42)\n",
    "################################################################\n",
    "\n",
    "################################################################\n",
    "# construct netwoek model\n",
    "\n",
    "input_shape = (28, 28, 1)\n",
    "\n",
    "model = tf.keras.models.Sequential()\n",
    "\n",
    "model.add(\n",
    "    tf.keras.layers.Conv2D( # no padding\n",
    "        20,\n",
    "        (5,5),\n",
    "        activation=tf.nn.sigmoid,\n",
    "        input_shape=input_shape\n",
    "    )\n",
    ")\n",
    "\n",
    "model.add(\n",
    "    tf.keras.layers.MaxPool2D(\n",
    "        strides=(2,2)\n",
    "    )\n",
    ")\n",
    "\n",
    "model.add(\n",
    "    tf.keras.layers.Flatten()\n",
    ")\n",
    "\n",
    "model.add(\n",
    "    tf.keras.layers.Dense(\n",
    "        100,\n",
    "        activation=tf.nn.sigmoid,\n",
    "        kernel_initializer=tf.keras.initializers.RandomNormal(\n",
    "            stddev=1.0),\n",
    "        bias_initializer=tf.keras.initializers.RandomNormal(\n",
    "            stddev=1.0)\n",
    "    )\n",
    ")\n",
    "\n",
    "model.add(\n",
    "    tf.keras.layers.Dense(\n",
    "        10,\n",
    "        activation=tf.nn.softmax,\n",
    "    )\n",
    ")\n",
    "################################################################\n",
    "\n",
    "################################################################\n",
    "# compile model\n",
    "n_eph = 60\n",
    "eta = 0.1\n",
    "model.compile(\n",
    "    optimizer=tf.keras.optimizers.SGD(\n",
    "        learning_rate=eta,\n",
    "        momentum=0.0,\n",
    "        nesterov=False,\n",
    "        name=\"SGD\"),\n",
    "    loss='categorical_crossentropy',\n",
    "    metrics=['accuracy']\n",
    ")\n",
    "\n",
    "################################################################\n",
    "model.summary()\n"
   ]
  },
  {
   "cell_type": "markdown",
   "id": "8031a36e",
   "metadata": {},
   "source": [
    "<h1>Train Network</h1>"
   ]
  },
  {
   "cell_type": "code",
   "execution_count": 15,
   "id": "c471f327",
   "metadata": {
    "scrolled": true
   },
   "outputs": [
    {
     "name": "stdout",
     "output_type": "stream",
     "text": [
      "Epoch 1/60\n",
      "5000/5000 [==============================] - 22s 4ms/step - loss: 0.5982 - accuracy: 0.8116 - val_loss: 0.3056 - val_accuracy: 0.9075\n",
      "Epoch 2/60\n",
      "5000/5000 [==============================] - 24s 5ms/step - loss: 0.2862 - accuracy: 0.9133 - val_loss: 0.2081 - val_accuracy: 0.9383\n",
      "Epoch 3/60\n",
      "5000/5000 [==============================] - 25s 5ms/step - loss: 0.2197 - accuracy: 0.9322 - val_loss: 0.1881 - val_accuracy: 0.9440\n",
      "Epoch 4/60\n",
      "5000/5000 [==============================] - 24s 5ms/step - loss: 0.1790 - accuracy: 0.9457 - val_loss: 0.1686 - val_accuracy: 0.9511\n",
      "Epoch 5/60\n",
      "5000/5000 [==============================] - 35s 7ms/step - loss: 0.1538 - accuracy: 0.9521 - val_loss: 0.1418 - val_accuracy: 0.9586\n",
      "Epoch 6/60\n",
      "5000/5000 [==============================] - 37s 7ms/step - loss: 0.1343 - accuracy: 0.9577 - val_loss: 0.1285 - val_accuracy: 0.9615\n",
      "Epoch 7/60\n",
      "5000/5000 [==============================] - 40s 8ms/step - loss: 0.1202 - accuracy: 0.9624 - val_loss: 0.1227 - val_accuracy: 0.9648\n",
      "Epoch 8/60\n",
      "5000/5000 [==============================] - 40s 8ms/step - loss: 0.1093 - accuracy: 0.9650 - val_loss: 0.1145 - val_accuracy: 0.9640\n",
      "Epoch 9/60\n",
      "5000/5000 [==============================] - 41s 8ms/step - loss: 0.1000 - accuracy: 0.9689 - val_loss: 0.1057 - val_accuracy: 0.9676\n",
      "Epoch 10/60\n",
      "5000/5000 [==============================] - 43s 9ms/step - loss: 0.0907 - accuracy: 0.9724 - val_loss: 0.1078 - val_accuracy: 0.9674\n",
      "Epoch 11/60\n",
      "5000/5000 [==============================] - 41s 8ms/step - loss: 0.0853 - accuracy: 0.9727 - val_loss: 0.0960 - val_accuracy: 0.9729\n",
      "Epoch 12/60\n",
      "5000/5000 [==============================] - 43s 9ms/step - loss: 0.0770 - accuracy: 0.9760 - val_loss: 0.0927 - val_accuracy: 0.9731\n",
      "Epoch 13/60\n",
      "5000/5000 [==============================] - 43s 9ms/step - loss: 0.0721 - accuracy: 0.9774 - val_loss: 0.0905 - val_accuracy: 0.9731\n",
      "Epoch 14/60\n",
      "5000/5000 [==============================] - 42s 8ms/step - loss: 0.0683 - accuracy: 0.9782 - val_loss: 0.0909 - val_accuracy: 0.9735\n",
      "Epoch 15/60\n",
      "5000/5000 [==============================] - 42s 8ms/step - loss: 0.0622 - accuracy: 0.9805 - val_loss: 0.0970 - val_accuracy: 0.9727\n",
      "Epoch 16/60\n",
      "5000/5000 [==============================] - 42s 8ms/step - loss: 0.0578 - accuracy: 0.9825 - val_loss: 0.0918 - val_accuracy: 0.9744\n",
      "Epoch 17/60\n",
      "5000/5000 [==============================] - 41s 8ms/step - loss: 0.0544 - accuracy: 0.9828 - val_loss: 0.0907 - val_accuracy: 0.9732\n",
      "Epoch 18/60\n",
      "5000/5000 [==============================] - 41s 8ms/step - loss: 0.0503 - accuracy: 0.9849 - val_loss: 0.0928 - val_accuracy: 0.9733\n",
      "Epoch 19/60\n",
      "5000/5000 [==============================] - 41s 8ms/step - loss: 0.0471 - accuracy: 0.9852 - val_loss: 0.0921 - val_accuracy: 0.9723\n",
      "Epoch 20/60\n",
      "5000/5000 [==============================] - 42s 8ms/step - loss: 0.0444 - accuracy: 0.9859 - val_loss: 0.0863 - val_accuracy: 0.9756\n",
      "Epoch 21/60\n",
      "5000/5000 [==============================] - 43s 9ms/step - loss: 0.0415 - accuracy: 0.9871 - val_loss: 0.0883 - val_accuracy: 0.9747\n",
      "Epoch 22/60\n",
      "5000/5000 [==============================] - 40s 8ms/step - loss: 0.0388 - accuracy: 0.9882 - val_loss: 0.0857 - val_accuracy: 0.9746\n",
      "Epoch 23/60\n",
      "5000/5000 [==============================] - 40s 8ms/step - loss: 0.0363 - accuracy: 0.9890 - val_loss: 0.0828 - val_accuracy: 0.9753\n",
      "Epoch 24/60\n",
      "5000/5000 [==============================] - 39s 8ms/step - loss: 0.0332 - accuracy: 0.9901 - val_loss: 0.0864 - val_accuracy: 0.9769\n",
      "Epoch 25/60\n",
      "5000/5000 [==============================] - 41s 8ms/step - loss: 0.0316 - accuracy: 0.9907 - val_loss: 0.0801 - val_accuracy: 0.9771\n",
      "Epoch 26/60\n",
      "5000/5000 [==============================] - 41s 8ms/step - loss: 0.0300 - accuracy: 0.9910 - val_loss: 0.0855 - val_accuracy: 0.9763\n",
      "Epoch 27/60\n",
      "5000/5000 [==============================] - 40s 8ms/step - loss: 0.0279 - accuracy: 0.9923 - val_loss: 0.0799 - val_accuracy: 0.9781\n",
      "Epoch 28/60\n",
      "5000/5000 [==============================] - 40s 8ms/step - loss: 0.0257 - accuracy: 0.9931 - val_loss: 0.0859 - val_accuracy: 0.9762\n",
      "Epoch 29/60\n",
      "5000/5000 [==============================] - 40s 8ms/step - loss: 0.0241 - accuracy: 0.9932 - val_loss: 0.0821 - val_accuracy: 0.9764\n",
      "Epoch 30/60\n",
      "5000/5000 [==============================] - 41s 8ms/step - loss: 0.0222 - accuracy: 0.9943 - val_loss: 0.0814 - val_accuracy: 0.9774\n",
      "Epoch 31/60\n",
      "5000/5000 [==============================] - 40s 8ms/step - loss: 0.0211 - accuracy: 0.9943 - val_loss: 0.0803 - val_accuracy: 0.9776\n",
      "Epoch 32/60\n",
      "5000/5000 [==============================] - 40s 8ms/step - loss: 0.0192 - accuracy: 0.9954 - val_loss: 0.0819 - val_accuracy: 0.9771\n",
      "Epoch 33/60\n",
      "5000/5000 [==============================] - 40s 8ms/step - loss: 0.0182 - accuracy: 0.9960 - val_loss: 0.0825 - val_accuracy: 0.9782\n",
      "Epoch 34/60\n",
      "5000/5000 [==============================] - 40s 8ms/step - loss: 0.0169 - accuracy: 0.9964 - val_loss: 0.0811 - val_accuracy: 0.9775\n",
      "Epoch 35/60\n",
      "5000/5000 [==============================] - 39s 8ms/step - loss: 0.0158 - accuracy: 0.9965 - val_loss: 0.0821 - val_accuracy: 0.9777\n",
      "Epoch 36/60\n",
      "5000/5000 [==============================] - 40s 8ms/step - loss: 0.0150 - accuracy: 0.9969 - val_loss: 0.0835 - val_accuracy: 0.9778\n",
      "Epoch 37/60\n",
      "5000/5000 [==============================] - 43s 9ms/step - loss: 0.0141 - accuracy: 0.9971 - val_loss: 0.0846 - val_accuracy: 0.9777\n",
      "Epoch 38/60\n",
      "5000/5000 [==============================] - 45s 9ms/step - loss: 0.0133 - accuracy: 0.9974 - val_loss: 0.0829 - val_accuracy: 0.9781\n",
      "Epoch 39/60\n",
      "5000/5000 [==============================] - 43s 9ms/step - loss: 0.0123 - accuracy: 0.9977 - val_loss: 0.0817 - val_accuracy: 0.9787\n",
      "Epoch 40/60\n",
      "5000/5000 [==============================] - 43s 9ms/step - loss: 0.0117 - accuracy: 0.9980 - val_loss: 0.0828 - val_accuracy: 0.9797\n",
      "Epoch 41/60\n",
      "5000/5000 [==============================] - 42s 8ms/step - loss: 0.0112 - accuracy: 0.9980 - val_loss: 0.0823 - val_accuracy: 0.9793\n",
      "Epoch 42/60\n",
      "5000/5000 [==============================] - 41s 8ms/step - loss: 0.0103 - accuracy: 0.9984 - val_loss: 0.0830 - val_accuracy: 0.9791\n",
      "Epoch 43/60\n",
      "5000/5000 [==============================] - 42s 8ms/step - loss: 0.0097 - accuracy: 0.9986 - val_loss: 0.0845 - val_accuracy: 0.9785\n",
      "Epoch 44/60\n",
      "5000/5000 [==============================] - 43s 9ms/step - loss: 0.0092 - accuracy: 0.9986 - val_loss: 0.0839 - val_accuracy: 0.9783\n",
      "Epoch 45/60\n",
      "5000/5000 [==============================] - 46s 9ms/step - loss: 0.0088 - accuracy: 0.9987 - val_loss: 0.0855 - val_accuracy: 0.9789\n",
      "Epoch 46/60\n",
      "5000/5000 [==============================] - 46s 9ms/step - loss: 0.0084 - accuracy: 0.9989 - val_loss: 0.0846 - val_accuracy: 0.9786\n",
      "Epoch 47/60\n",
      "5000/5000 [==============================] - 43s 9ms/step - loss: 0.0078 - accuracy: 0.9990 - val_loss: 0.0853 - val_accuracy: 0.9792\n",
      "Epoch 48/60\n",
      "5000/5000 [==============================] - 44s 9ms/step - loss: 0.0073 - accuracy: 0.9991 - val_loss: 0.0872 - val_accuracy: 0.9787\n",
      "Epoch 49/60\n",
      "5000/5000 [==============================] - 46s 9ms/step - loss: 0.0070 - accuracy: 0.9991 - val_loss: 0.0860 - val_accuracy: 0.9792\n",
      "Epoch 50/60\n",
      "5000/5000 [==============================] - 42s 8ms/step - loss: 0.0068 - accuracy: 0.9992 - val_loss: 0.0855 - val_accuracy: 0.9792\n",
      "Epoch 51/60\n",
      "5000/5000 [==============================] - 41s 8ms/step - loss: 0.0064 - accuracy: 0.9991 - val_loss: 0.0884 - val_accuracy: 0.9778\n",
      "Epoch 52/60\n",
      "5000/5000 [==============================] - 42s 8ms/step - loss: 0.0061 - accuracy: 0.9994 - val_loss: 0.0857 - val_accuracy: 0.9797\n",
      "Epoch 53/60\n",
      "5000/5000 [==============================] - 42s 8ms/step - loss: 0.0057 - accuracy: 0.9994 - val_loss: 0.0885 - val_accuracy: 0.9787\n",
      "Epoch 54/60\n",
      "5000/5000 [==============================] - 41s 8ms/step - loss: 0.0055 - accuracy: 0.9997 - val_loss: 0.0875 - val_accuracy: 0.9788\n",
      "Epoch 55/60\n",
      "5000/5000 [==============================] - 42s 8ms/step - loss: 0.0053 - accuracy: 0.9996 - val_loss: 0.0851 - val_accuracy: 0.9797\n",
      "Epoch 56/60\n",
      "5000/5000 [==============================] - 41s 8ms/step - loss: 0.0050 - accuracy: 0.9997 - val_loss: 0.0866 - val_accuracy: 0.9790\n",
      "Epoch 57/60\n"
     ]
    },
    {
     "name": "stdout",
     "output_type": "stream",
     "text": [
      "5000/5000 [==============================] - 41s 8ms/step - loss: 0.0048 - accuracy: 0.9997 - val_loss: 0.0876 - val_accuracy: 0.9792\n",
      "Epoch 58/60\n",
      "5000/5000 [==============================] - 41s 8ms/step - loss: 0.0046 - accuracy: 0.9997 - val_loss: 0.0857 - val_accuracy: 0.9796\n",
      "Epoch 59/60\n",
      "5000/5000 [==============================] - 41s 8ms/step - loss: 0.0044 - accuracy: 0.9998 - val_loss: 0.0876 - val_accuracy: 0.9796\n",
      "Epoch 60/60\n",
      "5000/5000 [==============================] - 40s 8ms/step - loss: 0.0043 - accuracy: 0.9998 - val_loss: 0.0873 - val_accuracy: 0.9790\n",
      "1/1 [==============================] - 1s 817ms/step - loss: 0.0857 - accuracy: 0.9752\n"
     ]
    }
   ],
   "source": [
    "################################################################\n",
    "# save the model when val_acc is best\n",
    "checkpoint_filepath = r'C:\\Users\\mchen\\OneDrive\\桌面\\ml\\code\\tutorial\\chapter3\\20211122\\simple_sgd_model'\n",
    "\n",
    "model_checkpoint_callback = tf.keras.callbacks.ModelCheckpoint(\n",
    "    filepath=checkpoint_filepath,\n",
    "    save_weights_only=True,\n",
    "    monitor='val_accuracy',\n",
    "    mode='max',\n",
    "    save_best_only=True)\n",
    "################################################################\n",
    "\n",
    "################################################################\n",
    "#    train model\n",
    "batch_size = 10\n",
    "n_eph = 60\n",
    "\n",
    "\n",
    "history = model.fit(\n",
    "    train_x, train_y, \n",
    "    epochs=n_eph,\n",
    "    batch_size=batch_size,\n",
    "    validation_data=(val_x, val_y),\n",
    "    callbacks=[model_checkpoint_callback],\n",
    "    shuffle=True\n",
    ")\n",
    "\n",
    "acc = history.history['accuracy']\n",
    "loss = history.history['loss']\n",
    "val_acc = history.history['val_accuracy']\n",
    "val_loss = history.history['val_loss']\n",
    "# ################################################################\n",
    "\n",
    "\n",
    "################################################################\n",
    "#    load the weights for the best epoch (best val accuracy)\n",
    "model.load_weights(checkpoint_filepath)\n",
    "################################################################\n",
    "\n",
    "################################################################\n",
    "#    evaluate test data at the best epoch\n",
    "[test_data_loss, test_data_accuracy] = model.evaluate(\n",
    "    test_x, test_y,\n",
    "    batch_size=len(test_x)\n",
    ")\n",
    "################################################################\n"
   ]
  },
  {
   "cell_type": "code",
   "execution_count": 16,
   "id": "d49605f5",
   "metadata": {},
   "outputs": [
    {
     "data": {
      "image/png": "[encoded data removed]",
      "text/plain": [
       "<Figure size 432x288 with 1 Axes>"
      ]
     },
     "metadata": {
      "needs_background": "light"
     },
     "output_type": "display_data"
    }
   ],
   "source": [
    "plt.plot(acc, label='train acc., best: {:.3f}'.format(max(acc)))\n",
    "plt.plot(val_acc, label='validation acc. best: {:.3f}'.format(max(val_acc)))\n",
    "plt.title('CNN softmax SGD, , eta={}, {} epochs'.format(eta, n_eph))\n",
    "plt.axvline(x=np.argmax(val_acc), c='r', ls=':', label='best epoch: {}'.format(np.argmax(val_acc)))\n",
    "plt.axhline(y=test_data_accuracy, c='r', label='test data accuracy at best epoch: {:.3f}'.format(test_data_accuracy))\n",
    "plt.legend()\n",
    "plt.show()\n",
    "\n",
    "from winsound import Beep\n",
    "Beep(1000, 100)"
   ]
  },
  {
   "cell_type": "code",
   "execution_count": null,
   "id": "07c7cbab",
   "metadata": {},
   "outputs": [],
   "source": []
  },
  {
   "cell_type": "code",
   "execution_count": 18,
   "id": "a148fbd1",
   "metadata": {},
   "outputs": [
    {
     "name": "stdout",
     "output_type": "stream",
     "text": [
      "[0.8115800023078918, 0.9132999777793884, 0.932200014591217, 0.9456599950790405, 0.9520999789237976, 0.9577000141143799, 0.9623799920082092, 0.9649800062179565, 0.968940019607544, 0.9724400043487549, 0.9727399945259094, 0.9760000109672546, 0.977400004863739, 0.9781799912452698, 0.980459988117218, 0.982479989528656, 0.9828000068664551, 0.9849200248718262, 0.9851800203323364, 0.9858599901199341, 0.987060010433197, 0.9882400035858154, 0.9890400171279907, 0.990119993686676, 0.9906600117683411, 0.9910399913787842, 0.9922999739646912, 0.993120014667511, 0.9932199716567993, 0.9942600131034851, 0.9943199753761292, 0.9954400062561035, 0.995959997177124, 0.9963600039482117, 0.9965400099754333, 0.9968799948692322, 0.9971200227737427, 0.9973800182342529, 0.9977200031280518, 0.997979998588562, 0.9980199933052063, 0.9983800053596497, 0.9985600113868713, 0.9986000061035156, 0.9987000226974487, 0.9989200234413147, 0.998960018157959, 0.9991199970245361, 0.9991199970245361, 0.999239981174469, 0.9991199970245361, 0.9993600249290466, 0.9994400143623352, 0.9996600151062012, 0.9995800256729126, 0.9996799826622009, 0.9997000098228455, 0.9997400045394897, 0.9998000264167786, 0.999779999256134]\n"
     ]
    }
   ],
   "source": [
    "print(acc)"
   ]
  },
  {
   "cell_type": "code",
   "execution_count": 20,
   "id": "f8fd79b2",
   "metadata": {},
   "outputs": [
    {
     "name": "stdout",
     "output_type": "stream",
     "text": [
      "[0.5981639623641968, 0.2861895263195038, 0.2196563482284546, 0.17901095747947693, 0.1537645161151886, 0.1343453973531723, 0.12015356123447418, 0.10932999849319458, 0.09996028989553452, 0.09068866819143295, 0.08525910973548889, 0.0769651010632515, 0.07211502641439438, 0.06830699741840363, 0.062238484621047974, 0.057797208428382874, 0.05444835498929024, 0.05032452940940857, 0.04711054265499115, 0.04437269642949104, 0.041524600237607956, 0.03883529454469681, 0.03632204607129097, 0.033196255564689636, 0.03161441907286644, 0.029955986887216568, 0.02786843292415142, 0.025685610249638557, 0.024126853793859482, 0.022224441170692444, 0.021068112924695015, 0.01922357641160488, 0.01815931312739849, 0.016911711543798447, 0.015849679708480835, 0.014991642907261848, 0.014145643450319767, 0.013348113745450974, 0.01227543968707323, 0.011723985895514488, 0.011225180700421333, 0.010257504880428314, 0.009661137126386166, 0.009195295162498951, 0.008832694962620735, 0.008358563296496868, 0.007841906510293484, 0.0072712707333266735, 0.007043520454317331, 0.006786556448787451, 0.006429922301322222, 0.006114762742072344, 0.00574166513979435, 0.005486058536916971, 0.005276852287352085, 0.005002956837415695, 0.004849385004490614, 0.004629003349691629, 0.00441948976367712, 0.004288931842893362]\n"
     ]
    }
   ],
   "source": [
    "print(loss)"
   ]
  },
  {
   "cell_type": "code",
   "execution_count": 22,
   "id": "4e7d9630",
   "metadata": {},
   "outputs": [
    {
     "name": "stdout",
     "output_type": "stream",
     "text": [
      "[0.9075000286102295, 0.9383000135421753, 0.9440000057220459, 0.9510999917984009, 0.9585999846458435, 0.9614999890327454, 0.9648000001907349, 0.9639999866485596, 0.9675999879837036, 0.9674000144004822, 0.9728999733924866, 0.9731000065803528, 0.9731000065803528, 0.9735000133514404, 0.9726999998092651, 0.974399983882904, 0.9732000231742859, 0.9732999801635742, 0.9722999930381775, 0.975600004196167, 0.9746999740600586, 0.9746000170707703, 0.9753000140190125, 0.9768999814987183, 0.9771000146865845, 0.9763000011444092, 0.9781000018119812, 0.9761999845504761, 0.9764000177383423, 0.977400004863739, 0.9775999784469604, 0.9771000146865845, 0.9782000184059143, 0.9775000214576721, 0.9776999950408936, 0.9778000116348267, 0.9776999950408936, 0.9781000018119812, 0.9786999821662903, 0.9797000288963318, 0.9793000221252441, 0.9790999889373779, 0.9785000085830688, 0.9782999753952026, 0.9789000153541565, 0.978600025177002, 0.979200005531311, 0.9786999821662903, 0.979200005531311, 0.979200005531311, 0.9778000116348267, 0.9797000288963318, 0.9786999821662903, 0.9787999987602234, 0.9797000288963318, 0.9789999723434448, 0.979200005531311, 0.9796000123023987, 0.9796000123023987, 0.9789999723434448]\n"
     ]
    }
   ],
   "source": [
    "print(val_acc)"
   ]
  },
  {
   "cell_type": "code",
   "execution_count": 23,
   "id": "536bae72",
   "metadata": {},
   "outputs": [
    {
     "name": "stdout",
     "output_type": "stream",
     "text": [
      "[0.305550754070282, 0.20807631313800812, 0.18813537061214447, 0.16863670945167542, 0.14184804260730743, 0.1284739375114441, 0.12269938737154007, 0.11454606056213379, 0.10573704540729523, 0.10777655988931656, 0.09601835161447525, 0.09269879758358002, 0.09049137681722641, 0.09091238677501678, 0.09699825197458267, 0.0917804166674614, 0.09065579622983932, 0.09280799329280853, 0.09207771718502045, 0.08632201701402664, 0.08828941732645035, 0.08574197441339493, 0.0827757716178894, 0.08636700361967087, 0.08010490983724594, 0.08552401512861252, 0.0798519030213356, 0.08594176918268204, 0.08212419599294662, 0.08141721785068512, 0.08031533658504486, 0.08187888562679291, 0.08254089951515198, 0.08113671839237213, 0.08206738531589508, 0.08351466059684753, 0.0845630019903183, 0.08290991932153702, 0.08171135932207108, 0.08276165276765823, 0.08230327814817429, 0.08298635482788086, 0.08453995734453201, 0.0838572159409523, 0.08547667413949966, 0.08461906015872955, 0.08529186993837357, 0.08722654730081558, 0.08602558821439743, 0.08551368117332458, 0.0883944183588028, 0.08574522286653519, 0.08848120272159576, 0.0874706506729126, 0.08507344126701355, 0.08664215356111526, 0.08760491013526917, 0.08572487533092499, 0.08758553862571716, 0.08732449263334274]\n"
     ]
    }
   ],
   "source": [
    "print(val_loss)"
   ]
  },
  {
   "cell_type": "code",
   "execution_count": null,
   "id": "0d15971d",
   "metadata": {},
   "outputs": [],
   "source": []
  },
  {
   "cell_type": "code",
   "execution_count": null,
   "id": "2cf7ded5",
   "metadata": {},
   "outputs": [],
   "source": []
  }
 ],
 "metadata": {
  "kernelspec": {
   "display_name": "Python 3",
   "language": "python",
   "name": "python3"
  },
  "language_info": {
   "codemirror_mode": {
    "name": "ipython",
    "version": 3
   },
   "file_extension": ".py",
   "mimetype": "text/x-python",
   "name": "python",
   "nbconvert_exporter": "python",
   "pygments_lexer": "ipython3",
   "version": "3.6.8"
  }
 },
 "nbformat": 4,
 "nbformat_minor": 5
}
