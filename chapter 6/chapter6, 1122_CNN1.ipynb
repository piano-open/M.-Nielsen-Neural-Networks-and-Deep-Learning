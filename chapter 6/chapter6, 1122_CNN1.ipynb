{
 "cells": [
  {
   "cell_type": "markdown",
   "id": "9cdefe56",
   "metadata": {},
   "source": [
    "<h1>M. Nielsen, Chapter 6, first cnn model</h1>"
   ]
  },
  {
   "cell_type": "code",
   "execution_count": 3,
   "id": "80f03fd8",
   "metadata": {},
   "outputs": [
    {
     "data": {
      "text/html": [
       "<style>.container { width:100% !important; }</style>"
      ],
      "text/plain": [
       "<IPython.core.display.HTML object>"
      ]
     },
     "metadata": {},
     "output_type": "display_data"
    }
   ],
   "source": [
    "from IPython.core.display import display, HTML\n",
    "display(HTML(\"<style>.container { width:100% !important; }</style>\"))"
   ]
  },
  {
   "cell_type": "code",
   "execution_count": 5,
   "id": "f41fb54e",
   "metadata": {},
   "outputs": [],
   "source": [
    "import os\n",
    "import numpy as np\n",
    "import time\n",
    "import random\n",
    "import tensorflow as tf"
   ]
  },
  {
   "cell_type": "code",
   "execution_count": 7,
   "id": "a66d1ec7",
   "metadata": {},
   "outputs": [],
   "source": [
    "from matplotlib import pyplot as plt"
   ]
  },
  {
   "cell_type": "code",
   "execution_count": 9,
   "id": "288c3614",
   "metadata": {},
   "outputs": [],
   "source": [
    "os.chdir(r\"C:\\Users\\mchen\\OneDrive\\桌面\\ml\\code\\tutorial\\chapter3\\20211119\\multi_layer\")"
   ]
  },
  {
   "cell_type": "code",
   "execution_count": 11,
   "id": "23658ba4",
   "metadata": {},
   "outputs": [],
   "source": [
    "import mnist_loader\n",
    "training_data, validation_data, test_data = mnist_loader.load_data_wrapper()"
   ]
  },
  {
   "cell_type": "code",
   "execution_count": 13,
   "id": "83beedea",
   "metadata": {},
   "outputs": [
    {
     "name": "stdout",
     "output_type": "stream",
     "text": [
      "(50000, 28, 28)\n",
      "(10000, 28, 28)\n",
      "(10000, 28, 28)\n"
     ]
    }
   ],
   "source": [
    "###############################################\n",
    "#    load data from local directory\n",
    "###############################################\n",
    "\n",
    "train_x, train_y, val_x, val_y, test_x, test_y = [], [], [], [], [], []\n",
    "\n",
    "training_data, validation_data, test_data = mnist_loader.load_data_wrapper()\n",
    "\n",
    "for tra in training_data:\n",
    "    img_tra_x = tra[0].reshape(28,28).tolist()\n",
    "    img_tra_y = np.array(np.argmax(tra[1]), dtype=np.uint8)\n",
    "    train_x.append(img_tra_x)\n",
    "    train_y.append(img_tra_y)\n",
    "print(np.shape(train_x))\n",
    "\n",
    "for val in validation_data:\n",
    "    img_val_x = val[0].reshape(28,28)\n",
    "#     img_val_y = np.array(np.argmax(val[1]), dtype=np.uint8)\n",
    "    img_val_y = np.array(val[1], dtype=np.uint8)\n",
    "    val_x.append(img_val_x)\n",
    "    val_y.append(img_val_y)\n",
    "print(np.shape(val_x))\n",
    "\n",
    "for tes in test_data:\n",
    "    img_tes_x = tes[0].reshape(28,28)\n",
    "    img_tes_y = np.array(tes[1], dtype=np.uint8)\n",
    "    test_x.append(img_tes_x)\n",
    "    test_y.append(img_tes_y)\n",
    "print(np.shape(test_x))\n",
    "\n",
    "\n",
    "train_x = np.array(train_x)\n",
    "val_x = np.array(val_x)\n",
    "test_x = np.array(test_x)\n",
    "\n",
    "train_y = np.array(train_y)\n",
    "val_y = np.array(val_y)\n",
    "test_y = np.array(test_y)"
   ]
  },
  {
   "cell_type": "code",
   "execution_count": 15,
   "id": "a6195c4c",
   "metadata": {},
   "outputs": [
    {
     "data": {
      "image/png": "[encoded data removed]",
      "text/plain": [
       "<Figure size 432x288 with 1 Axes>"
      ]
     },
     "metadata": {
      "needs_background": "light"
     },
     "output_type": "display_data"
    },
    {
     "name": "stdout",
     "output_type": "stream",
     "text": [
      "img label: 5\n"
     ]
    },
    {
     "data": {
      "image/png": "[encoded data removed]",
      "text/plain": [
       "<Figure size 432x288 with 1 Axes>"
      ]
     },
     "metadata": {
      "needs_background": "light"
     },
     "output_type": "display_data"
    },
    {
     "name": "stdout",
     "output_type": "stream",
     "text": [
      "img label: 3\n"
     ]
    },
    {
     "data": {
      "image/png": "[encoded data removed]",
      "text/plain": [
       "<Figure size 432x288 with 1 Axes>"
      ]
     },
     "metadata": {
      "needs_background": "light"
     },
     "output_type": "display_data"
    },
    {
     "name": "stdout",
     "output_type": "stream",
     "text": [
      "img label: 7\n"
     ]
    }
   ],
   "source": [
    "###############################################\n",
    "#    checking data format:\n",
    "###############################################\n",
    "plt.imshow(train_x[0], interpolation='none')\n",
    "plt.show()\n",
    "print('img label:', train_y[0])\n",
    "\n",
    "plt.imshow(val_x[0], interpolation='none')\n",
    "plt.show()\n",
    "print('img label:', val_y[0])\n",
    "\n",
    "plt.imshow(test_x[0], interpolation='none')\n",
    "plt.show()\n",
    "print('img label:', test_y[0])\n"
   ]
  },
  {
   "cell_type": "markdown",
   "id": "52d46730",
   "metadata": {},
   "source": [
    "<h1>Trying Implementing the first CNN model as described in M. Nielsen, Chapter 6</h1>\t"
   ]
  },
  {
   "cell_type": "code",
   "execution_count": 12,
   "id": "e8686e0f",
   "metadata": {},
   "outputs": [],
   "source": [
    "# first CNN model, M. Nielsen, Chapter 6\n",
    "\n",
    "# >> net = Network([\n",
    "#         ConvPoolLayer(image_shape=(mini_batch_size, 1, 28, 28), \n",
    "#                       filter_shape=(20, 1, 5, 5), \n",
    "#                       poolsize=(2, 2)),\n",
    "#         FullyConnectedLayer(n_in=20*12*12, n_out=100),\n",
    "#         SoftmaxLayer(n_in=100, n_out=10)], mini_batch_size)\n",
    "# >>> net.SGD(training_data, 60, mini_batch_size, 0.1, \n",
    "#             validation_data, test_data) "
   ]
  },
  {
   "attachments": {
    "image.png": {
     "image/png": "[encoded data removed]"
    }
   },
   "cell_type": "markdown",
   "id": "929c8325",
   "metadata": {},
   "source": [
    "![image.png](attachment:image.png)"
   ]
  },
  {
   "cell_type": "markdown",
   "id": "1246496e",
   "metadata": {},
   "source": [
    "<h1>Reshape data</h1>"
   ]
  },
  {
   "cell_type": "code",
   "execution_count": 16,
   "id": "2421089e",
   "metadata": {},
   "outputs": [],
   "source": [
    "# reshape data\n",
    "train_x = train_x.reshape(np.shape(train_x)[0], np.shape(train_x)[1], np.shape(train_x)[2], 1)\n",
    "val_x = val_x.reshape(np.shape(val_x)[0], np.shape(val_x)[1], np.shape(val_x)[2], 1)\n",
    "test_x = test_x.reshape(np.shape(test_x)[0], np.shape(test_x)[1], np.shape(test_x)[2], 1)\n",
    "\n",
    "train_y = tf.one_hot(train_y.astype(np.int32), depth=10)\n",
    "val_y = tf.one_hot(val_y.astype(np.int32), depth=10)\n",
    "test_y = tf.one_hot(test_y.astype(np.int32), depth=10)"
   ]
  },
  {
   "cell_type": "markdown",
   "id": "dd0edb16",
   "metadata": {},
   "source": [
    "<h1>Build Network model</h1>"
   ]
  },
  {
   "cell_type": "code",
   "execution_count": 17,
   "id": "2b0c86e6",
   "metadata": {},
   "outputs": [
    {
     "name": "stdout",
     "output_type": "stream",
     "text": [
      "Model: \"sequential\"\n",
      "_________________________________________________________________\n",
      "Layer (type)                 Output Shape              Param #   \n",
      "=================================================================\n",
      "conv2d (Conv2D)              (None, 24, 24, 20)        520       \n",
      "_________________________________________________________________\n",
      "max_pooling2d (MaxPooling2D) (None, 12, 12, 20)        0         \n",
      "_________________________________________________________________\n",
      "flatten (Flatten)            (None, 2880)              0         \n",
      "_________________________________________________________________\n",
      "dense (Dense)                (None, 100)               288100    \n",
      "_________________________________________________________________\n",
      "dense_1 (Dense)              (None, 10)                1010      \n",
      "=================================================================\n",
      "Total params: 289,630\n",
      "Trainable params: 289,630\n",
      "Non-trainable params: 0\n",
      "_________________________________________________________________\n"
     ]
    }
   ],
   "source": [
    "################################################################\n",
    "#   first CNN network as described in chapter 6\n",
    "################################################################\n",
    "tf.random.set_seed(42)\n",
    "################################################################\n",
    "\n",
    "################################################################\n",
    "# construct netwoek model\n",
    "\n",
    "input_shape = (28, 28, 1)\n",
    "\n",
    "model = tf.keras.models.Sequential()\n",
    "\n",
    "model.add(\n",
    "    tf.keras.layers.Conv2D( # no padding\n",
    "        20,\n",
    "        (5,5),\n",
    "        activation=tf.nn.sigmoid,\n",
    "        input_shape=input_shape\n",
    "    )\n",
    ")\n",
    "\n",
    "model.add(\n",
    "    tf.keras.layers.MaxPool2D(\n",
    "        strides=(2,2)\n",
    "    )\n",
    ")\n",
    "\n",
    "model.add(\n",
    "    tf.keras.layers.Flatten()\n",
    ")\n",
    "\n",
    "model.add(\n",
    "    tf.keras.layers.Dense(\n",
    "        100,\n",
    "        activation=tf.nn.sigmoid,\n",
    "        kernel_initializer=tf.keras.initializers.RandomNormal(\n",
    "            stddev=1.0),\n",
    "        bias_initializer=tf.keras.initializers.RandomNormal(\n",
    "            stddev=1.0)\n",
    "    )\n",
    ")\n",
    "\n",
    "model.add(\n",
    "    tf.keras.layers.Dense(\n",
    "        10,\n",
    "        activation=tf.nn.softmax,\n",
    "    )\n",
    ")\n",
    "################################################################\n",
    "\n",
    "################################################################\n",
    "# compile model\n",
    "n_eph = 60\n",
    "eta = 0.1\n",
    "model.compile(\n",
    "    optimizer=tf.keras.optimizers.SGD(\n",
    "        learning_rate=eta,\n",
    "        momentum=0.0,\n",
    "        nesterov=False,\n",
    "        name=\"SGD\"),\n",
    "    loss='categorical_crossentropy',\n",
    "    metrics=['accuracy']\n",
    ")\n",
    "\n",
    "################################################################\n",
    "model.summary()\n"
   ]
  },
  {
   "cell_type": "markdown",
   "id": "8031a36e",
   "metadata": {},
   "source": [
    "<h1>Train Network</h1>"
   ]
  },
  {
   "cell_type": "code",
   "execution_count": 21,
   "id": "c471f327",
   "metadata": {
    "scrolled": true
   },
   "outputs": [
    {
     "name": "stdout",
     "output_type": "stream",
     "text": [
      "Epoch 1/60\n",
      "5000/5000 [==============================] - 23s 5ms/step - loss: 0.2612 - accuracy: 0.9199 - val_loss: 0.2162 - val_accuracy: 0.9346\n",
      "Epoch 2/60\n",
      "5000/5000 [==============================] - 26s 5ms/step - loss: 0.2070 - accuracy: 0.9361 - val_loss: 0.1687 - val_accuracy: 0.9511\n",
      "Epoch 3/60\n",
      "5000/5000 [==============================] - 25s 5ms/step - loss: 0.1722 - accuracy: 0.9463 - val_loss: 0.1492 - val_accuracy: 0.9566\n",
      "Epoch 4/60\n",
      "5000/5000 [==============================] - 25s 5ms/step - loss: 0.1479 - accuracy: 0.9536 - val_loss: 0.1417 - val_accuracy: 0.9571\n",
      "Epoch 5/60\n",
      "5000/5000 [==============================] - 26s 5ms/step - loss: 0.1311 - accuracy: 0.9586 - val_loss: 0.1267 - val_accuracy: 0.9599\n",
      "Epoch 6/60\n",
      "5000/5000 [==============================] - 26s 5ms/step - loss: 0.1167 - accuracy: 0.9635 - val_loss: 0.1138 - val_accuracy: 0.9665\n",
      "Epoch 7/60\n",
      "5000/5000 [==============================] - 26s 5ms/step - loss: 0.1053 - accuracy: 0.9675 - val_loss: 0.1117 - val_accuracy: 0.9666\n",
      "Epoch 8/60\n",
      "5000/5000 [==============================] - 26s 5ms/step - loss: 0.0954 - accuracy: 0.9705 - val_loss: 0.1121 - val_accuracy: 0.9690\n",
      "Epoch 9/60\n",
      "5000/5000 [==============================] - 27s 5ms/step - loss: 0.0877 - accuracy: 0.9723 - val_loss: 0.1016 - val_accuracy: 0.9698\n",
      "Epoch 10/60\n",
      "5000/5000 [==============================] - 26s 5ms/step - loss: 0.0810 - accuracy: 0.9746 - val_loss: 0.1046 - val_accuracy: 0.9693\n",
      "Epoch 11/60\n",
      "5000/5000 [==============================] - 26s 5ms/step - loss: 0.0747 - accuracy: 0.9762 - val_loss: 0.0971 - val_accuracy: 0.9734\n",
      "Epoch 12/60\n",
      "5000/5000 [==============================] - 27s 5ms/step - loss: 0.0682 - accuracy: 0.9785 - val_loss: 0.0930 - val_accuracy: 0.9732\n",
      "Epoch 13/60\n",
      "5000/5000 [==============================] - 27s 5ms/step - loss: 0.0654 - accuracy: 0.9803 - val_loss: 0.0958 - val_accuracy: 0.9738\n",
      "Epoch 14/60\n",
      "5000/5000 [==============================] - 27s 5ms/step - loss: 0.0621 - accuracy: 0.9809 - val_loss: 0.0931 - val_accuracy: 0.9741\n",
      "Epoch 15/60\n",
      "5000/5000 [==============================] - 27s 5ms/step - loss: 0.0556 - accuracy: 0.9829 - val_loss: 0.0924 - val_accuracy: 0.9731\n",
      "Epoch 16/60\n",
      "5000/5000 [==============================] - 26s 5ms/step - loss: 0.0522 - accuracy: 0.9837 - val_loss: 0.0945 - val_accuracy: 0.9718\n",
      "Epoch 17/60\n",
      "5000/5000 [==============================] - 26s 5ms/step - loss: 0.0493 - accuracy: 0.9846 - val_loss: 0.0950 - val_accuracy: 0.9735\n",
      "Epoch 18/60\n",
      "5000/5000 [==============================] - 27s 5ms/step - loss: 0.0460 - accuracy: 0.9856 - val_loss: 0.0909 - val_accuracy: 0.9752\n",
      "Epoch 19/60\n",
      "5000/5000 [==============================] - 27s 5ms/step - loss: 0.0426 - accuracy: 0.9869 - val_loss: 0.0913 - val_accuracy: 0.9735\n",
      "Epoch 20/60\n",
      "5000/5000 [==============================] - 27s 5ms/step - loss: 0.0402 - accuracy: 0.9878 - val_loss: 0.0892 - val_accuracy: 0.9761\n",
      "Epoch 21/60\n",
      "5000/5000 [==============================] - 27s 5ms/step - loss: 0.0378 - accuracy: 0.9884 - val_loss: 0.0951 - val_accuracy: 0.9742\n",
      "Epoch 22/60\n",
      "5000/5000 [==============================] - 27s 5ms/step - loss: 0.0354 - accuracy: 0.9894 - val_loss: 0.0879 - val_accuracy: 0.9759\n",
      "Epoch 23/60\n",
      "5000/5000 [==============================] - 27s 5ms/step - loss: 0.0321 - accuracy: 0.9908 - val_loss: 0.0900 - val_accuracy: 0.9756\n",
      "Epoch 24/60\n",
      "5000/5000 [==============================] - 27s 5ms/step - loss: 0.0304 - accuracy: 0.9914 - val_loss: 0.0873 - val_accuracy: 0.9760\n",
      "Epoch 25/60\n",
      "5000/5000 [==============================] - 28s 6ms/step - loss: 0.0289 - accuracy: 0.9919 - val_loss: 0.0872 - val_accuracy: 0.9756\n",
      "Epoch 26/60\n",
      "5000/5000 [==============================] - 28s 6ms/step - loss: 0.0274 - accuracy: 0.9924 - val_loss: 0.0907 - val_accuracy: 0.9757\n",
      "Epoch 27/60\n",
      "5000/5000 [==============================] - 27s 5ms/step - loss: 0.0252 - accuracy: 0.9932 - val_loss: 0.0894 - val_accuracy: 0.9761\n",
      "Epoch 28/60\n",
      "5000/5000 [==============================] - 26s 5ms/step - loss: 0.0235 - accuracy: 0.9941 - val_loss: 0.0893 - val_accuracy: 0.9747\n",
      "Epoch 29/60\n",
      "5000/5000 [==============================] - 26s 5ms/step - loss: 0.0223 - accuracy: 0.9943 - val_loss: 0.0905 - val_accuracy: 0.9760\n",
      "Epoch 30/60\n",
      "5000/5000 [==============================] - 26s 5ms/step - loss: 0.0209 - accuracy: 0.9948 - val_loss: 0.0888 - val_accuracy: 0.9761\n",
      "Epoch 31/60\n",
      "5000/5000 [==============================] - 27s 5ms/step - loss: 0.0191 - accuracy: 0.9954 - val_loss: 0.0908 - val_accuracy: 0.9760\n",
      "Epoch 32/60\n",
      "5000/5000 [==============================] - 26s 5ms/step - loss: 0.0185 - accuracy: 0.9954 - val_loss: 0.0886 - val_accuracy: 0.9771\n",
      "Epoch 33/60\n",
      "5000/5000 [==============================] - 29s 6ms/step - loss: 0.0172 - accuracy: 0.9962 - val_loss: 0.0876 - val_accuracy: 0.9770\n",
      "Epoch 34/60\n",
      "5000/5000 [==============================] - 27s 5ms/step - loss: 0.0159 - accuracy: 0.9966 - val_loss: 0.0898 - val_accuracy: 0.9763\n",
      "Epoch 35/60\n",
      "5000/5000 [==============================] - 30s 6ms/step - loss: 0.0155 - accuracy: 0.9968 - val_loss: 0.0887 - val_accuracy: 0.9759\n",
      "Epoch 36/60\n",
      "5000/5000 [==============================] - 27s 5ms/step - loss: 0.0140 - accuracy: 0.9973 - val_loss: 0.0895 - val_accuracy: 0.9765\n",
      "Epoch 37/60\n",
      "5000/5000 [==============================] - 26s 5ms/step - loss: 0.0135 - accuracy: 0.9975 - val_loss: 0.0914 - val_accuracy: 0.9768\n",
      "Epoch 38/60\n",
      "5000/5000 [==============================] - 27s 5ms/step - loss: 0.0128 - accuracy: 0.9975 - val_loss: 0.0925 - val_accuracy: 0.9770\n",
      "Epoch 39/60\n",
      "5000/5000 [==============================] - 26s 5ms/step - loss: 0.0120 - accuracy: 0.9977 - val_loss: 0.0911 - val_accuracy: 0.9768\n",
      "Epoch 40/60\n",
      "5000/5000 [==============================] - 28s 6ms/step - loss: 0.0114 - accuracy: 0.9980 - val_loss: 0.0900 - val_accuracy: 0.9766\n",
      "Epoch 41/60\n",
      "5000/5000 [==============================] - 26s 5ms/step - loss: 0.0110 - accuracy: 0.9981 - val_loss: 0.0919 - val_accuracy: 0.9774\n",
      "Epoch 42/60\n",
      "5000/5000 [==============================] - 29s 6ms/step - loss: 0.0104 - accuracy: 0.9983 - val_loss: 0.0906 - val_accuracy: 0.9773\n",
      "Epoch 43/60\n",
      "5000/5000 [==============================] - 28s 6ms/step - loss: 0.0098 - accuracy: 0.9984 - val_loss: 0.0918 - val_accuracy: 0.9765\n",
      "Epoch 44/60\n",
      "5000/5000 [==============================] - 28s 6ms/step - loss: 0.0093 - accuracy: 0.9985 - val_loss: 0.0911 - val_accuracy: 0.9768\n",
      "Epoch 45/60\n",
      "5000/5000 [==============================] - 28s 6ms/step - loss: 0.0087 - accuracy: 0.9989 - val_loss: 0.0931 - val_accuracy: 0.9775\n",
      "Epoch 46/60\n",
      "5000/5000 [==============================] - 28s 6ms/step - loss: 0.0084 - accuracy: 0.9988 - val_loss: 0.0928 - val_accuracy: 0.9764\n",
      "Epoch 47/60\n",
      "5000/5000 [==============================] - 28s 6ms/step - loss: 0.0081 - accuracy: 0.9989 - val_loss: 0.0917 - val_accuracy: 0.9773\n",
      "Epoch 48/60\n",
      "5000/5000 [==============================] - 28s 6ms/step - loss: 0.0076 - accuracy: 0.9990 - val_loss: 0.0956 - val_accuracy: 0.9779\n",
      "Epoch 49/60\n",
      "5000/5000 [==============================] - 27s 5ms/step - loss: 0.0073 - accuracy: 0.9991 - val_loss: 0.0919 - val_accuracy: 0.9784\n",
      "Epoch 50/60\n",
      "5000/5000 [==============================] - 28s 6ms/step - loss: 0.0071 - accuracy: 0.9990 - val_loss: 0.0937 - val_accuracy: 0.9781\n",
      "Epoch 51/60\n",
      "5000/5000 [==============================] - 28s 6ms/step - loss: 0.0067 - accuracy: 0.9993 - val_loss: 0.0931 - val_accuracy: 0.9779\n",
      "Epoch 52/60\n",
      "5000/5000 [==============================] - 27s 5ms/step - loss: 0.0064 - accuracy: 0.9993 - val_loss: 0.0965 - val_accuracy: 0.9777\n",
      "Epoch 53/60\n",
      "5000/5000 [==============================] - 27s 5ms/step - loss: 0.0061 - accuracy: 0.9994 - val_loss: 0.0959 - val_accuracy: 0.9786\n",
      "Epoch 54/60\n",
      "5000/5000 [==============================] - 27s 5ms/step - loss: 0.0059 - accuracy: 0.9994 - val_loss: 0.0932 - val_accuracy: 0.9788\n",
      "Epoch 55/60\n",
      "5000/5000 [==============================] - 28s 6ms/step - loss: 0.0057 - accuracy: 0.9994 - val_loss: 0.0931 - val_accuracy: 0.9788\n",
      "Epoch 56/60\n",
      "5000/5000 [==============================] - 28s 6ms/step - loss: 0.0054 - accuracy: 0.9995 - val_loss: 0.0956 - val_accuracy: 0.9785\n",
      "Epoch 57/60\n"
     ]
    },
    {
     "name": "stdout",
     "output_type": "stream",
     "text": [
      "5000/5000 [==============================] - 27s 5ms/step - loss: 0.0053 - accuracy: 0.9996 - val_loss: 0.0929 - val_accuracy: 0.9788\n",
      "Epoch 58/60\n",
      "5000/5000 [==============================] - 26s 5ms/step - loss: 0.0051 - accuracy: 0.9996 - val_loss: 0.0941 - val_accuracy: 0.9785\n",
      "Epoch 59/60\n",
      "5000/5000 [==============================] - 26s 5ms/step - loss: 0.0048 - accuracy: 0.9996 - val_loss: 0.0942 - val_accuracy: 0.9780\n",
      "Epoch 60/60\n",
      "5000/5000 [==============================] - 26s 5ms/step - loss: 0.0048 - accuracy: 0.9996 - val_loss: 0.0943 - val_accuracy: 0.9779\n",
      "total time: 1610.464509487152\n",
      "1/1 [==============================] - 0s 420ms/step - loss: 0.0824 - accuracy: 0.9768\n"
     ]
    }
   ],
   "source": [
    "################################################################\n",
    "# save the model when val_acc is best\n",
    "checkpoint_filepath = r'C:\\Users\\mchen\\OneDrive\\桌面\\ml\\code\\tutorial\\chapter6\\save_model\\cnn1\\cnn1'\n",
    "model_checkpoint_callback = tf.keras.callbacks.ModelCheckpoint(\n",
    "    filepath=checkpoint_filepath,\n",
    "    save_weights_only=True,\n",
    "    monitor='val_accuracy',\n",
    "    mode='max',\n",
    "    save_best_only=True\n",
    ")\n",
    "################################################################\n",
    "#    train model  (how do i randomize mini_batches?)\n",
    "batch_size = 10\n",
    "n_eph = 60\n",
    "\n",
    "ts = time.time()\n",
    "history = model.fit(\n",
    "    train_x, train_y, \n",
    "    epochs=n_eph,\n",
    "    batch_size=batch_size,\n",
    "    validation_data=(val_x, val_y),\n",
    "    callbacks=[model_checkpoint_callback],\n",
    "    shuffle=True\n",
    ")\n",
    "te = time.time()\n",
    "\n",
    "print('total time:', te - ts)\n",
    "\n",
    "\n",
    "acc = history.history['accuracy']\n",
    "loss = history.history['loss']\n",
    "val_acc = history.history['val_accuracy']\n",
    "val_loss = history.history['val_loss']\n",
    "################################################################\n",
    "\n",
    "\n",
    "################################################################\n",
    "#    load the weights for the best epoch (best val accuracy)\n",
    "model.load_weights(checkpoint_filepath)\n",
    "\n",
    "################################################################\n",
    "\n",
    "################################################################\n",
    "#    evaluate test data at the best epoch\n",
    "[test_data_loss, test_data_accuracy] = model.evaluate(\n",
    "    test_x, test_y,\n",
    "    batch_size=len(test_x)\n",
    ")\n",
    "################################################################"
   ]
  },
  {
   "cell_type": "code",
   "execution_count": 22,
   "id": "d49605f5",
   "metadata": {},
   "outputs": [
    {
     "data": {
      "image/png": "[encoded data removed]",
      "text/plain": [
       "<Figure size 432x288 with 1 Axes>"
      ]
     },
     "metadata": {
      "needs_background": "light"
     },
     "output_type": "display_data"
    }
   ],
   "source": [
    "plt.plot(acc, label='train acc., best: {:.3f}'.format(max(acc)))\n",
    "plt.plot(val_acc, label='validation acc. best: {:.3f}'.format(max(val_acc)))\n",
    "plt.title('CNN softmax SGD, , eta={}, {} epochs'.format(eta, n_eph))\n",
    "plt.axvline(x=np.argmax(val_acc), c='r', ls=':', label='best epoch: {}'.format(np.argmax(val_acc)))\n",
    "plt.axhline(y=test_data_accuracy, c='r', label='test data accuracy at best epoch: {:.3f}'.format(test_data_accuracy))\n",
    "plt.legend()\n",
    "plt.show()\n",
    "\n",
    "from winsound import Beep\n",
    "Beep(1000, 100)"
   ]
  },
  {
   "cell_type": "markdown",
   "id": "3d3f01e6",
   "metadata": {},
   "source": [
    "<h1>Max accuracy= 97.7%</h1>\n",
    "<h1>Total time= 1610s</h1>"
   ]
  },
  {
   "cell_type": "code",
   "execution_count": 32,
   "id": "a148fbd1",
   "metadata": {},
   "outputs": [
    {
     "name": "stdout",
     "output_type": "stream",
     "text": [
      "[0.9199000000953674, 0.9360799789428711, 0.9462800025939941, 0.9535999894142151, 0.958620011806488, 0.9634600281715393, 0.9674800038337708, 0.9704800248146057, 0.9723399877548218, 0.97461998462677, 0.9762399792671204, 0.9785199761390686, 0.9802799820899963, 0.98089998960495, 0.9828799962997437, 0.9837200045585632, 0.9846199750900269, 0.9855999946594238, 0.9869400262832642, 0.987820029258728, 0.9883599877357483, 0.9894400238990784, 0.9908400177955627, 0.9913600087165833, 0.991919994354248, 0.99235999584198, 0.9932199716567993, 0.9940999746322632, 0.9942600131034851, 0.9948400259017944, 0.9954400062561035, 0.9953799843788147, 0.9961599707603455, 0.9965999722480774, 0.9968400001525879, 0.9973400235176086, 0.9974600076675415, 0.9974600076675415, 0.9976999759674072, 0.9980000257492065, 0.9980800151824951, 0.9983199834823608, 0.998420000076294, 0.9984800219535828, 0.9988600015640259, 0.9987800121307373, 0.9989200234413147, 0.9990000128746033, 0.9990599751472473, 0.9990400075912476, 0.9992799758911133, 0.9992600083351135, 0.9993600249290466, 0.9994000196456909, 0.9994400143623352, 0.9994999766349792, 0.9995599985122681, 0.9996200203895569, 0.9995999932289124, 0.9995599985122681]\n"
     ]
    }
   ],
   "source": [
    "print(acc)"
   ]
  },
  {
   "cell_type": "code",
   "execution_count": 34,
   "id": "f8fd79b2",
   "metadata": {},
   "outputs": [
    {
     "name": "stdout",
     "output_type": "stream",
     "text": [
      "[0.26118582487106323, 0.2070184051990509, 0.17219461500644684, 0.1478556990623474, 0.1311149299144745, 0.11669888347387314, 0.10534115135669708, 0.09544402360916138, 0.08770991116762161, 0.08100392669439316, 0.07470093667507172, 0.06824921816587448, 0.0654488280415535, 0.062123846262693405, 0.05556374415755272, 0.052220217883586884, 0.04930388182401657, 0.046005360782146454, 0.04262133687734604, 0.04019026458263397, 0.03780664876103401, 0.03543975204229355, 0.03211887180805206, 0.030386967584490776, 0.02892179600894451, 0.027433767914772034, 0.02516479790210724, 0.023457929491996765, 0.02225327119231224, 0.02092386782169342, 0.019139112904667854, 0.01851494051516056, 0.01723988726735115, 0.015873223543167114, 0.015480777248740196, 0.014011124148964882, 0.013469824567437172, 0.012828987091779709, 0.012045846320688725, 0.011383631266653538, 0.010974695906043053, 0.010352343320846558, 0.00975222047418356, 0.00930928997695446, 0.008709907531738281, 0.008396521210670471, 0.008082035928964615, 0.007628145627677441, 0.007324536330997944, 0.007111420389264822, 0.00667599169537425, 0.00640333816409111, 0.006132515147328377, 0.005898555275052786, 0.005714105907827616, 0.0054315235465765, 0.005337417591363192, 0.005060268100351095, 0.004846717696636915, 0.004779004026204348]\n"
     ]
    }
   ],
   "source": [
    "print(loss)"
   ]
  },
  {
   "cell_type": "code",
   "execution_count": 36,
   "id": "4e7d9630",
   "metadata": {},
   "outputs": [
    {
     "name": "stdout",
     "output_type": "stream",
     "text": [
      "[0.9345999956130981, 0.9510999917984009, 0.95660001039505, 0.957099974155426, 0.9599000215530396, 0.9664999842643738, 0.9666000008583069, 0.968999981880188, 0.9697999954223633, 0.9692999720573425, 0.9733999967575073, 0.9732000231742859, 0.973800003528595, 0.9740999937057495, 0.9731000065803528, 0.9718000292778015, 0.9735000133514404, 0.9751999974250793, 0.9735000133514404, 0.9761000275611877, 0.9742000102996826, 0.9758999943733215, 0.975600004196167, 0.9760000109672546, 0.975600004196167, 0.9757000207901001, 0.9761000275611877, 0.9746999740600586, 0.9760000109672546, 0.9761000275611877, 0.9760000109672546, 0.9771000146865845, 0.9769999980926514, 0.9763000011444092, 0.9758999943733215, 0.9764999747276306, 0.9768000245094299, 0.9769999980926514, 0.9768000245094299, 0.9765999913215637, 0.977400004863739, 0.9772999882698059, 0.9764999747276306, 0.9768000245094299, 0.9775000214576721, 0.9764000177383423, 0.9772999882698059, 0.9779000282287598, 0.9783999919891357, 0.9781000018119812, 0.9779000282287598, 0.9776999950408936, 0.978600025177002, 0.9787999987602234, 0.9787999987602234, 0.9785000085830688, 0.9787999987602234, 0.9785000085830688, 0.9779999852180481, 0.9779000282287598]\n"
     ]
    }
   ],
   "source": [
    "print(val_acc)"
   ]
  },
  {
   "cell_type": "code",
   "execution_count": 37,
   "id": "536bae72",
   "metadata": {},
   "outputs": [
    {
     "name": "stdout",
     "output_type": "stream",
     "text": [
      "[0.21617703139781952, 0.1686761975288391, 0.1491757482290268, 0.14174319803714752, 0.12670786678791046, 0.11384280771017075, 0.11166567355394363, 0.1121368557214737, 0.10157711058855057, 0.10456801950931549, 0.09711351990699768, 0.09298446774482727, 0.09578917920589447, 0.09307768940925598, 0.09236733615398407, 0.09454682469367981, 0.09504245966672897, 0.090927854180336, 0.0912531390786171, 0.08922818303108215, 0.0950864851474762, 0.08789088577032089, 0.0900401696562767, 0.08725743740797043, 0.08723112940788269, 0.09072268754243851, 0.08943673968315125, 0.08928611129522324, 0.09048707038164139, 0.0887715294957161, 0.09081185609102249, 0.08863714337348938, 0.08758743107318878, 0.08983729779720306, 0.08868655562400818, 0.08947539329528809, 0.0914371982216835, 0.0924682542681694, 0.09114769101142883, 0.09001149982213974, 0.09187109023332596, 0.09058050811290741, 0.09183619171380997, 0.09111347794532776, 0.093060702085495, 0.09278135746717453, 0.09173194319009781, 0.0955759733915329, 0.09193074703216553, 0.09368662536144257, 0.0930585190653801, 0.09646490961313248, 0.09590669721364975, 0.09317447990179062, 0.0931033194065094, 0.09561168402433395, 0.09288518130779266, 0.09406545758247375, 0.09416322410106659, 0.09427972137928009]\n"
     ]
    }
   ],
   "source": [
    "print(val_loss)"
   ]
  },
  {
   "cell_type": "code",
   "execution_count": null,
   "id": "0d15971d",
   "metadata": {},
   "outputs": [],
   "source": []
  },
  {
   "cell_type": "code",
   "execution_count": null,
   "id": "2cf7ded5",
   "metadata": {},
   "outputs": [],
   "source": []
  }
 ],
 "metadata": {
  "kernelspec": {
   "display_name": "Python 3",
   "language": "python",
   "name": "python3"
  },
  "language_info": {
   "codemirror_mode": {
    "name": "ipython",
    "version": 3
   },
   "file_extension": ".py",
   "mimetype": "text/x-python",
   "name": "python",
   "nbconvert_exporter": "python",
   "pygments_lexer": "ipython3",
   "version": "3.6.8"
  }
 },
 "nbformat": 4,
 "nbformat_minor": 5
}
