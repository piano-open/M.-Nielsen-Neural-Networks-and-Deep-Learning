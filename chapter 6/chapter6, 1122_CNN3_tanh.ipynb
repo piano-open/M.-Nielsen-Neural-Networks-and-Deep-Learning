{
 "cells": [
  {
   "cell_type": "markdown",
   "id": "9cdefe56",
   "metadata": {},
   "source": [
    "<h1>M. Nielsen, Chapter 6, third cnn model (tanh)</h1>"
   ]
  },
  {
   "cell_type": "code",
   "execution_count": 1,
   "id": "80f03fd8",
   "metadata": {},
   "outputs": [
    {
     "data": {
      "text/html": [
       "<style>.container { width:100% !important; }</style>"
      ],
      "text/plain": [
       "<IPython.core.display.HTML object>"
      ]
     },
     "metadata": {},
     "output_type": "display_data"
    }
   ],
   "source": [
    "from IPython.core.display import display, HTML\n",
    "display(HTML(\"<style>.container { width:100% !important; }</style>\"))"
   ]
  },
  {
   "cell_type": "code",
   "execution_count": 3,
   "id": "f41fb54e",
   "metadata": {},
   "outputs": [],
   "source": [
    "import os\n",
    "import numpy as np\n",
    "import time\n",
    "import random\n",
    "import tensorflow as tf"
   ]
  },
  {
   "cell_type": "code",
   "execution_count": 5,
   "id": "a66d1ec7",
   "metadata": {},
   "outputs": [],
   "source": [
    "from matplotlib import pyplot as plt"
   ]
  },
  {
   "cell_type": "code",
   "execution_count": 8,
   "id": "288c3614",
   "metadata": {},
   "outputs": [],
   "source": [
    "os.chdir(r\"C:\\Users\\mchen\\OneDrive\\桌面\\ml\\code\\tutorial\\chapter3\\20211119\\multi_layer\")"
   ]
  },
  {
   "cell_type": "code",
   "execution_count": 10,
   "id": "23658ba4",
   "metadata": {},
   "outputs": [],
   "source": [
    "import mnist_loader\n",
    "training_data, validation_data, test_data = mnist_loader.load_data_wrapper()"
   ]
  },
  {
   "cell_type": "markdown",
   "id": "609084bc",
   "metadata": {},
   "source": [
    "<h1>load data</h>"
   ]
  },
  {
   "cell_type": "code",
   "execution_count": 12,
   "id": "83beedea",
   "metadata": {},
   "outputs": [
    {
     "name": "stdout",
     "output_type": "stream",
     "text": [
      "(50000, 28, 28)\n",
      "(10000, 28, 28)\n",
      "(10000, 28, 28)\n"
     ]
    }
   ],
   "source": [
    "###############################################\n",
    "#    load data from local directory\n",
    "###############################################\n",
    "\n",
    "train_x, train_y, val_x, val_y, test_x, test_y = [], [], [], [], [], []\n",
    "\n",
    "training_data, validation_data, test_data = mnist_loader.load_data_wrapper()\n",
    "\n",
    "for tra in training_data:\n",
    "    img_tra_x = tra[0].reshape(28,28).tolist()\n",
    "    img_tra_y = np.array(np.argmax(tra[1]), dtype=np.uint8)\n",
    "    train_x.append(img_tra_x)\n",
    "    train_y.append(img_tra_y)\n",
    "print(np.shape(train_x))\n",
    "\n",
    "for val in validation_data:\n",
    "    img_val_x = val[0].reshape(28,28)\n",
    "#     img_val_y = np.array(np.argmax(val[1]), dtype=np.uint8)\n",
    "    img_val_y = np.array(val[1], dtype=np.uint8)\n",
    "    val_x.append(img_val_x)\n",
    "    val_y.append(img_val_y)\n",
    "print(np.shape(val_x))\n",
    "\n",
    "for tes in test_data:\n",
    "    img_tes_x = tes[0].reshape(28,28)\n",
    "    img_tes_y = np.array(tes[1], dtype=np.uint8)\n",
    "    test_x.append(img_tes_x)\n",
    "    test_y.append(img_tes_y)\n",
    "print(np.shape(test_x))\n",
    "\n",
    "\n",
    "train_x = np.array(train_x)\n",
    "val_x = np.array(val_x)\n",
    "test_x = np.array(test_x)\n",
    "\n",
    "train_y = np.array(train_y)\n",
    "val_y = np.array(val_y)\n",
    "test_y = np.array(test_y)"
   ]
  },
  {
   "cell_type": "code",
   "execution_count": 14,
   "id": "a6195c4c",
   "metadata": {},
   "outputs": [],
   "source": [
    "# ###############################################\n",
    "# #    checking data format:\n",
    "# ###############################################\n",
    "# plt.imshow(train_x[0], interpolation='none')\n",
    "# plt.show()\n",
    "# print('img label:', train_y[0])\n",
    "\n",
    "# plt.imshow(val_x[0], interpolation='none')\n",
    "# plt.show()\n",
    "# print('img label:', val_y[0])\n",
    "\n",
    "# plt.imshow(test_x[0], interpolation='none')\n",
    "# plt.show()\n",
    "# print('img label:', test_y[0])\n"
   ]
  },
  {
   "cell_type": "markdown",
   "id": "52d46730",
   "metadata": {},
   "source": [
    "<h1>Trying Implementing the third CNN model as described in M. Nielsen, Chapter 6</h1>\t"
   ]
  },
  {
   "cell_type": "code",
   "execution_count": 16,
   "id": "cc3ad697",
   "metadata": {},
   "outputs": [],
   "source": [
    "# Using the tanh activation function Several times earlier in the book \n",
    "# I've mentioned arguments that the tanh function may be a better activation \n",
    "# function than the sigmoid function. We've never acted on those \n",
    "# suggestions, since we were already making plenty of progress with the\n",
    "# sigmoid. But now let's try some experiments with tanh as our activation\n",
    "# function. Try training the network with tanh activations in the \n",
    "# convolutional and fully-connected layers"
   ]
  },
  {
   "cell_type": "markdown",
   "id": "e20125be",
   "metadata": {},
   "source": [
    "<h1>Reshape data</h1>"
   ]
  },
  {
   "cell_type": "code",
   "execution_count": 18,
   "id": "380e303a",
   "metadata": {},
   "outputs": [
    {
     "ename": "AttributeError",
     "evalue": "\n        'EagerTensor' object has no attribute 'astype'.\n        If you are looking for numpy-related methods, please run the following:\n        from tensorflow.python.ops.numpy_ops import np_config\n        np_config.enable_numpy_behavior()",
     "output_type": "error",
     "traceback": [
      "\u001b[1;31m---------------------------------------------------------------------------\u001b[0m",
      "\u001b[1;31mAttributeError\u001b[0m                            Traceback (most recent call last)",
      "\u001b[1;32m<ipython-input-18-e2ccbff3f7d2>\u001b[0m in \u001b[0;36m<module>\u001b[1;34m\u001b[0m\n\u001b[0;32m      4\u001b[0m \u001b[0mtest_x\u001b[0m \u001b[1;33m=\u001b[0m \u001b[0mtest_x\u001b[0m\u001b[1;33m.\u001b[0m\u001b[0mreshape\u001b[0m\u001b[1;33m(\u001b[0m\u001b[0mnp\u001b[0m\u001b[1;33m.\u001b[0m\u001b[0mshape\u001b[0m\u001b[1;33m(\u001b[0m\u001b[0mtest_x\u001b[0m\u001b[1;33m)\u001b[0m\u001b[1;33m[\u001b[0m\u001b[1;36m0\u001b[0m\u001b[1;33m]\u001b[0m\u001b[1;33m,\u001b[0m \u001b[0mnp\u001b[0m\u001b[1;33m.\u001b[0m\u001b[0mshape\u001b[0m\u001b[1;33m(\u001b[0m\u001b[0mtest_x\u001b[0m\u001b[1;33m)\u001b[0m\u001b[1;33m[\u001b[0m\u001b[1;36m1\u001b[0m\u001b[1;33m]\u001b[0m\u001b[1;33m,\u001b[0m \u001b[0mnp\u001b[0m\u001b[1;33m.\u001b[0m\u001b[0mshape\u001b[0m\u001b[1;33m(\u001b[0m\u001b[0mtest_x\u001b[0m\u001b[1;33m)\u001b[0m\u001b[1;33m[\u001b[0m\u001b[1;36m2\u001b[0m\u001b[1;33m]\u001b[0m\u001b[1;33m,\u001b[0m \u001b[1;36m1\u001b[0m\u001b[1;33m)\u001b[0m\u001b[1;33m\u001b[0m\u001b[1;33m\u001b[0m\u001b[0m\n\u001b[0;32m      5\u001b[0m \u001b[1;33m\u001b[0m\u001b[0m\n\u001b[1;32m----> 6\u001b[1;33m \u001b[0mtrain_y\u001b[0m \u001b[1;33m=\u001b[0m \u001b[0mtf\u001b[0m\u001b[1;33m.\u001b[0m\u001b[0mone_hot\u001b[0m\u001b[1;33m(\u001b[0m\u001b[0mtrain_y\u001b[0m\u001b[1;33m.\u001b[0m\u001b[0mastype\u001b[0m\u001b[1;33m(\u001b[0m\u001b[0mnp\u001b[0m\u001b[1;33m.\u001b[0m\u001b[0mint32\u001b[0m\u001b[1;33m)\u001b[0m\u001b[1;33m,\u001b[0m \u001b[0mdepth\u001b[0m\u001b[1;33m=\u001b[0m\u001b[1;36m10\u001b[0m\u001b[1;33m)\u001b[0m\u001b[1;33m\u001b[0m\u001b[1;33m\u001b[0m\u001b[0m\n\u001b[0m\u001b[0;32m      7\u001b[0m \u001b[0mval_y\u001b[0m \u001b[1;33m=\u001b[0m \u001b[0mtf\u001b[0m\u001b[1;33m.\u001b[0m\u001b[0mone_hot\u001b[0m\u001b[1;33m(\u001b[0m\u001b[0mval_y\u001b[0m\u001b[1;33m.\u001b[0m\u001b[0mastype\u001b[0m\u001b[1;33m(\u001b[0m\u001b[0mnp\u001b[0m\u001b[1;33m.\u001b[0m\u001b[0mint32\u001b[0m\u001b[1;33m)\u001b[0m\u001b[1;33m,\u001b[0m \u001b[0mdepth\u001b[0m\u001b[1;33m=\u001b[0m\u001b[1;36m10\u001b[0m\u001b[1;33m)\u001b[0m\u001b[1;33m\u001b[0m\u001b[1;33m\u001b[0m\u001b[0m\n\u001b[0;32m      8\u001b[0m \u001b[0mtest_y\u001b[0m \u001b[1;33m=\u001b[0m \u001b[0mtf\u001b[0m\u001b[1;33m.\u001b[0m\u001b[0mone_hot\u001b[0m\u001b[1;33m(\u001b[0m\u001b[0mtest_y\u001b[0m\u001b[1;33m.\u001b[0m\u001b[0mastype\u001b[0m\u001b[1;33m(\u001b[0m\u001b[0mnp\u001b[0m\u001b[1;33m.\u001b[0m\u001b[0mint32\u001b[0m\u001b[1;33m)\u001b[0m\u001b[1;33m,\u001b[0m \u001b[0mdepth\u001b[0m\u001b[1;33m=\u001b[0m\u001b[1;36m10\u001b[0m\u001b[1;33m)\u001b[0m\u001b[1;33m\u001b[0m\u001b[1;33m\u001b[0m\u001b[0m\n",
      "\u001b[1;32m~\\AppData\\Local\\Programs\\Python\\Python36\\lib\\site-packages\\tensorflow\\python\\framework\\ops.py\u001b[0m in \u001b[0;36m__getattr__\u001b[1;34m(self, name)\u001b[0m\n\u001b[0;32m    398\u001b[0m         \u001b[0mIf\u001b[0m \u001b[0myou\u001b[0m \u001b[0mare\u001b[0m \u001b[0mlooking\u001b[0m \u001b[1;32mfor\u001b[0m \u001b[0mnumpy\u001b[0m\u001b[1;33m-\u001b[0m\u001b[0mrelated\u001b[0m \u001b[0mmethods\u001b[0m\u001b[1;33m,\u001b[0m \u001b[0mplease\u001b[0m \u001b[0mrun\u001b[0m \u001b[0mthe\u001b[0m \u001b[0mfollowing\u001b[0m\u001b[1;33m:\u001b[0m\u001b[1;33m\u001b[0m\u001b[1;33m\u001b[0m\u001b[0m\n\u001b[0;32m    399\u001b[0m         \u001b[1;32mfrom\u001b[0m \u001b[0mtensorflow\u001b[0m\u001b[1;33m.\u001b[0m\u001b[0mpython\u001b[0m\u001b[1;33m.\u001b[0m\u001b[0mops\u001b[0m\u001b[1;33m.\u001b[0m\u001b[0mnumpy_ops\u001b[0m \u001b[1;32mimport\u001b[0m \u001b[0mnp_config\u001b[0m\u001b[1;33m\u001b[0m\u001b[1;33m\u001b[0m\u001b[0m\n\u001b[1;32m--> 400\u001b[1;33m         np_config.enable_numpy_behavior()\"\"\".format(type(self).__name__, name))\n\u001b[0m\u001b[0;32m    401\u001b[0m     \u001b[0mself\u001b[0m\u001b[1;33m.\u001b[0m\u001b[0m__getattribute__\u001b[0m\u001b[1;33m(\u001b[0m\u001b[0mname\u001b[0m\u001b[1;33m)\u001b[0m\u001b[1;33m\u001b[0m\u001b[1;33m\u001b[0m\u001b[0m\n\u001b[0;32m    402\u001b[0m \u001b[1;33m\u001b[0m\u001b[0m\n",
      "\u001b[1;31mAttributeError\u001b[0m: \n        'EagerTensor' object has no attribute 'astype'.\n        If you are looking for numpy-related methods, please run the following:\n        from tensorflow.python.ops.numpy_ops import np_config\n        np_config.enable_numpy_behavior()"
     ]
    }
   ],
   "source": [
    "# reshape data\n",
    "train_x = train_x.reshape(np.shape(train_x)[0], np.shape(train_x)[1], np.shape(train_x)[2], 1)\n",
    "val_x = val_x.reshape(np.shape(val_x)[0], np.shape(val_x)[1], np.shape(val_x)[2], 1)\n",
    "test_x = test_x.reshape(np.shape(test_x)[0], np.shape(test_x)[1], np.shape(test_x)[2], 1)\n",
    "\n",
    "train_y = tf.one_hot(train_y.astype(np.int32), depth=10)\n",
    "val_y = tf.one_hot(val_y.astype(np.int32), depth=10)\n",
    "test_y = tf.one_hot(test_y.astype(np.int32), depth=10)"
   ]
  },
  {
   "cell_type": "markdown",
   "id": "a1a5ed99",
   "metadata": {},
   "source": [
    "<h1>Build Network model (tanh)</h1>"
   ]
  },
  {
   "cell_type": "code",
   "execution_count": 19,
   "id": "7a55b4d7",
   "metadata": {},
   "outputs": [
    {
     "name": "stdout",
     "output_type": "stream",
     "text": [
      "Model: \"sequential\"\n",
      "_________________________________________________________________\n",
      "Layer (type)                 Output Shape              Param #   \n",
      "=================================================================\n",
      "conv2d (Conv2D)              (None, 24, 24, 20)        520       \n",
      "_________________________________________________________________\n",
      "max_pooling2d (MaxPooling2D) (None, 12, 12, 20)        0         \n",
      "_________________________________________________________________\n",
      "conv2d_1 (Conv2D)            (None, 8, 8, 40)          20040     \n",
      "_________________________________________________________________\n",
      "max_pooling2d_1 (MaxPooling2 (None, 4, 4, 40)          0         \n",
      "_________________________________________________________________\n",
      "flatten (Flatten)            (None, 640)               0         \n",
      "_________________________________________________________________\n",
      "dense (Dense)                (None, 100)               64100     \n",
      "_________________________________________________________________\n",
      "dense_1 (Dense)              (None, 10)                1010      \n",
      "=================================================================\n",
      "Total params: 85,670\n",
      "Trainable params: 85,670\n",
      "Non-trainable params: 0\n",
      "_________________________________________________________________\n"
     ]
    }
   ],
   "source": [
    "################################################################\n",
    "#   first CNN network as described in chapter 6\n",
    "################################################################\n",
    "tf.random.set_seed(42)\n",
    "################################################################\n",
    "\n",
    "################################################################\n",
    "# construct netwoek model\n",
    "\n",
    "input_shape = (28, 28, 1)\n",
    "\n",
    "model = tf.keras.models.Sequential()\n",
    "\n",
    "model.add(\n",
    "    tf.keras.layers.Conv2D( # no padding\n",
    "        20,\n",
    "        (5,5),\n",
    "        activation=tf.nn.tanh,\n",
    "        input_shape=input_shape\n",
    "    )\n",
    ")\n",
    "\n",
    "model.add(\n",
    "    tf.keras.layers.MaxPool2D(\n",
    "        strides=(2,2)\n",
    "    )\n",
    ")\n",
    "\n",
    "model.add(\n",
    "    tf.keras.layers.Conv2D( # no padding\n",
    "        40,\n",
    "        (5,5),\n",
    "        activation=tf.nn.tanh,\n",
    "    )\n",
    ")\n",
    "\n",
    "model.add(\n",
    "    tf.keras.layers.MaxPool2D(\n",
    "        strides=(2,2)\n",
    "    )\n",
    ")\n",
    "\n",
    "model.add(\n",
    "    tf.keras.layers.Flatten()\n",
    ")\n",
    "\n",
    "model.add(\n",
    "    tf.keras.layers.Dense(\n",
    "        100,\n",
    "        activation=tf.nn.tanh\n",
    "    )\n",
    ")\n",
    "\n",
    "model.add(\n",
    "    tf.keras.layers.Dense(\n",
    "        10,\n",
    "        activation=tf.nn.softmax,\n",
    "    )\n",
    ")\n",
    "################################################################\n",
    "\n",
    "################################################################\n",
    "# compile model\n",
    "n_eph = 60\n",
    "eta = 0.1\n",
    "model.compile(\n",
    "    optimizer=tf.keras.optimizers.SGD(\n",
    "        learning_rate=eta,\n",
    "        momentum=0.0,\n",
    "        nesterov=False,\n",
    "        name=\"SGD\"),\n",
    "    loss='categorical_crossentropy',\n",
    "    metrics=['accuracy']\n",
    ")\n",
    "\n",
    "################################################################\n",
    "model.summary()\n"
   ]
  },
  {
   "cell_type": "markdown",
   "id": "5e254e40",
   "metadata": {},
   "source": [
    "<h1>Train Network</h1>"
   ]
  },
  {
   "cell_type": "code",
   "execution_count": 20,
   "id": "832fe3dd",
   "metadata": {
    "scrolled": true
   },
   "outputs": [
    {
     "name": "stdout",
     "output_type": "stream",
     "text": [
      "Epoch 1/60\n",
      "5000/5000 [==============================] - 28s 6ms/step - loss: 0.1224 - accuracy: 0.9619 - val_loss: 0.0609 - val_accuracy: 0.9817\n",
      "Epoch 2/60\n",
      "5000/5000 [==============================] - 28s 6ms/step - loss: 0.0448 - accuracy: 0.9857 - val_loss: 0.0557 - val_accuracy: 0.9833\n",
      "Epoch 3/60\n",
      "5000/5000 [==============================] - 28s 6ms/step - loss: 0.0277 - accuracy: 0.9915 - val_loss: 0.0517 - val_accuracy: 0.9850\n",
      "Epoch 4/60\n",
      "5000/5000 [==============================] - 28s 6ms/step - loss: 0.0165 - accuracy: 0.9950 - val_loss: 0.0464 - val_accuracy: 0.9882\n",
      "Epoch 5/60\n",
      "5000/5000 [==============================] - 28s 6ms/step - loss: 0.0103 - accuracy: 0.9969 - val_loss: 0.0469 - val_accuracy: 0.9881\n",
      "Epoch 6/60\n",
      "5000/5000 [==============================] - 27s 5ms/step - loss: 0.0059 - accuracy: 0.9984 - val_loss: 0.0403 - val_accuracy: 0.9897\n",
      "Epoch 7/60\n",
      "5000/5000 [==============================] - 27s 5ms/step - loss: 0.0021 - accuracy: 0.9998 - val_loss: 0.0396 - val_accuracy: 0.9898\n",
      "Epoch 8/60\n",
      "5000/5000 [==============================] - 27s 5ms/step - loss: 0.0010 - accuracy: 0.9999 - val_loss: 0.0396 - val_accuracy: 0.9904\n",
      "Epoch 9/60\n",
      "5000/5000 [==============================] - 27s 5ms/step - loss: 6.4129e-04 - accuracy: 1.0000 - val_loss: 0.0395 - val_accuracy: 0.9906\n",
      "Epoch 10/60\n",
      "5000/5000 [==============================] - 28s 6ms/step - loss: 4.6312e-04 - accuracy: 1.0000 - val_loss: 0.0397 - val_accuracy: 0.9911\n",
      "Epoch 11/60\n",
      "5000/5000 [==============================] - 28s 6ms/step - loss: 3.8674e-04 - accuracy: 1.0000 - val_loss: 0.0399 - val_accuracy: 0.9908\n",
      "Epoch 12/60\n",
      "5000/5000 [==============================] - 28s 6ms/step - loss: 3.3582e-04 - accuracy: 1.0000 - val_loss: 0.0404 - val_accuracy: 0.9909\n",
      "Epoch 13/60\n",
      "5000/5000 [==============================] - 29s 6ms/step - loss: 2.9650e-04 - accuracy: 1.0000 - val_loss: 0.0405 - val_accuracy: 0.9909\n",
      "Epoch 14/60\n",
      "5000/5000 [==============================] - 29s 6ms/step - loss: 2.6866e-04 - accuracy: 1.0000 - val_loss: 0.0409 - val_accuracy: 0.9910\n",
      "Epoch 15/60\n",
      "5000/5000 [==============================] - 29s 6ms/step - loss: 2.4308e-04 - accuracy: 1.0000 - val_loss: 0.0412 - val_accuracy: 0.9909\n",
      "Epoch 16/60\n",
      "5000/5000 [==============================] - 29s 6ms/step - loss: 2.2430e-04 - accuracy: 1.0000 - val_loss: 0.0413 - val_accuracy: 0.9908\n",
      "Epoch 17/60\n",
      "5000/5000 [==============================] - 30s 6ms/step - loss: 2.0713e-04 - accuracy: 1.0000 - val_loss: 0.0417 - val_accuracy: 0.9910\n",
      "Epoch 18/60\n",
      "5000/5000 [==============================] - 30s 6ms/step - loss: 1.9209e-04 - accuracy: 1.0000 - val_loss: 0.0418 - val_accuracy: 0.9910\n",
      "Epoch 19/60\n",
      "5000/5000 [==============================] - 31s 6ms/step - loss: 1.7918e-04 - accuracy: 1.0000 - val_loss: 0.0418 - val_accuracy: 0.9909\n",
      "Epoch 20/60\n",
      "5000/5000 [==============================] - 32s 6ms/step - loss: 1.6843e-04 - accuracy: 1.0000 - val_loss: 0.0422 - val_accuracy: 0.9909\n",
      "Epoch 21/60\n",
      "5000/5000 [==============================] - 32s 6ms/step - loss: 1.5943e-04 - accuracy: 1.0000 - val_loss: 0.0423 - val_accuracy: 0.9911\n",
      "Epoch 22/60\n",
      "5000/5000 [==============================] - 32s 6ms/step - loss: 1.4993e-04 - accuracy: 1.0000 - val_loss: 0.0424 - val_accuracy: 0.9910\n",
      "Epoch 23/60\n",
      "5000/5000 [==============================] - 33s 7ms/step - loss: 1.4266e-04 - accuracy: 1.0000 - val_loss: 0.0425 - val_accuracy: 0.9910\n",
      "Epoch 24/60\n",
      "5000/5000 [==============================] - 33s 7ms/step - loss: 1.3541e-04 - accuracy: 1.0000 - val_loss: 0.0427 - val_accuracy: 0.9911\n",
      "Epoch 25/60\n",
      "5000/5000 [==============================] - 33s 7ms/step - loss: 1.2921e-04 - accuracy: 1.0000 - val_loss: 0.0428 - val_accuracy: 0.9909\n",
      "Epoch 26/60\n",
      "5000/5000 [==============================] - 33s 7ms/step - loss: 1.2339e-04 - accuracy: 1.0000 - val_loss: 0.0430 - val_accuracy: 0.9909\n",
      "Epoch 27/60\n",
      "5000/5000 [==============================] - 33s 7ms/step - loss: 1.1791e-04 - accuracy: 1.0000 - val_loss: 0.0430 - val_accuracy: 0.9909\n",
      "Epoch 28/60\n",
      "5000/5000 [==============================] - 33s 7ms/step - loss: 1.1305e-04 - accuracy: 1.0000 - val_loss: 0.0432 - val_accuracy: 0.9910\n",
      "Epoch 29/60\n",
      "5000/5000 [==============================] - 33s 7ms/step - loss: 1.0860e-04 - accuracy: 1.0000 - val_loss: 0.0433 - val_accuracy: 0.9910\n",
      "Epoch 30/60\n",
      "5000/5000 [==============================] - 33s 7ms/step - loss: 1.0451e-04 - accuracy: 1.0000 - val_loss: 0.0434 - val_accuracy: 0.9911\n",
      "Epoch 31/60\n",
      "5000/5000 [==============================] - 33s 7ms/step - loss: 1.0062e-04 - accuracy: 1.0000 - val_loss: 0.0435 - val_accuracy: 0.9910\n",
      "Epoch 32/60\n",
      "5000/5000 [==============================] - 33s 7ms/step - loss: 9.6933e-05 - accuracy: 1.0000 - val_loss: 0.0438 - val_accuracy: 0.9911\n",
      "Epoch 33/60\n",
      "5000/5000 [==============================] - 33s 7ms/step - loss: 9.3724e-05 - accuracy: 1.0000 - val_loss: 0.0439 - val_accuracy: 0.9910\n",
      "Epoch 34/60\n",
      "5000/5000 [==============================] - 33s 7ms/step - loss: 9.0158e-05 - accuracy: 1.0000 - val_loss: 0.0439 - val_accuracy: 0.9910\n",
      "Epoch 35/60\n",
      "5000/5000 [==============================] - 33s 7ms/step - loss: 8.7692e-05 - accuracy: 1.0000 - val_loss: 0.0440 - val_accuracy: 0.9911\n",
      "Epoch 36/60\n",
      "5000/5000 [==============================] - 33s 7ms/step - loss: 8.4966e-05 - accuracy: 1.0000 - val_loss: 0.0440 - val_accuracy: 0.9911\n",
      "Epoch 37/60\n",
      "5000/5000 [==============================] - 33s 7ms/step - loss: 8.2275e-05 - accuracy: 1.0000 - val_loss: 0.0441 - val_accuracy: 0.9911\n",
      "Epoch 38/60\n",
      "5000/5000 [==============================] - 33s 7ms/step - loss: 7.9890e-05 - accuracy: 1.0000 - val_loss: 0.0442 - val_accuracy: 0.9911\n",
      "Epoch 39/60\n",
      "5000/5000 [==============================] - 33s 7ms/step - loss: 7.7506e-05 - accuracy: 1.0000 - val_loss: 0.0444 - val_accuracy: 0.9911\n",
      "Epoch 40/60\n",
      "5000/5000 [==============================] - 33s 7ms/step - loss: 7.5413e-05 - accuracy: 1.0000 - val_loss: 0.0444 - val_accuracy: 0.9910\n",
      "Epoch 41/60\n",
      "5000/5000 [==============================] - 33s 7ms/step - loss: 7.3287e-05 - accuracy: 1.0000 - val_loss: 0.0445 - val_accuracy: 0.9910\n",
      "Epoch 42/60\n",
      "5000/5000 [==============================] - 33s 7ms/step - loss: 7.1388e-05 - accuracy: 1.0000 - val_loss: 0.0445 - val_accuracy: 0.9910\n",
      "Epoch 43/60\n",
      "5000/5000 [==============================] - 33s 7ms/step - loss: 6.9499e-05 - accuracy: 1.0000 - val_loss: 0.0446 - val_accuracy: 0.9910\n",
      "Epoch 44/60\n",
      "5000/5000 [==============================] - 32s 6ms/step - loss: 6.7778e-05 - accuracy: 1.0000 - val_loss: 0.0447 - val_accuracy: 0.9910\n",
      "Epoch 45/60\n",
      "5000/5000 [==============================] - 32s 6ms/step - loss: 6.6043e-05 - accuracy: 1.0000 - val_loss: 0.0448 - val_accuracy: 0.9910\n",
      "Epoch 46/60\n",
      "5000/5000 [==============================] - 32s 6ms/step - loss: 6.4457e-05 - accuracy: 1.0000 - val_loss: 0.0448 - val_accuracy: 0.9910\n",
      "Epoch 47/60\n",
      "5000/5000 [==============================] - 32s 6ms/step - loss: 6.2923e-05 - accuracy: 1.0000 - val_loss: 0.0449 - val_accuracy: 0.9910\n",
      "Epoch 48/60\n",
      "5000/5000 [==============================] - 32s 6ms/step - loss: 6.1457e-05 - accuracy: 1.0000 - val_loss: 0.0450 - val_accuracy: 0.9910\n",
      "Epoch 49/60\n",
      "5000/5000 [==============================] - 32s 6ms/step - loss: 6.0084e-05 - accuracy: 1.0000 - val_loss: 0.0451 - val_accuracy: 0.9911\n",
      "Epoch 50/60\n",
      "5000/5000 [==============================] - 32s 6ms/step - loss: 5.8765e-05 - accuracy: 1.0000 - val_loss: 0.0451 - val_accuracy: 0.9911\n",
      "Epoch 51/60\n",
      "5000/5000 [==============================] - 33s 7ms/step - loss: 5.7518e-05 - accuracy: 1.0000 - val_loss: 0.0452 - val_accuracy: 0.9910\n",
      "Epoch 52/60\n",
      "5000/5000 [==============================] - 32s 6ms/step - loss: 5.6259e-05 - accuracy: 1.0000 - val_loss: 0.0452 - val_accuracy: 0.9911\n",
      "Epoch 53/60\n",
      "5000/5000 [==============================] - 32s 6ms/step - loss: 5.5088e-05 - accuracy: 1.0000 - val_loss: 0.0453 - val_accuracy: 0.9911\n",
      "Epoch 54/60\n",
      "5000/5000 [==============================] - 32s 6ms/step - loss: 5.3964e-05 - accuracy: 1.0000 - val_loss: 0.0453 - val_accuracy: 0.9911\n",
      "Epoch 55/60\n",
      "5000/5000 [==============================] - 32s 6ms/step - loss: 5.2861e-05 - accuracy: 1.0000 - val_loss: 0.0454 - val_accuracy: 0.9911\n"
     ]
    },
    {
     "name": "stdout",
     "output_type": "stream",
     "text": [
      "Epoch 56/60\n",
      "5000/5000 [==============================] - 32s 6ms/step - loss: 5.1818e-05 - accuracy: 1.0000 - val_loss: 0.0455 - val_accuracy: 0.9911\n",
      "Epoch 57/60\n",
      "5000/5000 [==============================] - 32s 6ms/step - loss: 5.0821e-05 - accuracy: 1.0000 - val_loss: 0.0455 - val_accuracy: 0.9911\n",
      "Epoch 58/60\n",
      "5000/5000 [==============================] - 32s 6ms/step - loss: 4.9839e-05 - accuracy: 1.0000 - val_loss: 0.0456 - val_accuracy: 0.9911\n",
      "Epoch 59/60\n",
      "5000/5000 [==============================] - 32s 6ms/step - loss: 4.8896e-05 - accuracy: 1.0000 - val_loss: 0.0457 - val_accuracy: 0.9911\n",
      "Epoch 60/60\n",
      "5000/5000 [==============================] - 32s 6ms/step - loss: 4.8022e-05 - accuracy: 1.0000 - val_loss: 0.0457 - val_accuracy: 0.9911\n",
      "total time: 1871.3747725486755\n",
      "1/1 [==============================] - 1s 653ms/step - loss: 0.0273 - accuracy: 0.9922\n"
     ]
    }
   ],
   "source": [
    "################################################################\n",
    "# save the model when val_acc is best\n",
    "checkpoint_filepath = r'C:\\Users\\mchen\\OneDrive\\桌面\\ml\\code\\tutorial\\chapter6\\save_model\\cnn_tanh\\cnn_tanh'\n",
    "\n",
    "model_checkpoint_callback = tf.keras.callbacks.ModelCheckpoint(\n",
    "    filepath=checkpoint_filepath,\n",
    "    save_weights_only=True,\n",
    "    monitor='val_accuracy',\n",
    "    mode='max',\n",
    "    save_best_only=True)\n",
    "################################################################\n",
    "\n",
    "################################################################\n",
    "#    train model  (how do i randomize mini_batches?)\n",
    "batch_size = 10\n",
    "n_eph = 60\n",
    "\n",
    "ts = time.time()\n",
    "history = model.fit(\n",
    "    train_x, train_y, \n",
    "    epochs=n_eph,\n",
    "    batch_size=batch_size,\n",
    "    validation_data=(val_x, val_y),\n",
    "    callbacks=[model_checkpoint_callback],\n",
    "    shuffle=True\n",
    ")\n",
    "te = time.time()\n",
    "\n",
    "print('total time:', te - ts)\n",
    "\n",
    "\n",
    "acc = history.history['accuracy']\n",
    "loss = history.history['loss']\n",
    "val_acc = history.history['val_accuracy']\n",
    "val_loss = history.history['val_loss']\n",
    "################################################################\n",
    "\n",
    "\n",
    "################################################################\n",
    "#    load the weights for the best epoch (best val accuracy)\n",
    "model.load_weights(checkpoint_filepath)\n",
    "\n",
    "################################################################\n",
    "\n",
    "################################################################\n",
    "#    evaluate test data at the best epoch\n",
    "[test_data_loss, test_data_accuracy] = model.evaluate(\n",
    "    test_x, test_y,\n",
    "    batch_size=len(test_x)\n",
    ")\n",
    "################################################################\n"
   ]
  },
  {
   "cell_type": "markdown",
   "id": "a7d24056",
   "metadata": {},
   "source": [
    "<h1>plot result<h1/>"
   ]
  },
  {
   "cell_type": "code",
   "execution_count": 21,
   "id": "d00eb60c",
   "metadata": {},
   "outputs": [
    {
     "data": {
      "image/png": "[encoded data removed]",
      "text/plain": [
       "<Figure size 432x288 with 1 Axes>"
      ]
     },
     "metadata": {
      "needs_background": "light"
     },
     "output_type": "display_data"
    }
   ],
   "source": [
    "plt.plot(acc, label='train acc., best: {:.3f}'.format(max(acc)))\n",
    "plt.plot(val_acc, label='validation acc. best: {:.3f}'.format(max(val_acc)))\n",
    "plt.title('CNN softmax SGD, , eta={}, {} epochs'.format(eta, n_eph))\n",
    "plt.axvline(x=np.argmax(val_acc), c='r', ls=':', label='best epoch: {}'.format(np.argmax(val_acc)))\n",
    "plt.axhline(y=test_data_accuracy, c='r', label='test data accuracy at best epoch: {:.3f}'.format(test_data_accuracy))\n",
    "plt.legend()\n",
    "plt.show()\n",
    "\n",
    "from winsound import Beep\n",
    "Beep(1000, 100)"
   ]
  },
  {
   "cell_type": "code",
   "execution_count": null,
   "id": "0f4a95e3",
   "metadata": {},
   "outputs": [],
   "source": []
  },
  {
   "cell_type": "markdown",
   "id": "bb754fb6",
   "metadata": {},
   "source": [
    "<h1>Max accuracy= 99.2%<h1/><h1>Total time= 1871s<h1/>"
   ]
  },
  {
   "cell_type": "code",
   "execution_count": 22,
   "id": "43394d7b",
   "metadata": {},
   "outputs": [
    {
     "name": "stdout",
     "output_type": "stream",
     "text": [
      "[0.9619200229644775, 0.9856600165367126, 0.9915199875831604, 0.994979977607727, 0.996940016746521, 0.9983800053596497, 0.9997599720954895, 0.9998800158500671, 0.9999600052833557, 1.0, 1.0, 1.0, 1.0, 1.0, 1.0, 1.0, 1.0, 1.0, 1.0, 1.0, 1.0, 1.0, 1.0, 1.0, 1.0, 1.0, 1.0, 1.0, 1.0, 1.0, 1.0, 1.0, 1.0, 1.0, 1.0, 1.0, 1.0, 1.0, 1.0, 1.0, 1.0, 1.0, 1.0, 1.0, 1.0, 1.0, 1.0, 1.0, 1.0, 1.0, 1.0, 1.0, 1.0, 1.0, 1.0, 1.0, 1.0, 1.0, 1.0, 1.0]\n"
     ]
    }
   ],
   "source": [
    "print(acc)"
   ]
  },
  {
   "cell_type": "code",
   "execution_count": 23,
   "id": "d4220c29",
   "metadata": {},
   "outputs": [
    {
     "name": "stdout",
     "output_type": "stream",
     "text": [
      "[0.12236244976520538, 0.04479185491800308, 0.02773158997297287, 0.016544515267014503, 0.010259032249450684, 0.005909186787903309, 0.002102147787809372, 0.0010301641887053847, 0.0006412880029529333, 0.00046312197810038924, 0.0003867401392199099, 0.0003358170797582716, 0.0002964992600027472, 0.0002686594089027494, 0.00024307866988237947, 0.0002242962218588218, 0.00020713314006570727, 0.00019209415768273175, 0.00017918254889082164, 0.00016842893091961741, 0.00015943439211696386, 0.00014993484364822507, 0.000142663178849034, 0.00013541296357288957, 0.00012920863809995353, 0.00012339169916231185, 0.00011790855205617845, 0.0001130451200879179, 0.00010860461043193936, 0.00010450561239849776, 0.00010062120418297127, 9.693281026557088e-05, 9.37244767555967e-05, 9.015841351356357e-05, 8.769218402449042e-05, 8.496611553709954e-05, 8.2274797023274e-05, 7.988986180862412e-05, 7.750614895485342e-05, 7.541304512415081e-05, 7.328698848141357e-05, 7.138817454688251e-05, 6.949851376703009e-05, 6.777785893063992e-05, 6.6042659454979e-05, 6.445711915148422e-05, 6.292348552960902e-05, 6.145695078885183e-05, 6.008398122503422e-05, 5.876473733223975e-05, 5.7517878303769976e-05, 5.625908306683414e-05, 5.5088028602767736e-05, 5.396445340011269e-05, 5.286144369165413e-05, 5.181838423595764e-05, 5.082051211502403e-05, 4.983855615137145e-05, 4.8896370572037995e-05, 4.8021742259152234e-05]\n"
     ]
    }
   ],
   "source": [
    "print(loss)"
   ]
  },
  {
   "cell_type": "code",
   "execution_count": 24,
   "id": "7af23f6d",
   "metadata": {},
   "outputs": [
    {
     "name": "stdout",
     "output_type": "stream",
     "text": [
      "[0.9817000031471252, 0.983299970626831, 0.9850000143051147, 0.9882000088691711, 0.988099992275238, 0.9897000193595886, 0.989799976348877, 0.9904000163078308, 0.9905999898910522, 0.991100013256073, 0.9908000230789185, 0.9908999800682068, 0.9908999800682068, 0.9909999966621399, 0.9908999800682068, 0.9908000230789185, 0.9909999966621399, 0.9909999966621399, 0.9908999800682068, 0.9908999800682068, 0.991100013256073, 0.9909999966621399, 0.9909999966621399, 0.991100013256073, 0.9908999800682068, 0.9908999800682068, 0.9908999800682068, 0.9909999966621399, 0.9909999966621399, 0.991100013256073, 0.9909999966621399, 0.991100013256073, 0.9909999966621399, 0.9909999966621399, 0.991100013256073, 0.991100013256073, 0.991100013256073, 0.991100013256073, 0.991100013256073, 0.9909999966621399, 0.9909999966621399, 0.9909999966621399, 0.9909999966621399, 0.9909999966621399, 0.9909999966621399, 0.9909999966621399, 0.9909999966621399, 0.9909999966621399, 0.991100013256073, 0.991100013256073, 0.9909999966621399, 0.991100013256073, 0.991100013256073, 0.991100013256073, 0.991100013256073, 0.991100013256073, 0.991100013256073, 0.991100013256073, 0.991100013256073, 0.991100013256073]\n"
     ]
    }
   ],
   "source": [
    "print(val_acc)"
   ]
  },
  {
   "cell_type": "code",
   "execution_count": 25,
   "id": "2d6ca1f9",
   "metadata": {},
   "outputs": [
    {
     "name": "stdout",
     "output_type": "stream",
     "text": [
      "[0.060853131115436554, 0.055709876120090485, 0.05170590057969093, 0.046396348625421524, 0.04694094881415367, 0.04025040939450264, 0.03957781940698624, 0.03956744447350502, 0.039531756192445755, 0.0396556630730629, 0.03992418572306633, 0.04041806608438492, 0.040454596281051636, 0.04091852903366089, 0.04122014343738556, 0.04129426181316376, 0.041655708104372025, 0.041835810989141464, 0.04176103696227074, 0.042161375284194946, 0.042315684258937836, 0.04241223633289337, 0.04252283647656441, 0.04266251251101494, 0.04277995228767395, 0.0430021658539772, 0.04302898421883583, 0.04323018714785576, 0.04332523047924042, 0.043436214327812195, 0.043519459664821625, 0.04380464553833008, 0.04385486617684364, 0.043880533427000046, 0.04397014155983925, 0.04404842108488083, 0.04408024251461029, 0.04422109201550484, 0.044362686574459076, 0.04437503218650818, 0.044479258358478546, 0.04454827308654785, 0.04462124779820442, 0.044725239276885986, 0.044790953397750854, 0.04479430615901947, 0.04487864300608635, 0.04495595395565033, 0.0450671948492527, 0.04512827470898628, 0.04518018662929535, 0.045239828526973724, 0.04530626907944679, 0.04534249007701874, 0.045380957424640656, 0.04547107592225075, 0.0455160066485405, 0.04561419412493706, 0.04569459334015846, 0.04570303484797478]\n"
     ]
    }
   ],
   "source": [
    "print(val_loss)"
   ]
  },
  {
   "cell_type": "code",
   "execution_count": null,
   "id": "10d7506b",
   "metadata": {},
   "outputs": [],
   "source": []
  },
  {
   "cell_type": "code",
   "execution_count": null,
   "id": "8d683c36",
   "metadata": {},
   "outputs": [],
   "source": []
  },
  {
   "cell_type": "code",
   "execution_count": 18,
   "id": "b706517a",
   "metadata": {},
   "outputs": [],
   "source": [
    "sig_valid_acc = [0.9879999756813049, 0.987500011920929, 0.9879000186920166, 0.9879000186920166, 0.9878000020980835, 0.987500011920929, 0.988099992275238, 0.9883999824523926, 0.987500011920929, 0.988099992275238, 0.9879999756813049, 0.9879999756813049, 0.9878000020980835, 0.988099992275238, 0.9878000020980835, 0.9879000186920166, 0.9876000285148621, 0.9879999756813049, 0.9879999756813049, 0.9873999953269958, 0.9882000088691711, 0.9879000186920166, 0.9879000186920166, 0.9876000285148621, 0.9882000088691711, 0.988099992275238, 0.9876999855041504, 0.9879999756813049, 0.9879999756813049, 0.9883000254631042, 0.9879999756813049, 0.987500011920929, 0.9879999756813049, 0.9879999756813049, 0.9876999855041504, 0.988099992275238, 0.9876999855041504, 0.9883999824523926, 0.9879000186920166, 0.9879999756813049, 0.9879000186920166, 0.9879999756813049, 0.9878000020980835, 0.9879999756813049, 0.9878000020980835, 0.9878000020980835, 0.988099992275238, 0.9883000254631042, 0.9882000088691711, 0.9878000020980835, 0.9879999756813049, 0.9883000254631042, 0.9879000186920166, 0.9876999855041504, 0.9882000088691711, 0.9883000254631042, 0.988099992275238, 0.9879999756813049, 0.9882000088691711, 0.9882000088691711]\n",
    "\n",
    "tanh_val__acc = [0.9817000031471252, 0.983299970626831, 0.9850000143051147, 0.9882000088691711, 0.988099992275238, 0.9897000193595886, 0.989799976348877, 0.9904000163078308, 0.9905999898910522, 0.991100013256073, 0.9908000230789185, 0.9908999800682068, 0.9908999800682068, 0.9909999966621399, 0.9908999800682068, 0.9908000230789185, 0.9909999966621399, 0.9909999966621399, 0.9908999800682068, 0.9908999800682068, 0.991100013256073, 0.9909999966621399, 0.9909999966621399, 0.991100013256073, 0.9908999800682068, 0.9908999800682068, 0.9908999800682068, 0.9909999966621399, 0.9909999966621399, 0.991100013256073, 0.9909999966621399, 0.991100013256073, 0.9909999966621399, 0.9909999966621399, 0.991100013256073, 0.991100013256073, 0.991100013256073, 0.991100013256073, 0.991100013256073, 0.9909999966621399, 0.9909999966621399, 0.9909999966621399, 0.9909999966621399, 0.9909999966621399, 0.9909999966621399, 0.9909999966621399, 0.9909999966621399, 0.9909999966621399, 0.991100013256073, 0.991100013256073, 0.9909999966621399, 0.991100013256073, 0.991100013256073, 0.991100013256073, 0.991100013256073, 0.991100013256073, 0.991100013256073, 0.991100013256073, 0.991100013256073, 0.991100013256073]\n"
   ]
  },
  {
   "cell_type": "code",
   "execution_count": 19,
   "id": "3f7695da",
   "metadata": {},
   "outputs": [
    {
     "data": {
      "image/png": "[encoded data removed]",
      "text/plain": [
       "<Figure size 432x288 with 1 Axes>"
      ]
     },
     "metadata": {
      "needs_background": "light"
     },
     "output_type": "display_data"
    }
   ],
   "source": [
    "plt.title(\"CNN using sigmoid and tanh activation\")\n",
    "plt.plot(sig_valid_acc, c='r', label='sigmoid validation accuracy')\n",
    "plt.plot(tanh_val__acc, c='b', label='tanh validation accuracy')\n",
    "plt.legend()\n",
    "plt.xlabel('epochs')\n",
    "plt.ylabel('valid. acc.')\n",
    "plt.show()"
   ]
  },
  {
   "cell_type": "markdown",
   "id": "b5ec39c1",
   "metadata": {},
   "source": [
    "<h1>sigmoid validation accuracy seems to stop growing right away, while tanh validation has large improvement over the first 10 epochs.<h1/>\n",
    "<h1>M. Neilson says that both models have similar final accuracy, but my trial shows that the overall the accuracy of tahn model is much better than sigmoid (for one trial only).<h1/>\n",
    "    \n",
    "\n",
    "<h1>I will skip the open-ended question in chapter 6 for now.<h1/>\n"
   ]
  },
  {
   "cell_type": "code",
   "execution_count": null,
   "id": "0020d448",
   "metadata": {},
   "outputs": [],
   "source": []
  },
  {
   "cell_type": "code",
   "execution_count": null,
   "id": "ac5d8377",
   "metadata": {},
   "outputs": [],
   "source": []
  },
  {
   "cell_type": "code",
   "execution_count": null,
   "id": "0b817d84",
   "metadata": {},
   "outputs": [],
   "source": []
  },
  {
   "cell_type": "code",
   "execution_count": null,
   "id": "e783c293",
   "metadata": {},
   "outputs": [],
   "source": []
  },
  {
   "cell_type": "code",
   "execution_count": null,
   "id": "0ad3fe3a",
   "metadata": {},
   "outputs": [],
   "source": []
  },
  {
   "cell_type": "code",
   "execution_count": null,
   "id": "9f363eae",
   "metadata": {},
   "outputs": [],
   "source": []
  },
  {
   "cell_type": "code",
   "execution_count": null,
   "id": "a6334cb4",
   "metadata": {},
   "outputs": [],
   "source": []
  },
  {
   "cell_type": "code",
   "execution_count": null,
   "id": "f1aa8914",
   "metadata": {},
   "outputs": [],
   "source": []
  }
 ],
 "metadata": {
  "kernelspec": {
   "display_name": "Python 3",
   "language": "python",
   "name": "python3"
  },
  "language_info": {
   "codemirror_mode": {
    "name": "ipython",
    "version": 3
   },
   "file_extension": ".py",
   "mimetype": "text/x-python",
   "name": "python",
   "nbconvert_exporter": "python",
   "pygments_lexer": "ipython3",
   "version": "3.6.8"
  }
 },
 "nbformat": 4,
 "nbformat_minor": 5
}
