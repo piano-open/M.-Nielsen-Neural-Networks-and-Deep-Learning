{
 "cells": [
  {
   "cell_type": "markdown",
   "id": "9cdefe56",
   "metadata": {},
   "source": [
    "<h1>M. Nielsen, Chapter 6, 100-node 1 layer softmax</h1>"
   ]
  },
  {
   "cell_type": "code",
   "execution_count": 2,
   "id": "80f03fd8",
   "metadata": {},
   "outputs": [
    {
     "data": {
      "text/html": [
       "<style>.container { width:100% !important; }</style>"
      ],
      "text/plain": [
       "<IPython.core.display.HTML object>"
      ]
     },
     "metadata": {},
     "output_type": "display_data"
    }
   ],
   "source": [
    "from IPython.core.display import display, HTML\n",
    "display(HTML(\"<style>.container { width:100% !important; }</style>\"))"
   ]
  },
  {
   "cell_type": "code",
   "execution_count": 4,
   "id": "f41fb54e",
   "metadata": {},
   "outputs": [],
   "source": [
    "import os\n",
    "import numpy as np\n",
    "import time\n",
    "import random\n",
    "import tensorflow as tf"
   ]
  },
  {
   "cell_type": "code",
   "execution_count": 6,
   "id": "a66d1ec7",
   "metadata": {},
   "outputs": [],
   "source": [
    "from matplotlib import pyplot as plt"
   ]
  },
  {
   "cell_type": "code",
   "execution_count": 8,
   "id": "288c3614",
   "metadata": {},
   "outputs": [],
   "source": [
    "os.chdir(r\"C:\\Users\\mchen\\OneDrive\\桌面\\ml\\code\\tutorial\\chapter3\\20211119\\multi_layer\")"
   ]
  },
  {
   "cell_type": "code",
   "execution_count": 10,
   "id": "23658ba4",
   "metadata": {},
   "outputs": [],
   "source": [
    "import mnist_loader\n",
    "training_data, validation_data, test_data = mnist_loader.load_data_wrapper()"
   ]
  },
  {
   "cell_type": "code",
   "execution_count": 11,
   "id": "83beedea",
   "metadata": {},
   "outputs": [
    {
     "name": "stdout",
     "output_type": "stream",
     "text": [
      "(50000, 28, 28)\n",
      "(10000, 28, 28)\n",
      "(10000, 28, 28)\n"
     ]
    }
   ],
   "source": [
    "###############################################\n",
    "#    load data from local directory\n",
    "###############################################\n",
    "\n",
    "train_x, train_y, val_x, val_y, test_x, test_y = [], [], [], [], [], []\n",
    "\n",
    "training_data, validation_data, test_data = mnist_loader.load_data_wrapper()\n",
    "\n",
    "for tra in training_data:\n",
    "    img_tra_x = tra[0].reshape(28,28).tolist()\n",
    "    img_tra_y = np.array(np.argmax(tra[1]), dtype=np.uint8)\n",
    "    train_x.append(img_tra_x)\n",
    "    train_y.append(img_tra_y)\n",
    "print(np.shape(train_x))\n",
    "\n",
    "for val in validation_data:\n",
    "    img_val_x = val[0].reshape(28,28)\n",
    "#     img_val_y = np.array(np.argmax(val[1]), dtype=np.uint8)\n",
    "    img_val_y = np.array(val[1], dtype=np.uint8)\n",
    "    val_x.append(img_val_x)\n",
    "    val_y.append(img_val_y)\n",
    "print(np.shape(val_x))\n",
    "\n",
    "for tes in test_data:\n",
    "    img_tes_x = tes[0].reshape(28,28)\n",
    "    img_tes_y = np.array(tes[1], dtype=np.uint8)\n",
    "    test_x.append(img_tes_x)\n",
    "    test_y.append(img_tes_y)\n",
    "print(np.shape(test_x))\n",
    "\n",
    "\n",
    "train_x = np.array(train_x)\n",
    "val_x = np.array(val_x)\n",
    "test_x = np.array(test_x)\n",
    "\n",
    "train_y = np.array(train_y)\n",
    "val_y = np.array(val_y)\n",
    "test_y = np.array(test_y)"
   ]
  },
  {
   "cell_type": "code",
   "execution_count": 12,
   "id": "a6195c4c",
   "metadata": {},
   "outputs": [
    {
     "data": {
      "image/png": "[encoded data removed]",
      "text/plain": [
       "<Figure size 432x288 with 1 Axes>"
      ]
     },
     "metadata": {
      "needs_background": "light"
     },
     "output_type": "display_data"
    },
    {
     "name": "stdout",
     "output_type": "stream",
     "text": [
      "img label: 5\n"
     ]
    },
    {
     "data": {
      "image/png": "[encoded data removed]",
      "text/plain": [
       "<Figure size 432x288 with 1 Axes>"
      ]
     },
     "metadata": {
      "needs_background": "light"
     },
     "output_type": "display_data"
    },
    {
     "name": "stdout",
     "output_type": "stream",
     "text": [
      "img label: 3\n"
     ]
    },
    {
     "data": {
      "image/png": "[encoded data removed]",
      "text/plain": [
       "<Figure size 432x288 with 1 Axes>"
      ]
     },
     "metadata": {
      "needs_background": "light"
     },
     "output_type": "display_data"
    },
    {
     "name": "stdout",
     "output_type": "stream",
     "text": [
      "img label: 7\n"
     ]
    }
   ],
   "source": [
    "###############################################\n",
    "#    checking data format:\n",
    "###############################################\n",
    "plt.imshow(train_x[0], interpolation='none')\n",
    "plt.show()\n",
    "print('img label:', train_y[0])\n",
    "\n",
    "plt.imshow(val_x[0], interpolation='none')\n",
    "plt.show()\n",
    "print('img label:', val_y[0])\n",
    "\n",
    "plt.imshow(test_x[0], interpolation='none')\n",
    "plt.show()\n",
    "print('img label:', test_y[0])\n"
   ]
  },
  {
   "cell_type": "code",
   "execution_count": 14,
   "id": "dff34bf2",
   "metadata": {
    "scrolled": true
   },
   "outputs": [],
   "source": [
    "# ################################################################\n",
    "# #   normal SGD method as described in chapter 1&2\n",
    "# ################################################################\n",
    "# tf.random.set_seed(42)\n",
    "# ################################################################\n",
    "# #    define model\n",
    "\n",
    "# # initializer = tf.keras.initializers.VarianceScaling(\n",
    "# # scale=0.1, mode='fan_in', distribution='uniform')\n",
    "# # layer = tf.keras.layers.Dense(3, kernel_initializer=initializer)\n",
    "\n",
    "# model = tf.keras.models.Sequential([\n",
    "#     tf.keras.layers.Flatten(input_shape=(28, 28)),\n",
    "#     tf.keras.layers.Dense(\n",
    "#     30, \n",
    "#     activation=tf.nn.sigmoid,\n",
    "#     kernel_initializer=tf.keras.initializers.RandomNormal(stddev=1.0),\n",
    "#     bias_initializer=tf.keras.initializers.RandomNormal(stddev=1.0),\n",
    "# #       kernel_regularizer=tf.keras.regularizers.L1(1.25)\n",
    "#     ),\n",
    "#     tf.keras.layers.Dense(10)\n",
    "# ])\n",
    "\n",
    "# n_eph = 60\n",
    "# eta = 0.1\n",
    "\n",
    "# loss_fn = tf.keras.losses.SparseCategoricalCrossentropy(from_logits=True)\n",
    "# model.compile(\n",
    "#     optimizer=tf.keras.optimizers.SGD(\n",
    "#         learning_rate=eta,\n",
    "#         momentum=0.0,\n",
    "#         nesterov=False,\n",
    "#         name=\"SGD\"),\n",
    "#     loss=loss_fn,\n",
    "#     metrics=['accuracy'])\n",
    "# ################################################################\n",
    "\n",
    "\n",
    "# ################################################################\n",
    "# # save the model when val_acc is best\n",
    "# checkpoint_filepath = r'C:\\Users\\mchen\\OneDrive\\桌面\\ml\\code\\tutorial\\chapter3\\20211122\\simple_sgd_model'\n",
    "\n",
    "# model_checkpoint_callback = tf.keras.callbacks.ModelCheckpoint(\n",
    "#     filepath=checkpoint_filepath,\n",
    "#     save_weights_only=True,\n",
    "#     monitor='val_accuracy',\n",
    "#     mode='max',\n",
    "#     save_best_only=True)\n",
    "# ################################################################\n",
    "\n",
    "\n",
    "\n",
    "\n",
    "# ################################################################\n",
    "# #    train model  (how do i randomize mini_batches?)\n",
    "# batch_size = 10\n",
    "\n",
    "# history = model.fit(\n",
    "#     train_x, train_y, \n",
    "#     epochs=n_eph,\n",
    "#     batch_size=batch_size,\n",
    "#     validation_data=(val_x, val_y),\n",
    "#     callbacks=[model_checkpoint_callback],\n",
    "#     shuffle=True\n",
    "# )\n",
    "\n",
    "# acc = history.history['accuracy']\n",
    "# loss = history.history['loss']\n",
    "# val_acc = history.history['val_accuracy']\n",
    "# val_loss = history.history['val_loss']\n",
    "# ################################################################\n",
    "\n",
    "\n",
    "# ################################################################\n",
    "# #    load the weights for the best epoch (best val accuracy)\n",
    "# model.load_weights(checkpoint_filepath)\n",
    "# ################################################################\n",
    "\n",
    "# ################################################################\n",
    "# #    evaluate test data at the best epoch\n",
    "# [test_data_loss, test_data_accuracy] = model.evaluate(\n",
    "#     test_x, test_y,\n",
    "#     batch_size=len(test_x)\n",
    "# )\n",
    "# ################################################################\n"
   ]
  },
  {
   "cell_type": "code",
   "execution_count": 15,
   "id": "dbaa2d14",
   "metadata": {},
   "outputs": [],
   "source": [
    "# plt.plot(acc, label='train acc., best: {:.3f}'.format(max(acc)))\n",
    "# plt.plot(val_acc, label='validation acc. best: {:.3f}'.format(max(val_acc)))\n",
    "# plt.title('normal SGD, eta={}, {} epochs'.format(eta, n_eph))\n",
    "# plt.axvline(x=np.argmax(val_acc), c='r', ls=':', label='best epoch: {}'.format(np.argmax(val_acc)))\n",
    "# plt.axhline(y=test_data_accuracy, c='r', label='test data accuracy at best epoch: {:.3f}'.format(test_data_accuracy))\n",
    "# plt.legend()\n",
    "# plt.show()\n",
    "\n",
    "# from winsound import Beep\n",
    "# Beep(1000, 100)"
   ]
  },
  {
   "cell_type": "code",
   "execution_count": null,
   "id": "ac7b2df5",
   "metadata": {},
   "outputs": [],
   "source": []
  },
  {
   "cell_type": "code",
   "execution_count": null,
   "id": "2a485bb7",
   "metadata": {},
   "outputs": [],
   "source": []
  },
  {
   "cell_type": "markdown",
   "id": "52d46730",
   "metadata": {},
   "source": [
    "<h1>Trying Implementing 100-node 1 layer softmax using TF, following the example in M. Nielsen, Chapter 6</h1>\t\n",
    "network3.py\n",
    "https://github.com/mnielsen/neural-networks-and-deep-learning/blob/master/src/network3.py"
   ]
  },
  {
   "cell_type": "code",
   "execution_count": 16,
   "id": "50799a88",
   "metadata": {
    "scrolled": true
   },
   "outputs": [
    {
     "name": "stdout",
     "output_type": "stream",
     "text": [
      "Epoch 1/60\n",
      "5000/5000 [==============================] - 6s 1ms/step - loss: 0.5392 - accuracy: 0.8337 - val_loss: 0.3507 - val_accuracy: 0.8922\n",
      "Epoch 2/60\n",
      "5000/5000 [==============================] - 6s 1ms/step - loss: 0.3466 - accuracy: 0.8950 - val_loss: 0.3033 - val_accuracy: 0.9091\n",
      "Epoch 3/60\n",
      "5000/5000 [==============================] - 6s 1ms/step - loss: 0.2917 - accuracy: 0.9113 - val_loss: 0.2684 - val_accuracy: 0.9188\n",
      "Epoch 4/60\n",
      "5000/5000 [==============================] - 6s 1ms/step - loss: 0.2564 - accuracy: 0.9219 - val_loss: 0.2630 - val_accuracy: 0.9226\n",
      "Epoch 5/60\n",
      "5000/5000 [==============================] - 7s 1ms/step - loss: 0.2300 - accuracy: 0.9298 - val_loss: 0.2408 - val_accuracy: 0.9282\n",
      "Epoch 6/60\n",
      "5000/5000 [==============================] - 6s 1ms/step - loss: 0.2093 - accuracy: 0.9364 - val_loss: 0.2232 - val_accuracy: 0.9332\n",
      "Epoch 7/60\n",
      "5000/5000 [==============================] - 6s 1ms/step - loss: 0.1914 - accuracy: 0.9418 - val_loss: 0.2133 - val_accuracy: 0.9369\n",
      "Epoch 8/60\n",
      "5000/5000 [==============================] - 7s 1ms/step - loss: 0.1770 - accuracy: 0.9459 - val_loss: 0.2191 - val_accuracy: 0.9368\n",
      "Epoch 9/60\n",
      "5000/5000 [==============================] - 6s 1ms/step - loss: 0.1656 - accuracy: 0.9493 - val_loss: 0.1995 - val_accuracy: 0.9422\n",
      "Epoch 10/60\n",
      "5000/5000 [==============================] - 7s 1ms/step - loss: 0.1549 - accuracy: 0.9522 - val_loss: 0.1945 - val_accuracy: 0.9424\n",
      "Epoch 11/60\n",
      "5000/5000 [==============================] - 6s 1ms/step - loss: 0.1442 - accuracy: 0.9566 - val_loss: 0.1927 - val_accuracy: 0.9451\n",
      "Epoch 12/60\n",
      "5000/5000 [==============================] - 7s 1ms/step - loss: 0.1365 - accuracy: 0.9577 - val_loss: 0.1923 - val_accuracy: 0.9455\n",
      "Epoch 13/60\n",
      "5000/5000 [==============================] - 7s 1ms/step - loss: 0.1277 - accuracy: 0.9614 - val_loss: 0.1883 - val_accuracy: 0.9462\n",
      "Epoch 14/60\n",
      "5000/5000 [==============================] - 7s 1ms/step - loss: 0.1210 - accuracy: 0.9627 - val_loss: 0.1826 - val_accuracy: 0.9476s: 0.1206 - accuracy: 0.\n",
      "Epoch 15/60\n",
      "5000/5000 [==============================] - 7s 1ms/step - loss: 0.1148 - accuracy: 0.9653 - val_loss: 0.1886 - val_accuracy: 0.9479\n",
      "Epoch 16/60\n",
      "5000/5000 [==============================] - 7s 1ms/step - loss: 0.1078 - accuracy: 0.9674 - val_loss: 0.1865 - val_accuracy: 0.9465\n",
      "Epoch 17/60\n",
      "5000/5000 [==============================] - 6s 1ms/step - loss: 0.1020 - accuracy: 0.9694 - val_loss: 0.1794 - val_accuracy: 0.9502\n",
      "Epoch 18/60\n",
      "5000/5000 [==============================] - 7s 1ms/step - loss: 0.0968 - accuracy: 0.9704 - val_loss: 0.1808 - val_accuracy: 0.9501\n",
      "Epoch 19/60\n",
      "5000/5000 [==============================] - 7s 1ms/step - loss: 0.0921 - accuracy: 0.9722 - val_loss: 0.1787 - val_accuracy: 0.9503\n",
      "Epoch 20/60\n",
      "5000/5000 [==============================] - 7s 1ms/step - loss: 0.0878 - accuracy: 0.9735 - val_loss: 0.1749 - val_accuracy: 0.9525\n",
      "Epoch 21/60\n",
      "5000/5000 [==============================] - 7s 1ms/step - loss: 0.0832 - accuracy: 0.9752 - val_loss: 0.1788 - val_accuracy: 0.9509\n",
      "Epoch 22/60\n",
      "5000/5000 [==============================] - 7s 1ms/step - loss: 0.0796 - accuracy: 0.9765 - val_loss: 0.1783 - val_accuracy: 0.9525\n",
      "Epoch 23/60\n",
      "5000/5000 [==============================] - 6s 1ms/step - loss: 0.0756 - accuracy: 0.9778 - val_loss: 0.1760 - val_accuracy: 0.9520\n",
      "Epoch 24/60\n",
      "5000/5000 [==============================] - 6s 1ms/step - loss: 0.0720 - accuracy: 0.9796 - val_loss: 0.1737 - val_accuracy: 0.9525\n",
      "Epoch 25/60\n",
      "5000/5000 [==============================] - 6s 1ms/step - loss: 0.0686 - accuracy: 0.9803 - val_loss: 0.1770 - val_accuracy: 0.9535\n",
      "Epoch 26/60\n",
      "5000/5000 [==============================] - 7s 1ms/step - loss: 0.0654 - accuracy: 0.9810 - val_loss: 0.1775 - val_accuracy: 0.9532 - loss: 0.0650 - \n",
      "Epoch 27/60\n",
      "5000/5000 [==============================] - 6s 1ms/step - loss: 0.0626 - accuracy: 0.9823 - val_loss: 0.1798 - val_accuracy: 0.9512\n",
      "Epoch 28/60\n",
      "5000/5000 [==============================] - 6s 1ms/step - loss: 0.0592 - accuracy: 0.9835 - val_loss: 0.1799 - val_accuracy: 0.9522\n",
      "Epoch 29/60\n",
      "5000/5000 [==============================] - 7s 1ms/step - loss: 0.0563 - accuracy: 0.9846 - val_loss: 0.1779 - val_accuracy: 0.9532\n",
      "Epoch 30/60\n",
      "5000/5000 [==============================] - 6s 1ms/step - loss: 0.0539 - accuracy: 0.9853 - val_loss: 0.1772 - val_accuracy: 0.9528\n",
      "Epoch 31/60\n",
      "5000/5000 [==============================] - 7s 1ms/step - loss: 0.0513 - accuracy: 0.9862 - val_loss: 0.1768 - val_accuracy: 0.9529\n",
      "Epoch 32/60\n",
      "5000/5000 [==============================] - 7s 1ms/step - loss: 0.0491 - accuracy: 0.9871 - val_loss: 0.1780 - val_accuracy: 0.9540\n",
      "Epoch 33/60\n",
      "5000/5000 [==============================] - 7s 1ms/step - loss: 0.0464 - accuracy: 0.9880 - val_loss: 0.1757 - val_accuracy: 0.9534\n",
      "Epoch 34/60\n",
      "5000/5000 [==============================] - 7s 1ms/step - loss: 0.0445 - accuracy: 0.9886 - val_loss: 0.1780 - val_accuracy: 0.9540\n",
      "Epoch 35/60\n",
      "5000/5000 [==============================] - 6s 1ms/step - loss: 0.0424 - accuracy: 0.9897 - val_loss: 0.1800 - val_accuracy: 0.9533\n",
      "Epoch 36/60\n",
      "5000/5000 [==============================] - 7s 1ms/step - loss: 0.0405 - accuracy: 0.9899 - val_loss: 0.1811 - val_accuracy: 0.9550\n",
      "Epoch 37/60\n",
      "5000/5000 [==============================] - 7s 1ms/step - loss: 0.0386 - accuracy: 0.9910 - val_loss: 0.1809 - val_accuracy: 0.9534\n",
      "Epoch 38/60\n",
      "5000/5000 [==============================] - 7s 1ms/step - loss: 0.0368 - accuracy: 0.9915 - val_loss: 0.1807 - val_accuracy: 0.9534\n",
      "Epoch 39/60\n",
      "5000/5000 [==============================] - 6s 1ms/step - loss: 0.0353 - accuracy: 0.9918 - val_loss: 0.1818 - val_accuracy: 0.9530\n",
      "Epoch 40/60\n",
      "5000/5000 [==============================] - 6s 1ms/step - loss: 0.0336 - accuracy: 0.9927 - val_loss: 0.1831 - val_accuracy: 0.9540\n",
      "Epoch 41/60\n",
      "5000/5000 [==============================] - 6s 1ms/step - loss: 0.0321 - accuracy: 0.9929 - val_loss: 0.1840 - val_accuracy: 0.9545\n",
      "Epoch 42/60\n",
      "5000/5000 [==============================] - 6s 1ms/step - loss: 0.0304 - accuracy: 0.9937 - val_loss: 0.1837 - val_accuracy: 0.9526\n",
      "Epoch 43/60\n",
      "5000/5000 [==============================] - 6s 1ms/step - loss: 0.0291 - accuracy: 0.9941 - val_loss: 0.1836 - val_accuracy: 0.9548\n",
      "Epoch 44/60\n",
      "5000/5000 [==============================] - 6s 1ms/step - loss: 0.0282 - accuracy: 0.9943 - val_loss: 0.1865 - val_accuracy: 0.9540\n",
      "Epoch 45/60\n",
      "5000/5000 [==============================] - 6s 1ms/step - loss: 0.0267 - accuracy: 0.9951 - val_loss: 0.1846 - val_accuracy: 0.9539\n",
      "Epoch 46/60\n",
      "5000/5000 [==============================] - 6s 1ms/step - loss: 0.0255 - accuracy: 0.9952 - val_loss: 0.1892 - val_accuracy: 0.9543\n",
      "Epoch 47/60\n",
      "5000/5000 [==============================] - 6s 1ms/step - loss: 0.0244 - accuracy: 0.9954 - val_loss: 0.1881 - val_accuracy: 0.9544\n",
      "Epoch 48/60\n",
      "5000/5000 [==============================] - 6s 1ms/step - loss: 0.0235 - accuracy: 0.9958 - val_loss: 0.1893 - val_accuracy: 0.9543\n",
      "Epoch 49/60\n",
      "5000/5000 [==============================] - 6s 1ms/step - loss: 0.0224 - accuracy: 0.9963 - val_loss: 0.1908 - val_accuracy: 0.9540\n",
      "Epoch 50/60\n",
      "5000/5000 [==============================] - 6s 1ms/step - loss: 0.0214 - accuracy: 0.9967 - val_loss: 0.1906 - val_accuracy: 0.9547\n",
      "Epoch 51/60\n",
      "5000/5000 [==============================] - 6s 1ms/step - loss: 0.0204 - accuracy: 0.9971 - val_loss: 0.1915 - val_accuracy: 0.9550\n",
      "Epoch 52/60\n",
      "5000/5000 [==============================] - 6s 1ms/step - loss: 0.0197 - accuracy: 0.9972 - val_loss: 0.1923 - val_accuracy: 0.9558\n",
      "Epoch 53/60\n",
      "5000/5000 [==============================] - 7s 1ms/step - loss: 0.0188 - accuracy: 0.9974 - val_loss: 0.1949 - val_accuracy: 0.9543\n",
      "Epoch 54/60\n",
      "5000/5000 [==============================] - 6s 1ms/step - loss: 0.0181 - accuracy: 0.9976 - val_loss: 0.1937 - val_accuracy: 0.9557\n",
      "Epoch 55/60\n",
      "5000/5000 [==============================] - 6s 1ms/step - loss: 0.0173 - accuracy: 0.9979 - val_loss: 0.1945 - val_accuracy: 0.9545\n",
      "Epoch 56/60\n",
      "5000/5000 [==============================] - 6s 1ms/step - loss: 0.0166 - accuracy: 0.9980 - val_loss: 0.1954 - val_accuracy: 0.9554\n",
      "Epoch 57/60\n"
     ]
    },
    {
     "name": "stdout",
     "output_type": "stream",
     "text": [
      "5000/5000 [==============================] - 6s 1ms/step - loss: 0.0159 - accuracy: 0.9983 - val_loss: 0.1961 - val_accuracy: 0.9551\n",
      "Epoch 58/60\n",
      "5000/5000 [==============================] - 6s 1ms/step - loss: 0.0154 - accuracy: 0.9983 - val_loss: 0.1967 - val_accuracy: 0.9560\n",
      "Epoch 59/60\n",
      "5000/5000 [==============================] - 6s 1ms/step - loss: 0.0148 - accuracy: 0.9984 - val_loss: 0.1975 - val_accuracy: 0.9554\n",
      "Epoch 60/60\n",
      "5000/5000 [==============================] - 6s 1ms/step - loss: 0.0142 - accuracy: 0.9987 - val_loss: 0.1971 - val_accuracy: 0.9553\n",
      "1/1 [==============================] - 0s 112ms/step - loss: 0.1823 - accuracy: 0.9553\n"
     ]
    }
   ],
   "source": [
    "################################################################\n",
    "#   normal SGD method w. softmax as described in chapter 6\n",
    "################################################################\n",
    "tf.random.set_seed(42)\n",
    "################################################################\n",
    "#    define model\n",
    "\n",
    "# initializer = tf.keras.initializers.VarianceScaling(\n",
    "# scale=0.1, mode='fan_in', distribution='uniform')\n",
    "# layer = tf.keras.layers.Dense(3, kernel_initializer=initializer)\n",
    "\n",
    "# I didn't notice any special weight initialization method in M. Nielsen's Network3.py,\n",
    "# so I will just assume normal(0,1)\n",
    "\n",
    "\n",
    "model = tf.keras.models.Sequential()\n",
    "model.add(tf.keras.layers.Flatten(input_shape=(28, 28)))\n",
    "model.add(tf.keras.layers.Dense(\n",
    "            100, \n",
    "            activation=tf.nn.sigmoid,\n",
    "            kernel_initializer=tf.keras.initializers.RandomNormal(stddev=1.0),\n",
    "            bias_initializer=tf.keras.initializers.RandomNormal(stddev=1.0)\n",
    "            )\n",
    ")\n",
    "model.add(tf.keras.layers.Dense(10, activation=tf.keras.activations.softmax))\n",
    "\n",
    "\n",
    "\n",
    "\n",
    "n_eph = 60\n",
    "eta = 0.1\n",
    "\n",
    "loss_fn = tf.keras.losses.SparseCategoricalCrossentropy()\n",
    "# loss_fn = tf.keras.losses.MeanSquaredError()\n",
    "\n",
    "\n",
    "\n",
    "model.compile(\n",
    "    optimizer=tf.keras.optimizers.SGD(\n",
    "        learning_rate=eta,\n",
    "        momentum=0.0,\n",
    "        nesterov=False,\n",
    "        name=\"SGD\"),\n",
    "    loss=loss_fn,\n",
    "    metrics=['accuracy'])\n",
    "################################################################\n",
    "\n",
    "\n",
    "################################################################\n",
    "# save the model when val_acc is best\n",
    "checkpoint_filepath = r'C:\\Users\\mchen\\OneDrive\\桌面\\ml\\code\\tutorial\\chapter3\\20211122\\simple_sgd_model'\n",
    "\n",
    "model_checkpoint_callback = tf.keras.callbacks.ModelCheckpoint(\n",
    "    filepath=checkpoint_filepath,\n",
    "    save_weights_only=True,\n",
    "    monitor='val_accuracy',\n",
    "    mode='max',\n",
    "    save_best_only=True)\n",
    "################################################################\n",
    "\n",
    "\n",
    "\n",
    "\n",
    "################################################################\n",
    "#    train model  (how do i randomize mini_batches?)\n",
    "batch_size = 10\n",
    "\n",
    "history = model.fit(\n",
    "    train_x, train_y, \n",
    "    epochs=n_eph,\n",
    "    batch_size=batch_size,\n",
    "    validation_data=(val_x, val_y),\n",
    "    callbacks=[model_checkpoint_callback],\n",
    "    shuffle=True\n",
    ")\n",
    "\n",
    "acc = history.history['accuracy']\n",
    "loss = history.history['loss']\n",
    "val_acc = history.history['val_accuracy']\n",
    "val_loss = history.history['val_loss']\n",
    "################################################################\n",
    "\n",
    "\n",
    "################################################################\n",
    "#    load the weights for the best epoch (best val accuracy)\n",
    "model.load_weights(checkpoint_filepath)\n",
    "################################################################\n",
    "\n",
    "################################################################\n",
    "#    evaluate test data at the best epoch\n",
    "[test_data_loss, test_data_accuracy] = model.evaluate(\n",
    "    test_x, test_y,\n",
    "    batch_size=len(test_x)\n",
    ")\n",
    "################################################################\n"
   ]
  },
  {
   "cell_type": "code",
   "execution_count": 17,
   "id": "9378bd52",
   "metadata": {},
   "outputs": [
    {
     "data": {
      "image/png": "[encoded data removed]",
      "text/plain": [
       "<Figure size 432x288 with 1 Axes>"
      ]
     },
     "metadata": {
      "needs_background": "light"
     },
     "output_type": "display_data"
    }
   ],
   "source": [
    "plt.plot(acc, label='train acc., best: {:.3f}'.format(max(acc)))\n",
    "plt.plot(val_acc, label='validation acc. best: {:.3f}'.format(max(val_acc)))\n",
    "plt.title('softmax SGD, 1 hidden layer, 100 nodes, eta={}, {} epochs'.format(eta, n_eph))\n",
    "plt.axvline(x=np.argmax(val_acc), c='r', ls=':', label='best epoch: {}'.format(np.argmax(val_acc)))\n",
    "plt.axhline(y=test_data_accuracy, c='r', label='test data accuracy at best epoch: {:.3f}'.format(test_data_accuracy))\n",
    "plt.legend()\n",
    "plt.show()\n",
    "\n",
    "from winsound import Beep\n",
    "Beep(1000, 100)"
   ]
  },
  {
   "cell_type": "markdown",
   "id": "363a2bf9",
   "metadata": {},
   "source": [
    "<h1>M. Nielsen got a max test accuracy of 97.8%. Here following the same network I got a max test accuracy of 95.5%. </h1>"
   ]
  },
  {
   "cell_type": "code",
   "execution_count": null,
   "id": "851ae9e9",
   "metadata": {},
   "outputs": [],
   "source": []
  }
 ],
 "metadata": {
  "kernelspec": {
   "display_name": "Python 3",
   "language": "python",
   "name": "python3"
  },
  "language_info": {
   "codemirror_mode": {
    "name": "ipython",
    "version": 3
   },
   "file_extension": ".py",
   "mimetype": "text/x-python",
   "name": "python",
   "nbconvert_exporter": "python",
   "pygments_lexer": "ipython3",
   "version": "3.6.8"
  }
 },
 "nbformat": 4,
 "nbformat_minor": 5
}
