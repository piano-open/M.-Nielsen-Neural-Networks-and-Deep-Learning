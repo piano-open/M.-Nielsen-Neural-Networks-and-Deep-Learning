{
 "cells": [
  {
   "cell_type": "markdown",
   "id": "9cdefe56",
   "metadata": {},
   "source": [
    "<h1>M. Nielsen, Chapter 6, 100-node 1 layer softmax</h1>"
   ]
  },
  {
   "cell_type": "code",
   "execution_count": 3,
   "id": "80f03fd8",
   "metadata": {},
   "outputs": [
    {
     "data": {
      "text/html": [
       "<style>.container { width:100% !important; }</style>"
      ],
      "text/plain": [
       "<IPython.core.display.HTML object>"
      ]
     },
     "metadata": {},
     "output_type": "display_data"
    }
   ],
   "source": [
    "from IPython.core.display import display, HTML\n",
    "display(HTML(\"<style>.container { width:100% !important; }</style>\"))"
   ]
  },
  {
   "cell_type": "code",
   "execution_count": 5,
   "id": "f41fb54e",
   "metadata": {},
   "outputs": [],
   "source": [
    "import os\n",
    "import numpy as np\n",
    "import time\n",
    "import random\n",
    "import tensorflow as tf"
   ]
  },
  {
   "cell_type": "code",
   "execution_count": 7,
   "id": "a66d1ec7",
   "metadata": {},
   "outputs": [],
   "source": [
    "from matplotlib import pyplot as plt"
   ]
  },
  {
   "cell_type": "code",
   "execution_count": 9,
   "id": "288c3614",
   "metadata": {},
   "outputs": [],
   "source": [
    "os.chdir(r\"C:\\Users\\mchen\\OneDrive\\桌面\\ml\\code\\tutorial\\chapter3\\20211119\\multi_layer\")"
   ]
  },
  {
   "cell_type": "code",
   "execution_count": 11,
   "id": "23658ba4",
   "metadata": {},
   "outputs": [],
   "source": [
    "import mnist_loader\n",
    "training_data, validation_data, test_data = mnist_loader.load_data_wrapper()"
   ]
  },
  {
   "cell_type": "markdown",
   "id": "f50908c0",
   "metadata": {},
   "source": [
    "<h1>load data</h1>"
   ]
  },
  {
   "cell_type": "code",
   "execution_count": 13,
   "id": "83beedea",
   "metadata": {},
   "outputs": [
    {
     "name": "stdout",
     "output_type": "stream",
     "text": [
      "(50000, 28, 28)\n",
      "(10000, 28, 28)\n",
      "(10000, 28, 28)\n"
     ]
    }
   ],
   "source": [
    "###############################################\n",
    "#    load data from local directory\n",
    "###############################################\n",
    "\n",
    "train_x, train_y, val_x, val_y, test_x, test_y = [], [], [], [], [], []\n",
    "\n",
    "training_data, validation_data, test_data = mnist_loader.load_data_wrapper()\n",
    "\n",
    "for tra in training_data:\n",
    "    img_tra_x = tra[0].reshape(28,28).tolist()\n",
    "    img_tra_y = np.array(np.argmax(tra[1]), dtype=np.uint8)\n",
    "    train_x.append(img_tra_x)\n",
    "    train_y.append(img_tra_y)\n",
    "print(np.shape(train_x))\n",
    "\n",
    "for val in validation_data:\n",
    "    img_val_x = val[0].reshape(28,28)\n",
    "#     img_val_y = np.array(np.argmax(val[1]), dtype=np.uint8)\n",
    "    img_val_y = np.array(val[1], dtype=np.uint8)\n",
    "    val_x.append(img_val_x)\n",
    "    val_y.append(img_val_y)\n",
    "print(np.shape(val_x))\n",
    "\n",
    "for tes in test_data:\n",
    "    img_tes_x = tes[0].reshape(28,28)\n",
    "    img_tes_y = np.array(tes[1], dtype=np.uint8)\n",
    "    test_x.append(img_tes_x)\n",
    "    test_y.append(img_tes_y)\n",
    "print(np.shape(test_x))\n",
    "\n",
    "\n",
    "train_x = np.array(train_x)\n",
    "val_x = np.array(val_x)\n",
    "test_x = np.array(test_x)\n",
    "\n",
    "train_y = np.array(train_y)\n",
    "val_y = np.array(val_y)\n",
    "test_y = np.array(test_y)"
   ]
  },
  {
   "cell_type": "code",
   "execution_count": 15,
   "id": "a6195c4c",
   "metadata": {},
   "outputs": [],
   "source": [
    "# ###############################################\n",
    "# #    checking data format:\n",
    "# ###############################################\n",
    "# plt.imshow(train_x[0], interpolation='none')\n",
    "# plt.show()\n",
    "# print('img label:', train_y[0])\n",
    "\n",
    "# plt.imshow(val_x[0], interpolation='none')\n",
    "# plt.show()\n",
    "# print('img label:', val_y[0])\n",
    "\n",
    "# plt.imshow(test_x[0], interpolation='none')\n",
    "# plt.show()\n",
    "# print('img label:', test_y[0])\n"
   ]
  },
  {
   "cell_type": "markdown",
   "id": "52d46730",
   "metadata": {},
   "source": [
    "<h1>Trying Implementing 100-node 1 layer softmax using TF, following the example in M. Nielsen, Chapter 6</h1>\t\n",
    "network3.py\n",
    "https://github.com/mnielsen/neural-networks-and-deep-learning/blob/master/src/network3.py"
   ]
  },
  {
   "cell_type": "markdown",
   "id": "3c79b7ed",
   "metadata": {},
   "source": [
    "<h2>build the model</h2>"
   ]
  },
  {
   "cell_type": "code",
   "execution_count": 16,
   "id": "50799a88",
   "metadata": {
    "scrolled": true
   },
   "outputs": [
    {
     "name": "stdout",
     "output_type": "stream",
     "text": [
      "Model: \"sequential\"\n",
      "_________________________________________________________________\n",
      "Layer (type)                 Output Shape              Param #   \n",
      "=================================================================\n",
      "flatten (Flatten)            (None, 784)               0         \n",
      "_________________________________________________________________\n",
      "dense (Dense)                (None, 100)               78500     \n",
      "_________________________________________________________________\n",
      "dense_1 (Dense)              (None, 10)                1010      \n",
      "=================================================================\n",
      "Total params: 79,510\n",
      "Trainable params: 79,510\n",
      "Non-trainable params: 0\n",
      "_________________________________________________________________\n"
     ]
    }
   ],
   "source": [
    "################################################################\n",
    "#   normal SGD method w. softmax as described in chapter 6\n",
    "################################################################\n",
    "tf.random.set_seed(42)\n",
    "################################################################\n",
    "#    define model\n",
    "# I didn't notice any special weight initialization method in M. Nielsen's Network3.py,\n",
    "# so I will just assume normal(0,1)\n",
    "\n",
    "model = tf.keras.models.Sequential()\n",
    "model.add(tf.keras.layers.Flatten(input_shape=(28, 28)))\n",
    "model.add(tf.keras.layers.Dense(\n",
    "                100, \n",
    "                activation=tf.nn.sigmoid,\n",
    "                kernel_initializer=tf.keras.initializers.RandomNormal(\n",
    "                    stddev=1.0\n",
    "                ),\n",
    "                bias_initializer=tf.keras.initializers.RandomNormal(\n",
    "                    stddev=1.0\n",
    "                )\n",
    "            )\n",
    ")\n",
    "model.add(tf.keras.layers.Dense(\n",
    "                10,\n",
    "                activation=tf.keras.activations.softmax\n",
    "            )\n",
    ")\n",
    "\n",
    "################################################################\n",
    "eta = 0.1\n",
    "\n",
    "loss_fn = tf.keras.losses.SparseCategoricalCrossentropy()\n",
    "\n",
    "model.compile(\n",
    "    optimizer=tf.keras.optimizers.SGD(\n",
    "        learning_rate=eta,\n",
    "        momentum=0.0,\n",
    "        nesterov=False,\n",
    "        name=\"SGD\"),\n",
    "    loss=loss_fn,\n",
    "    metrics=['accuracy'])\n",
    "################################################################\n",
    "model.summary()\n"
   ]
  },
  {
   "cell_type": "markdown",
   "id": "1c5c7be2",
   "metadata": {},
   "source": [
    "<h2>train the model</h2>"
   ]
  },
  {
   "cell_type": "code",
   "execution_count": 17,
   "id": "07b00b8e",
   "metadata": {
    "scrolled": true
   },
   "outputs": [
    {
     "name": "stdout",
     "output_type": "stream",
     "text": [
      "Epoch 1/60\n",
      "5000/5000 [==============================] - 6s 1ms/step - loss: 0.5392 - accuracy: 0.8337 - val_loss: 0.3507 - val_accuracy: 0.8922\n",
      "Epoch 2/60\n",
      "5000/5000 [==============================] - 6s 1ms/step - loss: 0.3466 - accuracy: 0.8950 - val_loss: 0.3033 - val_accuracy: 0.9091\n",
      "Epoch 3/60\n",
      "5000/5000 [==============================] - 6s 1ms/step - loss: 0.2917 - accuracy: 0.9113 - val_loss: 0.2684 - val_accuracy: 0.9188\n",
      "Epoch 4/60\n",
      "5000/5000 [==============================] - 6s 1ms/step - loss: 0.2564 - accuracy: 0.9219 - val_loss: 0.2630 - val_accuracy: 0.9226\n",
      "Epoch 5/60\n",
      "5000/5000 [==============================] - 5s 1ms/step - loss: 0.2300 - accuracy: 0.9298 - val_loss: 0.2408 - val_accuracy: 0.9282\n",
      "Epoch 6/60\n",
      "5000/5000 [==============================] - 6s 1ms/step - loss: 0.2093 - accuracy: 0.9364 - val_loss: 0.2232 - val_accuracy: 0.9332\n",
      "Epoch 7/60\n",
      "5000/5000 [==============================] - 6s 1ms/step - loss: 0.1914 - accuracy: 0.9418 - val_loss: 0.2133 - val_accuracy: 0.9369\n",
      "Epoch 8/60\n",
      "5000/5000 [==============================] - 6s 1ms/step - loss: 0.1770 - accuracy: 0.9459 - val_loss: 0.2191 - val_accuracy: 0.9368\n",
      "Epoch 9/60\n",
      "5000/5000 [==============================] - 6s 1ms/step - loss: 0.1656 - accuracy: 0.9493 - val_loss: 0.1995 - val_accuracy: 0.9422\n",
      "Epoch 10/60\n",
      "5000/5000 [==============================] - 6s 1ms/step - loss: 0.1549 - accuracy: 0.9522 - val_loss: 0.1945 - val_accuracy: 0.9424\n",
      "Epoch 11/60\n",
      "5000/5000 [==============================] - 6s 1ms/step - loss: 0.1442 - accuracy: 0.9566 - val_loss: 0.1927 - val_accuracy: 0.9451\n",
      "Epoch 12/60\n",
      "5000/5000 [==============================] - 6s 1ms/step - loss: 0.1365 - accuracy: 0.9577 - val_loss: 0.1923 - val_accuracy: 0.9455\n",
      "Epoch 13/60\n",
      "5000/5000 [==============================] - 6s 1ms/step - loss: 0.1277 - accuracy: 0.9614 - val_loss: 0.1883 - val_accuracy: 0.9462\n",
      "Epoch 14/60\n",
      "5000/5000 [==============================] - 6s 1ms/step - loss: 0.1210 - accuracy: 0.9627 - val_loss: 0.1826 - val_accuracy: 0.9476\n",
      "Epoch 15/60\n",
      "5000/5000 [==============================] - 6s 1ms/step - loss: 0.1148 - accuracy: 0.9653 - val_loss: 0.1886 - val_accuracy: 0.9479\n",
      "Epoch 16/60\n",
      "5000/5000 [==============================] - 6s 1ms/step - loss: 0.1078 - accuracy: 0.9674 - val_loss: 0.1865 - val_accuracy: 0.9465\n",
      "Epoch 17/60\n",
      "5000/5000 [==============================] - 5s 1ms/step - loss: 0.1020 - accuracy: 0.9694 - val_loss: 0.1794 - val_accuracy: 0.9502\n",
      "Epoch 18/60\n",
      "5000/5000 [==============================] - 6s 1ms/step - loss: 0.0968 - accuracy: 0.9704 - val_loss: 0.1808 - val_accuracy: 0.9501\n",
      "Epoch 19/60\n",
      "5000/5000 [==============================] - 6s 1ms/step - loss: 0.0921 - accuracy: 0.9722 - val_loss: 0.1787 - val_accuracy: 0.9503os\n",
      "Epoch 20/60\n",
      "5000/5000 [==============================] - 6s 1ms/step - loss: 0.0878 - accuracy: 0.9735 - val_loss: 0.1749 - val_accuracy: 0.9525\n",
      "Epoch 21/60\n",
      "5000/5000 [==============================] - 6s 1ms/step - loss: 0.0832 - accuracy: 0.9752 - val_loss: 0.1788 - val_accuracy: 0.9509\n",
      "Epoch 22/60\n",
      "5000/5000 [==============================] - 6s 1ms/step - loss: 0.0796 - accuracy: 0.9765 - val_loss: 0.1783 - val_accuracy: 0.9525\n",
      "Epoch 23/60\n",
      "5000/5000 [==============================] - 5s 1ms/step - loss: 0.0756 - accuracy: 0.9778 - val_loss: 0.1760 - val_accuracy: 0.9520\n",
      "Epoch 24/60\n",
      "5000/5000 [==============================] - 6s 1ms/step - loss: 0.0720 - accuracy: 0.9796 - val_loss: 0.1737 - val_accuracy: 0.9525\n",
      "Epoch 25/60\n",
      "5000/5000 [==============================] - 6s 1ms/step - loss: 0.0686 - accuracy: 0.9803 - val_loss: 0.1770 - val_accuracy: 0.9535\n",
      "Epoch 26/60\n",
      "5000/5000 [==============================] - 6s 1ms/step - loss: 0.0654 - accuracy: 0.9810 - val_loss: 0.1775 - val_accuracy: 0.9532\n",
      "Epoch 27/60\n",
      "5000/5000 [==============================] - 5s 1ms/step - loss: 0.0626 - accuracy: 0.9823 - val_loss: 0.1798 - val_accuracy: 0.9512\n",
      "Epoch 28/60\n",
      "5000/5000 [==============================] - 5s 1ms/step - loss: 0.0592 - accuracy: 0.9835 - val_loss: 0.1799 - val_accuracy: 0.9522\n",
      "Epoch 29/60\n",
      "5000/5000 [==============================] - 5s 1ms/step - loss: 0.0563 - accuracy: 0.9846 - val_loss: 0.1779 - val_accuracy: 0.9532\n",
      "Epoch 30/60\n",
      "5000/5000 [==============================] - 5s 1ms/step - loss: 0.0539 - accuracy: 0.9853 - val_loss: 0.1772 - val_accuracy: 0.9528\n",
      "Epoch 31/60\n",
      "5000/5000 [==============================] - 6s 1ms/step - loss: 0.0513 - accuracy: 0.9862 - val_loss: 0.1768 - val_accuracy: 0.9529\n",
      "Epoch 32/60\n",
      "5000/5000 [==============================] - 5s 1ms/step - loss: 0.0491 - accuracy: 0.9871 - val_loss: 0.1780 - val_accuracy: 0.9540\n",
      "Epoch 33/60\n",
      "5000/5000 [==============================] - 6s 1ms/step - loss: 0.0464 - accuracy: 0.9880 - val_loss: 0.1757 - val_accuracy: 0.9534\n",
      "Epoch 34/60\n",
      "5000/5000 [==============================] - 5s 1ms/step - loss: 0.0445 - accuracy: 0.9886 - val_loss: 0.1780 - val_accuracy: 0.9540\n",
      "Epoch 35/60\n",
      "5000/5000 [==============================] - 5s 1ms/step - loss: 0.0424 - accuracy: 0.9897 - val_loss: 0.1800 - val_accuracy: 0.9533\n",
      "Epoch 36/60\n",
      "5000/5000 [==============================] - 6s 1ms/step - loss: 0.0405 - accuracy: 0.9899 - val_loss: 0.1811 - val_accuracy: 0.9550\n",
      "Epoch 37/60\n",
      "5000/5000 [==============================] - 6s 1ms/step - loss: 0.0386 - accuracy: 0.9910 - val_loss: 0.1809 - val_accuracy: 0.9534\n",
      "Epoch 38/60\n",
      "5000/5000 [==============================] - 5s 1ms/step - loss: 0.0368 - accuracy: 0.9915 - val_loss: 0.1807 - val_accuracy: 0.9534\n",
      "Epoch 39/60\n",
      "5000/5000 [==============================] - 5s 1ms/step - loss: 0.0353 - accuracy: 0.9918 - val_loss: 0.1818 - val_accuracy: 0.9530\n",
      "Epoch 40/60\n",
      "5000/5000 [==============================] - 6s 1ms/step - loss: 0.0336 - accuracy: 0.9927 - val_loss: 0.1831 - val_accuracy: 0.9540\n",
      "Epoch 41/60\n",
      "5000/5000 [==============================] - 6s 1ms/step - loss: 0.0321 - accuracy: 0.9929 - val_loss: 0.1840 - val_accuracy: 0.9545\n",
      "Epoch 42/60\n",
      "5000/5000 [==============================] - 6s 1ms/step - loss: 0.0304 - accuracy: 0.9937 - val_loss: 0.1837 - val_accuracy: 0.9526\n",
      "Epoch 43/60\n",
      "5000/5000 [==============================] - 5s 1ms/step - loss: 0.0291 - accuracy: 0.9941 - val_loss: 0.1836 - val_accuracy: 0.9548\n",
      "Epoch 44/60\n",
      "5000/5000 [==============================] - 6s 1ms/step - loss: 0.0282 - accuracy: 0.9943 - val_loss: 0.1865 - val_accuracy: 0.9540\n",
      "Epoch 45/60\n",
      "5000/5000 [==============================] - 6s 1ms/step - loss: 0.0267 - accuracy: 0.9951 - val_loss: 0.1846 - val_accuracy: 0.9539\n",
      "Epoch 46/60\n",
      "5000/5000 [==============================] - 6s 1ms/step - loss: 0.0255 - accuracy: 0.9952 - val_loss: 0.1892 - val_accuracy: 0.9543accuracy: \n",
      "Epoch 47/60\n",
      "5000/5000 [==============================] - 6s 1ms/step - loss: 0.0244 - accuracy: 0.9954 - val_loss: 0.1881 - val_accuracy: 0.9544\n",
      "Epoch 48/60\n",
      "5000/5000 [==============================] - 6s 1ms/step - loss: 0.0235 - accuracy: 0.9958 - val_loss: 0.1893 - val_accuracy: 0.9543\n",
      "Epoch 49/60\n",
      "5000/5000 [==============================] - 6s 1ms/step - loss: 0.0224 - accuracy: 0.9963 - val_loss: 0.1908 - val_accuracy: 0.9540\n",
      "Epoch 50/60\n",
      "5000/5000 [==============================] - 6s 1ms/step - loss: 0.0214 - accuracy: 0.9967 - val_loss: 0.1906 - val_accuracy: 0.9547\n",
      "Epoch 51/60\n",
      "5000/5000 [==============================] - 6s 1ms/step - loss: 0.0204 - accuracy: 0.9971 - val_loss: 0.1915 - val_accuracy: 0.9550\n",
      "Epoch 52/60\n",
      "5000/5000 [==============================] - 6s 1ms/step - loss: 0.0197 - accuracy: 0.9972 - val_loss: 0.1923 - val_accuracy: 0.9558\n",
      "Epoch 53/60\n",
      "5000/5000 [==============================] - 6s 1ms/step - loss: 0.0188 - accuracy: 0.9974 - val_loss: 0.1949 - val_accuracy: 0.9543\n",
      "Epoch 54/60\n",
      "5000/5000 [==============================] - 6s 1ms/step - loss: 0.0181 - accuracy: 0.9976 - val_loss: 0.1937 - val_accuracy: 0.9557\n",
      "Epoch 55/60\n",
      "5000/5000 [==============================] - 6s 1ms/step - loss: 0.0173 - accuracy: 0.9979 - val_loss: 0.1945 - val_accuracy: 0.9545\n",
      "Epoch 56/60\n",
      "5000/5000 [==============================] - 6s 1ms/step - loss: 0.0166 - accuracy: 0.9980 - val_loss: 0.1954 - val_accuracy: 0.9554\n",
      "Epoch 57/60\n"
     ]
    },
    {
     "name": "stdout",
     "output_type": "stream",
     "text": [
      "5000/5000 [==============================] - 6s 1ms/step - loss: 0.0159 - accuracy: 0.9983 - val_loss: 0.1961 - val_accuracy: 0.9551\n",
      "Epoch 58/60\n",
      "5000/5000 [==============================] - 6s 1ms/step - loss: 0.0154 - accuracy: 0.9983 - val_loss: 0.1967 - val_accuracy: 0.9560\n",
      "Epoch 59/60\n",
      "5000/5000 [==============================] - 6s 1ms/step - loss: 0.0148 - accuracy: 0.9984 - val_loss: 0.1975 - val_accuracy: 0.9554- accura - ETA: 0s - l\n",
      "Epoch 60/60\n",
      "5000/5000 [==============================] - 6s 1ms/step - loss: 0.0142 - accuracy: 0.9987 - val_loss: 0.1971 - val_accuracy: 0.9553\n",
      "total time: 338.85959696769714\n",
      "1/1 [==============================] - 0s 102ms/step - loss: 0.1823 - accuracy: 0.9553\n"
     ]
    }
   ],
   "source": [
    "################################################################\n",
    "# save the model when val_acc is best\n",
    "checkpoint_filepath = r'C:\\Users\\mchen\\OneDrive\\桌面\\ml\\code\\tutorial\\chapter6\\save_model\\100node_softmax\\100node_softmax'\n",
    "model_checkpoint_callback = tf.keras.callbacks.ModelCheckpoint(\n",
    "    filepath=checkpoint_filepath,\n",
    "    save_weights_only=True,\n",
    "    monitor='val_accuracy',\n",
    "    mode='max',\n",
    "    save_best_only=True\n",
    ")\n",
    "################################################################\n",
    "#    train model  (how do i randomize mini_batches?)\n",
    "batch_size = 10\n",
    "n_eph = 60\n",
    "\n",
    "ts = time.time()\n",
    "history = model.fit(\n",
    "    train_x, train_y, \n",
    "    epochs=n_eph,\n",
    "    batch_size=batch_size,\n",
    "    validation_data=(val_x, val_y),\n",
    "    callbacks=[model_checkpoint_callback],\n",
    "    shuffle=True\n",
    ")\n",
    "te = time.time()\n",
    "\n",
    "print('total time:', te - ts)\n",
    "\n",
    "\n",
    "acc = history.history['accuracy']\n",
    "loss = history.history['loss']\n",
    "val_acc = history.history['val_accuracy']\n",
    "val_loss = history.history['val_loss']\n",
    "################################################################\n",
    "\n",
    "\n",
    "################################################################\n",
    "#    load the weights for the best epoch (best val accuracy)\n",
    "model.load_weights(checkpoint_filepath)\n",
    "\n",
    "################################################################\n",
    "\n",
    "################################################################\n",
    "#    evaluate test data at the best epoch\n",
    "[test_data_loss, test_data_accuracy] = model.evaluate(\n",
    "    test_x, test_y,\n",
    "    batch_size=len(test_x)\n",
    ")\n",
    "################################################################"
   ]
  },
  {
   "cell_type": "markdown",
   "id": "7401051a",
   "metadata": {},
   "source": [
    "<h2>plot the result</h2>"
   ]
  },
  {
   "cell_type": "code",
   "execution_count": 18,
   "id": "9378bd52",
   "metadata": {},
   "outputs": [
    {
     "data": {
      "image/png": "[encoded data removed]",
      "text/plain": [
       "<Figure size 432x288 with 1 Axes>"
      ]
     },
     "metadata": {
      "needs_background": "light"
     },
     "output_type": "display_data"
    }
   ],
   "source": [
    "plt.plot(acc, label='train acc., best: {:.3f}'.format(max(acc)))\n",
    "plt.plot(val_acc, label='validation acc. best: {:.3f}'.format(max(val_acc)))\n",
    "plt.title('softmax SGD, 1 hidden layer, 100 nodes, eta={}, {} epochs'.format(eta, n_eph))\n",
    "plt.axvline(x=np.argmax(val_acc), c='r', ls=':', label='best epoch: {}'.format(np.argmax(val_acc)))\n",
    "plt.axhline(y=test_data_accuracy, c='r', label='test data accuracy at best epoch: {:.3f}'.format(test_data_accuracy))\n",
    "plt.legend()\n",
    "plt.show()\n",
    "\n",
    "from winsound import Beep\n",
    "Beep(1000, 100)"
   ]
  },
  {
   "cell_type": "markdown",
   "id": "363a2bf9",
   "metadata": {},
   "source": [
    "<h1>M. Nielsen got a max test accuracy of 97.8%. Here following the same network I got a max test accuracy of 95.5%. </h1>\n",
    "<h1>Total time=339s</h1>"
   ]
  },
  {
   "cell_type": "code",
   "execution_count": 20,
   "id": "41e8293f",
   "metadata": {},
   "outputs": [
    {
     "name": "stdout",
     "output_type": "stream",
     "text": [
      "[0.8337399959564209, 0.8949599862098694, 0.9112600088119507, 0.9219200015068054, 0.9297599792480469, 0.9363999962806702, 0.9417600035667419, 0.9458799958229065, 0.9492599964141846, 0.9522200226783752, 0.9565799832344055, 0.9577000141143799, 0.9614400267601013, 0.9626799821853638, 0.9652600288391113, 0.9674199819564819, 0.9694399833679199, 0.9703999757766724, 0.9721599817276001, 0.9734799861907959, 0.9752399921417236, 0.9764999747276306, 0.9777799844741821, 0.979640007019043, 0.9803400039672852, 0.9809600114822388, 0.9822999835014343, 0.983519971370697, 0.9846400022506714, 0.985260009765625, 0.986240029335022, 0.9871399998664856, 0.9879599809646606, 0.9886000156402588, 0.9896600246429443, 0.9898800253868103, 0.9910200238227844, 0.9914600253105164, 0.9917799830436707, 0.9926999807357788, 0.992900013923645, 0.9937000274658203, 0.9940599799156189, 0.9942600131034851, 0.995140016078949, 0.995199978351593, 0.995419979095459, 0.9957799911499023, 0.9963200092315674, 0.996720016002655, 0.9970999956130981, 0.9972400069236755, 0.9974200129508972, 0.9976000189781189, 0.9978600144386292, 0.9980000257492065, 0.9983000159263611, 0.9982799887657166, 0.9984400272369385, 0.9986799955368042]\n"
     ]
    }
   ],
   "source": [
    "print(acc)"
   ]
  },
  {
   "cell_type": "code",
   "execution_count": 22,
   "id": "f3654b39",
   "metadata": {},
   "outputs": [
    {
     "name": "stdout",
     "output_type": "stream",
     "text": [
      "[0.5391616225242615, 0.3466378152370453, 0.29168784618377686, 0.2564140558242798, 0.2300420105457306, 0.20932002365589142, 0.1914234757423401, 0.1770397424697876, 0.1655629277229309, 0.15489311516284943, 0.1442030519247055, 0.13654735684394836, 0.12774406373500824, 0.12100760638713837, 0.11480771750211716, 0.1077815592288971, 0.10197095572948456, 0.09684765338897705, 0.09212876111268997, 0.08777882158756256, 0.08317340910434723, 0.07956305891275406, 0.07557958364486694, 0.071961410343647, 0.06857181340456009, 0.06541956216096878, 0.06256955862045288, 0.05924274027347565, 0.05625591427087784, 0.05393103510141373, 0.051271431148052216, 0.049122005701065063, 0.04641368240118027, 0.044499851763248444, 0.04244166612625122, 0.040490034967660904, 0.03856736049056053, 0.036796391010284424, 0.03532294183969498, 0.033553026616573334, 0.032054588198661804, 0.0303646307438612, 0.029118428006768227, 0.028175998479127884, 0.026741091161966324, 0.025471115484833717, 0.024437986314296722, 0.023455003276467323, 0.0224283616989851, 0.021407591179013252, 0.020404072478413582, 0.019680054858326912, 0.01880938746035099, 0.018063846975564957, 0.017276005819439888, 0.016562266275286674, 0.01592918671667576, 0.015356050804257393, 0.014751721173524857, 0.014161485247313976]\n"
     ]
    }
   ],
   "source": [
    "print(loss)"
   ]
  },
  {
   "cell_type": "code",
   "execution_count": 24,
   "id": "95520b47",
   "metadata": {},
   "outputs": [
    {
     "name": "stdout",
     "output_type": "stream",
     "text": [
      "[0.8921999931335449, 0.9090999960899353, 0.9187999963760376, 0.9225999712944031, 0.9282000064849854, 0.9332000017166138, 0.9369000196456909, 0.9368000030517578, 0.9422000050544739, 0.9423999786376953, 0.9451000094413757, 0.9455000162124634, 0.9462000131607056, 0.9476000070571899, 0.9478999972343445, 0.9465000033378601, 0.9502000212669373, 0.9501000046730042, 0.9502999782562256, 0.9524999856948853, 0.9509000182151794, 0.9524999856948853, 0.9520000219345093, 0.9524999856948853, 0.953499972820282, 0.9531999826431274, 0.951200008392334, 0.9521999955177307, 0.9531999826431274, 0.9527999758720398, 0.9528999924659729, 0.9539999961853027, 0.9534000158309937, 0.9539999961853027, 0.9532999992370605, 0.9549999833106995, 0.9534000158309937, 0.9534000158309937, 0.953000009059906, 0.9539999961853027, 0.9545000195503235, 0.9526000022888184, 0.954800009727478, 0.9539999961853027, 0.9538999795913696, 0.9542999863624573, 0.9544000029563904, 0.9542999863624573, 0.9539999961853027, 0.9546999931335449, 0.9549999833106995, 0.9557999968528748, 0.9542999863624573, 0.9556999802589417, 0.9545000195503235, 0.9553999900817871, 0.9550999999046326, 0.9559999704360962, 0.9553999900817871, 0.955299973487854]\n"
     ]
    }
   ],
   "source": [
    "print(val_acc)"
   ]
  },
  {
   "cell_type": "code",
   "execution_count": 25,
   "id": "821e2c86",
   "metadata": {},
   "outputs": [
    {
     "name": "stdout",
     "output_type": "stream",
     "text": [
      "[0.35073912143707275, 0.30326151847839355, 0.268372118473053, 0.2629871964454651, 0.24077795445919037, 0.22318515181541443, 0.21329687535762787, 0.219068244099617, 0.1994725465774536, 0.19449879229068756, 0.19272157549858093, 0.19230280816555023, 0.18833908438682556, 0.18263183534145355, 0.1886449009180069, 0.18652255833148956, 0.17942674458026886, 0.1808289736509323, 0.17870192229747772, 0.17494475841522217, 0.17882190644741058, 0.17833693325519562, 0.17603185772895813, 0.17372961342334747, 0.1769852489233017, 0.17747178673744202, 0.17983199656009674, 0.1799338310956955, 0.1779390126466751, 0.17720244824886322, 0.17683756351470947, 0.17797541618347168, 0.1756598949432373, 0.17800070345401764, 0.17997153103351593, 0.1810634583234787, 0.18088048696517944, 0.18072675168514252, 0.181837797164917, 0.1830606907606125, 0.18402476608753204, 0.18369269371032715, 0.18360646069049835, 0.18646122515201569, 0.1845647692680359, 0.1892125904560089, 0.188062846660614, 0.18927952647209167, 0.1907821148633957, 0.1905888468027115, 0.19152145087718964, 0.19231824576854706, 0.19487455487251282, 0.19374243915081024, 0.19452397525310516, 0.19543012976646423, 0.19606636464595795, 0.19671761989593506, 0.19749191403388977, 0.19709031283855438]\n"
     ]
    }
   ],
   "source": [
    "print(val_loss)"
   ]
  },
  {
   "cell_type": "code",
   "execution_count": null,
   "id": "af78f97a",
   "metadata": {},
   "outputs": [],
   "source": []
  }
 ],
 "metadata": {
  "kernelspec": {
   "display_name": "Python 3",
   "language": "python",
   "name": "python3"
  },
  "language_info": {
   "codemirror_mode": {
    "name": "ipython",
    "version": 3
   },
   "file_extension": ".py",
   "mimetype": "text/x-python",
   "name": "python",
   "nbconvert_exporter": "python",
   "pygments_lexer": "ipython3",
   "version": "3.6.8"
  }
 },
 "nbformat": 4,
 "nbformat_minor": 5
}
